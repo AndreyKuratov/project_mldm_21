{
  "nbformat": 4,
  "nbformat_minor": 0,
  "metadata": {
    "colab": {
      "name": "MLDM-proj-6 crt data sets from labels and img ",
      "provenance": [],
      "authorship_tag": "ABX9TyORjglwzGMWd+dZ/sOL66FG",
      "include_colab_link": true
    },
    "kernelspec": {
      "name": "python3",
      "display_name": "Python 3"
    },
    "language_info": {
      "name": "python"
    }
  },
  "cells": [
    {
      "cell_type": "markdown",
      "metadata": {
        "id": "view-in-github",
        "colab_type": "text"
      },
      "source": [
        "<a href=\"https://colab.research.google.com/github/AndreyKuratov/project_mldm_21/blob/main/MLDM_proj_6_crt_data_sets_from_labels_and_img.ipynb\" target=\"_parent\"><img src=\"https://colab.research.google.com/assets/colab-badge.svg\" alt=\"Open In Colab\"/></a>"
      ]
    },
    {
      "cell_type": "code",
      "source": [
        "from google.colab import drive\n",
        "drive.mount('/content/drive')"
      ],
      "metadata": {
        "colab": {
          "base_uri": "https://localhost:8080/"
        },
        "id": "RYujsNy7WOL8",
        "outputId": "bda25f1c-da17-4738-8c00-38da9a7c8688"
      },
      "execution_count": 1,
      "outputs": [
        {
          "output_type": "stream",
          "name": "stdout",
          "text": [
            "Mounted at /content/drive\n"
          ]
        }
      ]
    },
    {
      "cell_type": "code",
      "source": [
        "import numpy as np\n",
        "import pandas as pd\n",
        "import matplotlib.pyplot as plt\n",
        "import soundfile as sf\n",
        "import scipy.signal as signal\n",
        "import os\n",
        "from tqdm import tqdm\n",
        "\n",
        "import os\n",
        "import csv\n",
        "import numpy as np\n",
        "import pandas as pd\n",
        "from pathlib import Path\n",
        "from PIL import Image\n",
        "\n",
        "import librosa as lb \n",
        "import librosa.display\n",
        "import matplotlib.pyplot as plt\n",
        "import IPython.display as ipd\n",
        "\n",
        "from skimage.transform import resize\n",
        "from scipy import stats\n",
        "\n",
        "from sklearn.preprocessing import MinMaxScaler\n",
        "from skimage.transform import resize\n",
        "\n",
        "import torchvision.models as models\n",
        "import torch\n",
        "\n",
        "import torch.nn as nn\n",
        "import torch.optim as optim\n",
        "import numpy as np\n",
        "import torchvision\n",
        "from torchvision import datasets, models, transforms\n",
        "\n",
        "import torch\n",
        "from torch.utils.data import Dataset\n",
        "from torchvision import datasets\n",
        "from torchvision.transforms import ToTensor\n",
        "import matplotlib.pyplot as plt\n",
        "import os\n",
        "import pandas as pd\n",
        "from torchvision.io import read_image\n",
        "from torch.utils.data import DataLoader"
      ],
      "metadata": {
        "id": "s2osE4vVWMzH"
      },
      "execution_count": 2,
      "outputs": []
    },
    {
      "cell_type": "code",
      "execution_count": 3,
      "metadata": {
        "id": "qdAOyDIs09rI"
      },
      "outputs": [],
      "source": [
        "PATH_TO_DIR = '/content/drive/MyDrive/mldm21_project/'\n",
        "PATH_TO_SAVE = '/content/drive/MyDrive/mldm21_project/'\n",
        "\n",
        "data_tp = np.load(PATH_TO_SAVE+'sr_48e3_nfft_2e11_hlop_2e9_pict_256x512_u8_tp.npz',allow_pickle=True)\n",
        "# 'imgs' 'labels'\n",
        "data_tp_augSftGss = np.load(PATH_TO_SAVE+'augShifGauss_tp_256x512_u8.npz',allow_pickle=True)\n",
        "# 'imgs' 'labels'\n",
        "#data_tp_augbigGss = np.load(PATH_TO_SAVE+'sr_48e3_nfft_2e11_hlop_2e9_pict_256x512_u8_tp.npz',allow_pickle=True)\n",
        "# 'imgs' 'labels'\n",
        "data_fp = np.load(PATH_TO_SAVE+'sr_48e3_nfft_2e11_hlop_2e9_pict_256x512_u8_fp.npz',allow_pickle=True)\n",
        "# 'imgs' 'labels'\n",
        "\n",
        "data_majorTest = np.load(PATH_TO_SAVE+'sr_48e3_nfft_2e11_hlop_2e9_pict_256x512_u8_majorTest.npz',allow_pickle=True)\n",
        "# 'imgs' 'labels'\n",
        "labels = np.load(PATH_TO_SAVE+'labels_simple_v2.npz')\n",
        "# 'files_fp' 'labels_fp' 'files_tp' 'labels_tp'\n",
        "\n",
        "train_files = np.load('/content/drive/MyDrive/mldm21_project/train_ids_0.npy',allow_pickle=True) \n",
        "test_files = np.load('/content/drive/MyDrive/mldm21_project/test_ids_0.npy',allow_pickle=True) \n",
        "\n",
        "pd_fp = pd.read_csv('/content/drive/MyDrive/mldm21_project/train_fp.csv')\n",
        "pd_tp = pd.read_csv('/content/drive/MyDrive/mldm21_project/train_tp.csv')"
      ]
    },
    {
      "cell_type": "code",
      "source": [
        "mask_test = np.isin(data_tp['labels'], test_files)\n",
        "mask_train = ~np.isin(data_tp['labels'], test_files)"
      ],
      "metadata": {
        "id": "OOXRjGna2XXL"
      },
      "execution_count": 4,
      "outputs": []
    },
    {
      "cell_type": "code",
      "source": [
        "TRAIN_DATA_TP = data_tp['imgs'][mask_train]\n",
        "TRAIN_LABEL_TP = labels['labels_tp'][mask_train]\n",
        "TRAIN_DATA_FP = data_fp['imgs']\n",
        "TRAIN_LABEL_FP = labels['labels_fp']\n",
        "\n",
        "TRAIN_DATA = np.concatenate((TRAIN_DATA_TP,TRAIN_DATA_FP),axis=0)\n",
        "TRAIN_LABEL = np.concatenate((TRAIN_LABEL_TP,TRAIN_LABEL_FP),axis=0).copy()\n",
        "\n",
        "TEST_DATA = data_tp['imgs'][mask_test]\n",
        "TEST_LABEL = labels['labels_tp'][mask_test].copy()\n",
        "\n",
        "TRAIN_DATA = np.swapaxes(TRAIN_DATA,1,3).copy()\n",
        "TEST_DATA = np.swapaxes(TEST_DATA,1,3).copy()\n"
      ],
      "metadata": {
        "id": "Vl1Xc-_MWTwL"
      },
      "execution_count": null,
      "outputs": []
    },
    {
      "cell_type": "code",
      "source": [
        "TRAIN_DATA_TP_SG = data_tp_augSftGss['imgs'][mask_train]\n",
        "TRAIN_DATA_TP_SG = np.swapaxes(TRAIN_DATA_TP_SG,1,3).copy()\n",
        "TRAIN_LABEL_TP_SG = labels['labels_tp'][mask_train]\n",
        "\n",
        "PATH_TO_SAVE = '/content/drive/MyDrive/mldm21_project/'\n",
        "np.savez(PATH_TO_SAVE+'pure_train_tp_ShiftGauss',data=TRAIN_DATA_TP_SG,labels=TRAIN_LABEL_TP_SG)"
      ],
      "metadata": {
        "id": "iwYoBqEeW8yE"
      },
      "execution_count": 5,
      "outputs": []
    },
    {
      "cell_type": "code",
      "source": [
        "MAJOR_TEST = np.swapaxes(data_majorTest['imgs'],1,3).copy()\n",
        "MAJOR_FILES = data_majorTest['labels']"
      ],
      "metadata": {
        "id": "ehlz3mqGWVKY"
      },
      "execution_count": null,
      "outputs": []
    },
    {
      "cell_type": "code",
      "source": [
        "PATH_TO_SAVE = '/content/drive/MyDrive/mldm21_project/'\n",
        "np.savez(PATH_TO_SAVE+'pure_train',data=TRAIN_DATA,labels=TRAIN_LABEL)\n",
        "np.savez(PATH_TO_SAVE+'pure_test',data=TEST_DATA,labels=TEST_LABEL)\n",
        "np.savez(PATH_TO_SAVE+'MAJOR_test', data =MAJOR_TEST, files=MAJOR_FILES)"
      ],
      "metadata": {
        "id": "qjXCJNgDWXiB"
      },
      "execution_count": null,
      "outputs": []
    }
  ]
}