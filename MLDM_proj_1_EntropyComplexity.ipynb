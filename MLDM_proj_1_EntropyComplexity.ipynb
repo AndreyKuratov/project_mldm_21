{
  "nbformat": 4,
  "nbformat_minor": 0,
  "metadata": {
    "colab": {
      "name": "MLDM-proj-1 EntropyComplexity",
      "provenance": [],
      "collapsed_sections": [
        "9qDpMsl8L-ZZ"
      ],
      "authorship_tag": "ABX9TyPOx1Qgyr4vjxTBVDzrcteV",
      "include_colab_link": true
    },
    "kernelspec": {
      "name": "python3",
      "display_name": "Python 3"
    },
    "language_info": {
      "name": "python"
    }
  },
  "cells": [
    {
      "cell_type": "markdown",
      "metadata": {
        "id": "view-in-github",
        "colab_type": "text"
      },
      "source": [
        "<a href=\"https://colab.research.google.com/github/AndreyKuratov/project_mldm_21/blob/main/MLDM_proj_1_EntropyComplexity.ipynb\" target=\"_parent\"><img src=\"https://colab.research.google.com/assets/colab-badge.svg\" alt=\"Open In Colab\"/></a>"
      ]
    },
    {
      "cell_type": "markdown",
      "metadata": {
        "id": "tsTiChLfcdn5"
      },
      "source": [
        "1. Использование классификации с помощью разделения на плоскости Энтропия сложность"
      ]
    },
    {
      "cell_type": "markdown",
      "metadata": {
        "id": "ZOg3ZpT0w13y"
      },
      "source": [
        "Знакомство с данными"
      ]
    },
    {
      "cell_type": "code",
      "metadata": {
        "colab": {
          "base_uri": "https://localhost:8080/"
        },
        "id": "Bf-jHmNywUlB",
        "outputId": "7d20201f-9aad-4bf1-9c9a-7bf6f6ee03d6"
      },
      "source": [
        "from google.colab import drive\n",
        "drive.mount('/content/drive')"
      ],
      "execution_count": 2,
      "outputs": [
        {
          "output_type": "stream",
          "name": "stdout",
          "text": [
            "Drive already mounted at /content/drive; to attempt to forcibly remount, call drive.mount(\"/content/drive\", force_remount=True).\n"
          ]
        }
      ]
    },
    {
      "cell_type": "code",
      "metadata": {
        "colab": {
          "base_uri": "https://localhost:8080/"
        },
        "id": "A2WZASfCyBbA",
        "outputId": "5f436786-5912-4bd8-bce3-532ec1d74220"
      },
      "source": [
        "import numpy as np\n",
        "import pandas as pd\n",
        "import matplotlib.pyplot as plt\n",
        "import soundfile as sf\n",
        "import scipy.signal as signal\n",
        "import os\n",
        "import tqdm\n",
        "!pip install ordpy\n",
        "import ordpy"
      ],
      "execution_count": 3,
      "outputs": [
        {
          "output_type": "stream",
          "name": "stdout",
          "text": [
            "Requirement already satisfied: ordpy in /usr/local/lib/python3.7/dist-packages (1.0.6)\n"
          ]
        }
      ]
    },
    {
      "cell_type": "code",
      "metadata": {
        "id": "osaYxvmvw45p"
      },
      "source": [
        "PATH_TO_DIR = '/content/drive/MyDrive/mldm21_project/'"
      ],
      "execution_count": 3,
      "outputs": []
    },
    {
      "cell_type": "markdown",
      "metadata": {
        "id": "9qDpMsl8L-ZZ"
      },
      "source": [
        "# Знакомство с данными"
      ]
    },
    {
      "cell_type": "code",
      "metadata": {
        "id": "Z2VkoPqux9cG"
      },
      "source": [
        "data, samplerate = sf.read(\"/content/drive/MyDrive/mldm21_project/test/000316da7.flac\")"
      ],
      "execution_count": 4,
      "outputs": []
    },
    {
      "cell_type": "code",
      "metadata": {
        "colab": {
          "base_uri": "https://localhost:8080/",
          "height": 295
        },
        "id": "ISntoRI35s_n",
        "outputId": "a1c51c2a-b23a-4deb-ce33-ef95464609f4"
      },
      "source": [
        "plt.plot(data)"
      ],
      "execution_count": 5,
      "outputs": [
        {
          "output_type": "execute_result",
          "data": {
            "text/plain": [
              "[<matplotlib.lines.Line2D at 0x7f9af66811d0>]"
            ]
          },
          "metadata": {},
          "execution_count": 5
        },
        {
          "output_type": "display_data",
          "data": {
            "image/png": "[encoded data removed]",
            "text/plain": [
              "<Figure size 432x288 with 1 Axes>"
            ]
          },
          "metadata": {
            "needs_background": "light"
          }
        }
      ]
    },
    {
      "cell_type": "code",
      "metadata": {
        "colab": {
          "base_uri": "https://localhost:8080/"
        },
        "id": "-5VD3SYL-QKi",
        "outputId": "056ab7d6-a8b9-4786-da08-3e59e991b2ed"
      },
      "source": [
        "len(data)/samplerate"
      ],
      "execution_count": 6,
      "outputs": [
        {
          "output_type": "execute_result",
          "data": {
            "text/plain": [
              "60.0"
            ]
          },
          "metadata": {},
          "execution_count": 6
        }
      ]
    },
    {
      "cell_type": "code",
      "metadata": {
        "colab": {
          "base_uri": "https://localhost:8080/",
          "height": 296
        },
        "id": "g9oTZdTV5uGm",
        "outputId": "5fd75cb5-5d80-4202-f37c-72790e322e59"
      },
      "source": [
        "freq, time, Sxx = signal.spectrogram(data, samplerate, scaling='spectrum')\n",
        "plt.figure()\n",
        "plt.pcolormesh(time, freq, np.log(Sxx))\n",
        "\n",
        "# add axis labels\n",
        "plt.ylabel('Frequency [Hz]')\n",
        "plt.xlabel('Time [sec]')"
      ],
      "execution_count": 7,
      "outputs": [
        {
          "output_type": "execute_result",
          "data": {
            "text/plain": [
              "Text(0.5, 0, 'Time [sec]')"
            ]
          },
          "metadata": {},
          "execution_count": 7
        },
        {
          "output_type": "display_data",
          "data": {
            "image/png": "[encoded data removed]",
            "text/plain": [
              "<Figure size 432x288 with 1 Axes>"
            ]
          },
          "metadata": {
            "needs_background": "light"
          }
        }
      ]
    },
    {
      "cell_type": "code",
      "metadata": {
        "id": "z9FIkm3o6FJn"
      },
      "source": [
        "dT = 0.1\n",
        "len_record = len(data)\n",
        "num_steps = int(samplerate*dT)\n",
        "f_spectrogram = [np.abs(np.fft.fft(data[samplerate*i:samplerate*i+num_steps])) for i in np.arange(0,5)]"
      ],
      "execution_count": 8,
      "outputs": []
    },
    {
      "cell_type": "code",
      "metadata": {
        "id": "fP9cgjcp6Kwq"
      },
      "source": [
        "for idata in f_spectrogram:\n",
        "  plt.figure()\n",
        "  plt.plot(idata)"
      ],
      "execution_count": null,
      "outputs": []
    },
    {
      "cell_type": "code",
      "metadata": {
        "id": "_sDfARRwCPrv"
      },
      "source": [
        "data_pd = pd.read_csv('/content/drive/MyDrive/mldm21_project/train_fp.csv')"
      ],
      "execution_count": 11,
      "outputs": []
    },
    {
      "cell_type": "code",
      "metadata": {
        "colab": {
          "base_uri": "https://localhost:8080/",
          "height": 206
        },
        "id": "zpiVHxKMHnLF",
        "outputId": "f74ebbb7-5d4b-4a27-f644-f23a13617779"
      },
      "source": [
        "data_pd.head()"
      ],
      "execution_count": 16,
      "outputs": [
        {
          "output_type": "execute_result",
          "data": {
            "text/html": [
              "<div>\n",
              "<style scoped>\n",
              "    .dataframe tbody tr th:only-of-type {\n",
              "        vertical-align: middle;\n",
              "    }\n",
              "\n",
              "    .dataframe tbody tr th {\n",
              "        vertical-align: top;\n",
              "    }\n",
              "\n",
              "    .dataframe thead th {\n",
              "        text-align: right;\n",
              "    }\n",
              "</style>\n",
              "<table border=\"1\" class=\"dataframe\">\n",
              "  <thead>\n",
              "    <tr style=\"text-align: right;\">\n",
              "      <th></th>\n",
              "      <th>recording_id</th>\n",
              "      <th>species_id</th>\n",
              "      <th>songtype_id</th>\n",
              "      <th>t_min</th>\n",
              "      <th>f_min</th>\n",
              "      <th>t_max</th>\n",
              "      <th>f_max</th>\n",
              "    </tr>\n",
              "  </thead>\n",
              "  <tbody>\n",
              "    <tr>\n",
              "      <th>0</th>\n",
              "      <td>00204008d</td>\n",
              "      <td>21</td>\n",
              "      <td>1</td>\n",
              "      <td>13.8400</td>\n",
              "      <td>3281.2500</td>\n",
              "      <td>14.9333</td>\n",
              "      <td>4125.0000</td>\n",
              "    </tr>\n",
              "    <tr>\n",
              "      <th>1</th>\n",
              "      <td>00204008d</td>\n",
              "      <td>8</td>\n",
              "      <td>1</td>\n",
              "      <td>24.4960</td>\n",
              "      <td>3750.0000</td>\n",
              "      <td>28.6187</td>\n",
              "      <td>5531.2500</td>\n",
              "    </tr>\n",
              "    <tr>\n",
              "      <th>2</th>\n",
              "      <td>00204008d</td>\n",
              "      <td>4</td>\n",
              "      <td>1</td>\n",
              "      <td>15.0027</td>\n",
              "      <td>2343.7500</td>\n",
              "      <td>16.8587</td>\n",
              "      <td>4218.7500</td>\n",
              "    </tr>\n",
              "    <tr>\n",
              "      <th>3</th>\n",
              "      <td>003b04435</td>\n",
              "      <td>22</td>\n",
              "      <td>1</td>\n",
              "      <td>43.2533</td>\n",
              "      <td>10687.5000</td>\n",
              "      <td>44.8587</td>\n",
              "      <td>13687.5000</td>\n",
              "    </tr>\n",
              "    <tr>\n",
              "      <th>4</th>\n",
              "      <td>003b04435</td>\n",
              "      <td>23</td>\n",
              "      <td>1</td>\n",
              "      <td>9.1254</td>\n",
              "      <td>7235.1562</td>\n",
              "      <td>15.2091</td>\n",
              "      <td>11283.3984</td>\n",
              "    </tr>\n",
              "  </tbody>\n",
              "</table>\n",
              "</div>"
            ],
            "text/plain": [
              "  recording_id  species_id  songtype_id  ...       f_min    t_max       f_max\n",
              "0    00204008d          21            1  ...   3281.2500  14.9333   4125.0000\n",
              "1    00204008d           8            1  ...   3750.0000  28.6187   5531.2500\n",
              "2    00204008d           4            1  ...   2343.7500  16.8587   4218.7500\n",
              "3    003b04435          22            1  ...  10687.5000  44.8587  13687.5000\n",
              "4    003b04435          23            1  ...   7235.1562  15.2091  11283.3984\n",
              "\n",
              "[5 rows x 7 columns]"
            ]
          },
          "metadata": {},
          "execution_count": 16
        }
      ]
    },
    {
      "cell_type": "code",
      "metadata": {
        "colab": {
          "base_uri": "https://localhost:8080/",
          "height": 455
        },
        "id": "pHO1DfjoHRkG",
        "outputId": "9bd76897-d8a6-4636-979e-49006fa3d5de"
      },
      "source": [
        "data_pd.groupby(['recording_id']).count()"
      ],
      "execution_count": 24,
      "outputs": [
        {
          "output_type": "execute_result",
          "data": {
            "text/html": [
              "<div>\n",
              "<style scoped>\n",
              "    .dataframe tbody tr th:only-of-type {\n",
              "        vertical-align: middle;\n",
              "    }\n",
              "\n",
              "    .dataframe tbody tr th {\n",
              "        vertical-align: top;\n",
              "    }\n",
              "\n",
              "    .dataframe thead th {\n",
              "        text-align: right;\n",
              "    }\n",
              "</style>\n",
              "<table border=\"1\" class=\"dataframe\">\n",
              "  <thead>\n",
              "    <tr style=\"text-align: right;\">\n",
              "      <th></th>\n",
              "      <th>species_id</th>\n",
              "      <th>songtype_id</th>\n",
              "      <th>t_min</th>\n",
              "      <th>f_min</th>\n",
              "      <th>t_max</th>\n",
              "      <th>f_max</th>\n",
              "    </tr>\n",
              "    <tr>\n",
              "      <th>recording_id</th>\n",
              "      <th></th>\n",
              "      <th></th>\n",
              "      <th></th>\n",
              "      <th></th>\n",
              "      <th></th>\n",
              "      <th></th>\n",
              "    </tr>\n",
              "  </thead>\n",
              "  <tbody>\n",
              "    <tr>\n",
              "      <th>00204008d</th>\n",
              "      <td>3</td>\n",
              "      <td>3</td>\n",
              "      <td>3</td>\n",
              "      <td>3</td>\n",
              "      <td>3</td>\n",
              "      <td>3</td>\n",
              "    </tr>\n",
              "    <tr>\n",
              "      <th>003b04435</th>\n",
              "      <td>2</td>\n",
              "      <td>2</td>\n",
              "      <td>2</td>\n",
              "      <td>2</td>\n",
              "      <td>2</td>\n",
              "      <td>2</td>\n",
              "    </tr>\n",
              "    <tr>\n",
              "      <th>005f1f9a5</th>\n",
              "      <td>1</td>\n",
              "      <td>1</td>\n",
              "      <td>1</td>\n",
              "      <td>1</td>\n",
              "      <td>1</td>\n",
              "      <td>1</td>\n",
              "    </tr>\n",
              "    <tr>\n",
              "      <th>0072f0839</th>\n",
              "      <td>1</td>\n",
              "      <td>1</td>\n",
              "      <td>1</td>\n",
              "      <td>1</td>\n",
              "      <td>1</td>\n",
              "      <td>1</td>\n",
              "    </tr>\n",
              "    <tr>\n",
              "      <th>0079ff47b</th>\n",
              "      <td>6</td>\n",
              "      <td>6</td>\n",
              "      <td>6</td>\n",
              "      <td>6</td>\n",
              "      <td>6</td>\n",
              "      <td>6</td>\n",
              "    </tr>\n",
              "    <tr>\n",
              "      <th>...</th>\n",
              "      <td>...</td>\n",
              "      <td>...</td>\n",
              "      <td>...</td>\n",
              "      <td>...</td>\n",
              "      <td>...</td>\n",
              "      <td>...</td>\n",
              "    </tr>\n",
              "    <tr>\n",
              "      <th>ffc6031f8</th>\n",
              "      <td>2</td>\n",
              "      <td>2</td>\n",
              "      <td>2</td>\n",
              "      <td>2</td>\n",
              "      <td>2</td>\n",
              "      <td>2</td>\n",
              "    </tr>\n",
              "    <tr>\n",
              "      <th>ffd88cd84</th>\n",
              "      <td>4</td>\n",
              "      <td>4</td>\n",
              "      <td>4</td>\n",
              "      <td>4</td>\n",
              "      <td>4</td>\n",
              "      <td>4</td>\n",
              "    </tr>\n",
              "    <tr>\n",
              "      <th>ffebe7313</th>\n",
              "      <td>1</td>\n",
              "      <td>1</td>\n",
              "      <td>1</td>\n",
              "      <td>1</td>\n",
              "      <td>1</td>\n",
              "      <td>1</td>\n",
              "    </tr>\n",
              "    <tr>\n",
              "      <th>fff163132</th>\n",
              "      <td>2</td>\n",
              "      <td>2</td>\n",
              "      <td>2</td>\n",
              "      <td>2</td>\n",
              "      <td>2</td>\n",
              "      <td>2</td>\n",
              "    </tr>\n",
              "    <tr>\n",
              "      <th>fffb79246</th>\n",
              "      <td>1</td>\n",
              "      <td>1</td>\n",
              "      <td>1</td>\n",
              "      <td>1</td>\n",
              "      <td>1</td>\n",
              "      <td>1</td>\n",
              "    </tr>\n",
              "  </tbody>\n",
              "</table>\n",
              "<p>3958 rows × 6 columns</p>\n",
              "</div>"
            ],
            "text/plain": [
              "              species_id  songtype_id  t_min  f_min  t_max  f_max\n",
              "recording_id                                                     \n",
              "00204008d              3            3      3      3      3      3\n",
              "003b04435              2            2      2      2      2      2\n",
              "005f1f9a5              1            1      1      1      1      1\n",
              "0072f0839              1            1      1      1      1      1\n",
              "0079ff47b              6            6      6      6      6      6\n",
              "...                  ...          ...    ...    ...    ...    ...\n",
              "ffc6031f8              2            2      2      2      2      2\n",
              "ffd88cd84              4            4      4      4      4      4\n",
              "ffebe7313              1            1      1      1      1      1\n",
              "fff163132              2            2      2      2      2      2\n",
              "fffb79246              1            1      1      1      1      1\n",
              "\n",
              "[3958 rows x 6 columns]"
            ]
          },
          "metadata": {},
          "execution_count": 24
        }
      ]
    },
    {
      "cell_type": "code",
      "metadata": {
        "colab": {
          "base_uri": "https://localhost:8080/",
          "height": 143
        },
        "id": "zIyfL8dnHdNG",
        "outputId": "9bf3999a-090a-49b3-efd7-dee4e4bf0d9f"
      },
      "source": [
        "data_pd[data_pd['recording_id']=='00204008d']"
      ],
      "execution_count": 25,
      "outputs": [
        {
          "output_type": "execute_result",
          "data": {
            "text/html": [
              "<div>\n",
              "<style scoped>\n",
              "    .dataframe tbody tr th:only-of-type {\n",
              "        vertical-align: middle;\n",
              "    }\n",
              "\n",
              "    .dataframe tbody tr th {\n",
              "        vertical-align: top;\n",
              "    }\n",
              "\n",
              "    .dataframe thead th {\n",
              "        text-align: right;\n",
              "    }\n",
              "</style>\n",
              "<table border=\"1\" class=\"dataframe\">\n",
              "  <thead>\n",
              "    <tr style=\"text-align: right;\">\n",
              "      <th></th>\n",
              "      <th>recording_id</th>\n",
              "      <th>species_id</th>\n",
              "      <th>songtype_id</th>\n",
              "      <th>t_min</th>\n",
              "      <th>f_min</th>\n",
              "      <th>t_max</th>\n",
              "      <th>f_max</th>\n",
              "    </tr>\n",
              "  </thead>\n",
              "  <tbody>\n",
              "    <tr>\n",
              "      <th>0</th>\n",
              "      <td>00204008d</td>\n",
              "      <td>21</td>\n",
              "      <td>1</td>\n",
              "      <td>13.8400</td>\n",
              "      <td>3281.25</td>\n",
              "      <td>14.9333</td>\n",
              "      <td>4125.00</td>\n",
              "    </tr>\n",
              "    <tr>\n",
              "      <th>1</th>\n",
              "      <td>00204008d</td>\n",
              "      <td>8</td>\n",
              "      <td>1</td>\n",
              "      <td>24.4960</td>\n",
              "      <td>3750.00</td>\n",
              "      <td>28.6187</td>\n",
              "      <td>5531.25</td>\n",
              "    </tr>\n",
              "    <tr>\n",
              "      <th>2</th>\n",
              "      <td>00204008d</td>\n",
              "      <td>4</td>\n",
              "      <td>1</td>\n",
              "      <td>15.0027</td>\n",
              "      <td>2343.75</td>\n",
              "      <td>16.8587</td>\n",
              "      <td>4218.75</td>\n",
              "    </tr>\n",
              "  </tbody>\n",
              "</table>\n",
              "</div>"
            ],
            "text/plain": [
              "  recording_id  species_id  songtype_id    t_min    f_min    t_max    f_max\n",
              "0    00204008d          21            1  13.8400  3281.25  14.9333  4125.00\n",
              "1    00204008d           8            1  24.4960  3750.00  28.6187  5531.25\n",
              "2    00204008d           4            1  15.0027  2343.75  16.8587  4218.75"
            ]
          },
          "metadata": {},
          "execution_count": 25
        }
      ]
    },
    {
      "cell_type": "code",
      "metadata": {
        "id": "a9JltXQV3A6U"
      },
      "source": [
        ""
      ],
      "execution_count": null,
      "outputs": []
    },
    {
      "cell_type": "markdown",
      "metadata": {
        "id": "SgDbeOuUMBZM"
      },
      "source": [
        "# Обработка Данных"
      ]
    },
    {
      "cell_type": "markdown",
      "metadata": {
        "id": "klmX9u1MUDXN"
      },
      "source": [
        "### Функции"
      ]
    },
    {
      "cell_type": "code",
      "metadata": {
        "id": "vygEhLR9MEPz"
      },
      "source": [
        "def loadPath_ID(Path_to_folder='/content/drive/MyDrive/mldm21_project/train/', \n",
        "                path_to_label_file='/content/drive/MyDrive/mldm21_project/train_fp.csv'):\n",
        "  path_to_files = []\n",
        "  id = []\n",
        "  for ipath,_,ifiles in os.walk(Path_to_folder):\n",
        "    for ifile in ifiles:\n",
        "      id.append(ifile.split('.')[0])\n",
        "      path_to_files.append(ipath+ifile)\n",
        "  pd_data = pd.read_csv(path_to_label_file)\n",
        "\n",
        "  return path_to_files, id, pd_data\n",
        "\n",
        "def crtCutVoiceData(paths_to_files,pd_data):\n",
        "  label_arr = []\n",
        "  data_arr = []\n",
        "  for ipath_to_file in tqdm.tqdm(paths_to_files):\n",
        "    data, samplerate = sf.read(ipath_to_file)\n",
        "    id = ipath_to_file.split('/')[-1].split('.')[0]\n",
        "    data_pd_cut = pd_data[pd_data['recording_id']==id] \\\n",
        "    [['species_id', 'songtype_id',\t't_min', 't_max']].values\n",
        "    if len(data_pd_cut)>0:\n",
        "      for iline in data_pd_cut:\n",
        "        label = str(int(iline[0]))+'_'+str(int(iline[1]))\n",
        "        data_cut = data[int(iline[2]*samplerate):int(iline[3]*samplerate)].copy()\n",
        "        label_arr.append(label)\n",
        "        data_arr.append(data_cut)\n",
        "  return data_arr,label_arr"
      ],
      "execution_count": 14,
      "outputs": []
    },
    {
      "cell_type": "code",
      "metadata": {
        "colab": {
          "base_uri": "https://localhost:8080/"
        },
        "id": "2_BFBz1gV_nE",
        "outputId": "e012bc46-970d-4306-e490-d3a375b3e5f1"
      },
      "source": [
        " path_to_files, id, pd_data = loadPath_ID()\n",
        " path_to_files_cut = np.random.choice(path_to_files,size=10)\n",
        " data_arr,label_arr = crtCutVoiceData(path_to_files_cut,pd_data)"
      ],
      "execution_count": 15,
      "outputs": [
        {
          "output_type": "stream",
          "name": "stderr",
          "text": [
            "100%|██████████| 100/100 [00:30<00:00,  3.26it/s]\n"
          ]
        }
      ]
    },
    {
      "cell_type": "code",
      "metadata": {
        "id": "EPuEecJ6g_D8"
      },
      "source": [
        "\n",
        "\n",
        "def z_prt(data,dim_z=10):\n",
        "    \"\"\"\n",
        "    create z-vectors\n",
        "    \"\"\"\n",
        "    length = len(data)\n",
        "    num_z = length - dim_z\n",
        "    z_data = [data[ind:ind+dim_z] for ind in range(num_z)]\n",
        "    return np.array(z_data).copy()\n",
        "\n",
        "def entro_vectors(z_vectors):\n",
        "    i_fst = z_vectors[1:,:]\n",
        "    i_sec = z_vectors[:-1,:]\n",
        "    new_vectors = np.array(i_fst>i_sec,dtype=int)\n",
        "    return new_vectors\n",
        "\n",
        "def entropy(data,z_dim=10,FlagF=True):\n",
        "    max_min_arr = []\n",
        "    z_vects = z_prt(data,dim_z=z_dim)\n",
        "    int_vectors = entro_vectors(z_vects)\n",
        "    uniq_vectors,counts = np.unique(int_vectors,axis=0, return_counts=True)\n",
        "    prob_arr = counts/counts.sum()\n",
        "    num_val = 2**(z_dim) if FlagF else len(counts)\n",
        "    H = -np.multiply(np.log(prob_arr),prob_arr).sum()/np.log(num_val)\n",
        "    return H, prob_arr\n",
        "\n",
        "\n",
        "def cmp_enpy(data,z_dim=10, dbFlag=False):\n",
        "\n",
        "    entropy_n1, prob_dist = entropy(data,z_dim=z_dim)\n",
        "    cell = 2**(z_dim)\n",
        "\n",
        "    prob_uni = np.ones(cell)*(1/cell)\n",
        "    assert np.sum(prob_uni) == 1, 'value {:}'.format(prob_uni)\n",
        "    prob_mix = (np.pad(prob_dist,(0,len(prob_uni)-len(prob_dist))) + prob_uni)/2\n",
        "   \n",
        "\n",
        "    entropy_1 = -(prob_dist*np.log(prob_dist)).sum()\n",
        "    entropy_2 = np.log(cell)\n",
        "    entropy_3 = -(prob_mix*np.log(prob_mix)).sum()\n",
        "    C_norm = 2*np.log(2*cell)-((cell+1)/cell)*np.log(cell+1)-np.log(cell)         #np.log(cell)\n",
        "    Complexity = entropy_n1*(2*entropy_3-entropy_2-entropy_1)/C_norm\n",
        "    if dbFlag:\n",
        "      return entropy_n1, Complexity\n",
        "    return Complexity"
      ],
      "execution_count": 5,
      "outputs": []
    },
    {
      "cell_type": "code",
      "metadata": {
        "id": "mPpv9L4pWYaT"
      },
      "source": [
        "un, cnt = np.unique(label_arr,return_counts=True)"
      ],
      "execution_count": 67,
      "outputs": []
    },
    {
      "cell_type": "code",
      "metadata": {
        "colab": {
          "base_uri": "https://localhost:8080/"
        },
        "id": "9bJC-gSXdntI",
        "outputId": "ff4525fd-aefa-4867-d6bf-c5021656a632"
      },
      "source": [
        "ordpy_dim = 5\n",
        "HC = [ordpy.complexity_entropy(series, dx=ordpy_dim) for series in tqdm.tqdm(data_arr)]\n",
        "#ordpy.complexity_entropy(data_arr[0], dx=5)"
      ],
      "execution_count": 22,
      "outputs": [
        {
          "output_type": "stream",
          "name": "stderr",
          "text": [
            "100%|██████████| 167/167 [03:27<00:00,  1.24s/it]\n"
          ]
        }
      ]
    },
    {
      "cell_type": "code",
      "metadata": {
        "id": "zKirvTw1ZMaB"
      },
      "source": [
        "ar_HC = np.array(HC)\n",
        "ar_lb = np.array(label_arr)"
      ],
      "execution_count": 24,
      "outputs": []
    },
    {
      "cell_type": "code",
      "metadata": {
        "id": "K1ylzZLteEL9"
      },
      "source": [
        "colors = [int((float(i.split('_')[0])*3)) for i in ar_lb]\n",
        "result_pd_df = pd.DataFrame(\n",
        "    {'label':ar_lb,\n",
        "     'H': ar_HC[:,0],\n",
        "     'C': ar_HC[:,1],\n",
        "     'color':colors}\n",
        ")"
      ],
      "execution_count": 47,
      "outputs": []
    },
    {
      "cell_type": "code",
      "metadata": {
        "colab": {
          "base_uri": "https://localhost:8080/",
          "height": 423
        },
        "id": "sbSFbZmmhUiH",
        "outputId": "44843fa0-1266-44ac-a47a-f7e459e4bcb7"
      },
      "source": [
        "result_pd_df"
      ],
      "execution_count": 48,
      "outputs": [
        {
          "output_type": "execute_result",
          "data": {
            "text/html": [
              "<div>\n",
              "<style scoped>\n",
              "    .dataframe tbody tr th:only-of-type {\n",
              "        vertical-align: middle;\n",
              "    }\n",
              "\n",
              "    .dataframe tbody tr th {\n",
              "        vertical-align: top;\n",
              "    }\n",
              "\n",
              "    .dataframe thead th {\n",
              "        text-align: right;\n",
              "    }\n",
              "</style>\n",
              "<table border=\"1\" class=\"dataframe\">\n",
              "  <thead>\n",
              "    <tr style=\"text-align: right;\">\n",
              "      <th></th>\n",
              "      <th>label</th>\n",
              "      <th>H</th>\n",
              "      <th>C</th>\n",
              "      <th>color</th>\n",
              "    </tr>\n",
              "  </thead>\n",
              "  <tbody>\n",
              "    <tr>\n",
              "      <th>0</th>\n",
              "      <td>23_1</td>\n",
              "      <td>0.994511</td>\n",
              "      <td>0.009632</td>\n",
              "      <td>69</td>\n",
              "    </tr>\n",
              "    <tr>\n",
              "      <th>1</th>\n",
              "      <td>3_1</td>\n",
              "      <td>0.973296</td>\n",
              "      <td>0.045148</td>\n",
              "      <td>9</td>\n",
              "    </tr>\n",
              "    <tr>\n",
              "      <th>2</th>\n",
              "      <td>7_1</td>\n",
              "      <td>0.978288</td>\n",
              "      <td>0.036831</td>\n",
              "      <td>21</td>\n",
              "    </tr>\n",
              "    <tr>\n",
              "      <th>3</th>\n",
              "      <td>4_1</td>\n",
              "      <td>0.985620</td>\n",
              "      <td>0.024965</td>\n",
              "      <td>12</td>\n",
              "    </tr>\n",
              "    <tr>\n",
              "      <th>4</th>\n",
              "      <td>5_1</td>\n",
              "      <td>0.962860</td>\n",
              "      <td>0.061708</td>\n",
              "      <td>15</td>\n",
              "    </tr>\n",
              "    <tr>\n",
              "      <th>...</th>\n",
              "      <td>...</td>\n",
              "      <td>...</td>\n",
              "      <td>...</td>\n",
              "      <td>...</td>\n",
              "    </tr>\n",
              "    <tr>\n",
              "      <th>162</th>\n",
              "      <td>13_1</td>\n",
              "      <td>0.506109</td>\n",
              "      <td>0.303163</td>\n",
              "      <td>39</td>\n",
              "    </tr>\n",
              "    <tr>\n",
              "      <th>163</th>\n",
              "      <td>6_1</td>\n",
              "      <td>0.993519</td>\n",
              "      <td>0.011161</td>\n",
              "      <td>18</td>\n",
              "    </tr>\n",
              "    <tr>\n",
              "      <th>164</th>\n",
              "      <td>8_1</td>\n",
              "      <td>0.529136</td>\n",
              "      <td>0.322772</td>\n",
              "      <td>24</td>\n",
              "    </tr>\n",
              "    <tr>\n",
              "      <th>165</th>\n",
              "      <td>23_4</td>\n",
              "      <td>0.531153</td>\n",
              "      <td>0.316024</td>\n",
              "      <td>69</td>\n",
              "    </tr>\n",
              "    <tr>\n",
              "      <th>166</th>\n",
              "      <td>7_1</td>\n",
              "      <td>0.526993</td>\n",
              "      <td>0.314719</td>\n",
              "      <td>21</td>\n",
              "    </tr>\n",
              "  </tbody>\n",
              "</table>\n",
              "<p>167 rows × 4 columns</p>\n",
              "</div>"
            ],
            "text/plain": [
              "    label         H         C  color\n",
              "0    23_1  0.994511  0.009632     69\n",
              "1     3_1  0.973296  0.045148      9\n",
              "2     7_1  0.978288  0.036831     21\n",
              "3     4_1  0.985620  0.024965     12\n",
              "4     5_1  0.962860  0.061708     15\n",
              "..    ...       ...       ...    ...\n",
              "162  13_1  0.506109  0.303163     39\n",
              "163   6_1  0.993519  0.011161     18\n",
              "164   8_1  0.529136  0.322772     24\n",
              "165  23_4  0.531153  0.316024     69\n",
              "166   7_1  0.526993  0.314719     21\n",
              "\n",
              "[167 rows x 4 columns]"
            ]
          },
          "metadata": {},
          "execution_count": 48
        }
      ]
    },
    {
      "cell_type": "code",
      "metadata": {
        "colab": {
          "base_uri": "https://localhost:8080/",
          "height": 282
        },
        "id": "QRuL6izXjNKm",
        "outputId": "fb990b49-aa4c-4623-b04a-6340e2a28851"
      },
      "source": [
        "plt.scatter(result_pd_df['H'],result_pd_df['C'],c=result_pd_df['color'].values,cmap='tab20b')"
      ],
      "execution_count": 50,
      "outputs": [
        {
          "output_type": "execute_result",
          "data": {
            "text/plain": [
              "<matplotlib.collections.PathCollection at 0x7faca27386d0>"
            ]
          },
          "metadata": {},
          "execution_count": 50
        },
        {
          "output_type": "display_data",
          "data": {
            "image/png": "[encoded data removed]",
            "text/plain": [
              "<Figure size 432x288 with 1 Axes>"
            ]
          },
          "metadata": {
            "needs_background": "light"
          }
        }
      ]
    },
    {
      "cell_type": "code",
      "metadata": {
        "id": "c3FhY6BgkeJe"
      },
      "source": [
        ""
      ],
      "execution_count": null,
      "outputs": []
    }
  ]
}