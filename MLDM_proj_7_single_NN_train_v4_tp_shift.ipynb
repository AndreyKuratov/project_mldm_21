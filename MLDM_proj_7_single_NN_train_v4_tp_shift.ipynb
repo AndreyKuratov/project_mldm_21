{
  "nbformat": 4,
  "nbformat_minor": 0,
  "metadata": {
    "colab": {
      "name": "MLDM-proj-7 single NN train v4_tp_shift",
      "provenance": [],
      "collapsed_sections": [],
      "authorship_tag": "ABX9TyPFFTEqOOio2kavGPYfM1Dh",
      "include_colab_link": true
    },
    "kernelspec": {
      "name": "python3",
      "display_name": "Python 3"
    },
    "language_info": {
      "name": "python"
    },
    "widgets": {
      "application/vnd.jupyter.widget-state+json": {
        "9543a0f9a7f642a6ba7e80b61f4965b9": {
          "model_module": "@jupyter-widgets/controls",
          "model_name": "HBoxModel",
          "model_module_version": "1.5.0",
          "state": {
            "_view_name": "HBoxView",
            "_dom_classes": [],
            "_model_name": "HBoxModel",
            "_view_module": "@jupyter-widgets/controls",
            "_model_module_version": "1.5.0",
            "_view_count": null,
            "_view_module_version": "1.5.0",
            "box_style": "",
            "layout": "IPY_MODEL_236573de6ee5413090e022226fe9084a",
            "_model_module": "@jupyter-widgets/controls",
            "children": [
              "IPY_MODEL_a75f26a797814b5f99483cdad8280f47",
              "IPY_MODEL_6f0b0287a3714d8a8e2cc7ba88b9ff71",
              "IPY_MODEL_78ac522b2f40415db3dab5733d44e11a"
            ]
          }
        },
        "236573de6ee5413090e022226fe9084a": {
          "model_module": "@jupyter-widgets/base",
          "model_name": "LayoutModel",
          "model_module_version": "1.2.0",
          "state": {
            "_view_name": "LayoutView",
            "grid_template_rows": null,
            "right": null,
            "justify_content": null,
            "_view_module": "@jupyter-widgets/base",
            "overflow": null,
            "_model_module_version": "1.2.0",
            "_view_count": null,
            "flex_flow": null,
            "width": null,
            "min_width": null,
            "border": null,
            "align_items": null,
            "bottom": null,
            "_model_module": "@jupyter-widgets/base",
            "top": null,
            "grid_column": null,
            "overflow_y": null,
            "overflow_x": null,
            "grid_auto_flow": null,
            "grid_area": null,
            "grid_template_columns": null,
            "flex": null,
            "_model_name": "LayoutModel",
            "justify_items": null,
            "grid_row": null,
            "max_height": null,
            "align_content": null,
            "visibility": null,
            "align_self": null,
            "height": null,
            "min_height": null,
            "padding": null,
            "grid_auto_rows": null,
            "grid_gap": null,
            "max_width": null,
            "order": null,
            "_view_module_version": "1.2.0",
            "grid_template_areas": null,
            "object_position": null,
            "object_fit": null,
            "grid_auto_columns": null,
            "margin": null,
            "display": null,
            "left": null
          }
        },
        "a75f26a797814b5f99483cdad8280f47": {
          "model_module": "@jupyter-widgets/controls",
          "model_name": "HTMLModel",
          "model_module_version": "1.5.0",
          "state": {
            "_view_name": "HTMLView",
            "style": "IPY_MODEL_72a45195e2f24d03b5941ce8cb414cc9",
            "_dom_classes": [],
            "description": "",
            "_model_name": "HTMLModel",
            "placeholder": "​",
            "_view_module": "@jupyter-widgets/controls",
            "_model_module_version": "1.5.0",
            "value": "100%",
            "_view_count": null,
            "_view_module_version": "1.5.0",
            "description_tooltip": null,
            "_model_module": "@jupyter-widgets/controls",
            "layout": "IPY_MODEL_adc53fdf7d0548c5a91bfe7b8148105c"
          }
        },
        "6f0b0287a3714d8a8e2cc7ba88b9ff71": {
          "model_module": "@jupyter-widgets/controls",
          "model_name": "FloatProgressModel",
          "model_module_version": "1.5.0",
          "state": {
            "_view_name": "ProgressView",
            "style": "IPY_MODEL_8b4e201ba1ae4cfe807a43d246a419b5",
            "_dom_classes": [],
            "description": "",
            "_model_name": "FloatProgressModel",
            "bar_style": "success",
            "max": 1992,
            "_view_module": "@jupyter-widgets/controls",
            "_model_module_version": "1.5.0",
            "value": 1992,
            "_view_count": null,
            "_view_module_version": "1.5.0",
            "orientation": "horizontal",
            "min": 0,
            "description_tooltip": null,
            "_model_module": "@jupyter-widgets/controls",
            "layout": "IPY_MODEL_b71b2f8e188e447d871f64638b0001ee"
          }
        },
        "78ac522b2f40415db3dab5733d44e11a": {
          "model_module": "@jupyter-widgets/controls",
          "model_name": "HTMLModel",
          "model_module_version": "1.5.0",
          "state": {
            "_view_name": "HTMLView",
            "style": "IPY_MODEL_58a30fbcd25447d6a03ea6c1961efe22",
            "_dom_classes": [],
            "description": "",
            "_model_name": "HTMLModel",
            "placeholder": "​",
            "_view_module": "@jupyter-widgets/controls",
            "_model_module_version": "1.5.0",
            "value": " 1992/1992 [01:57&lt;00:00, 16.94it/s]",
            "_view_count": null,
            "_view_module_version": "1.5.0",
            "description_tooltip": null,
            "_model_module": "@jupyter-widgets/controls",
            "layout": "IPY_MODEL_2a16df41770244f4956e69a9869e8b11"
          }
        },
        "72a45195e2f24d03b5941ce8cb414cc9": {
          "model_module": "@jupyter-widgets/controls",
          "model_name": "DescriptionStyleModel",
          "model_module_version": "1.5.0",
          "state": {
            "_view_name": "StyleView",
            "_model_name": "DescriptionStyleModel",
            "description_width": "",
            "_view_module": "@jupyter-widgets/base",
            "_model_module_version": "1.5.0",
            "_view_count": null,
            "_view_module_version": "1.2.0",
            "_model_module": "@jupyter-widgets/controls"
          }
        },
        "adc53fdf7d0548c5a91bfe7b8148105c": {
          "model_module": "@jupyter-widgets/base",
          "model_name": "LayoutModel",
          "model_module_version": "1.2.0",
          "state": {
            "_view_name": "LayoutView",
            "grid_template_rows": null,
            "right": null,
            "justify_content": null,
            "_view_module": "@jupyter-widgets/base",
            "overflow": null,
            "_model_module_version": "1.2.0",
            "_view_count": null,
            "flex_flow": null,
            "width": null,
            "min_width": null,
            "border": null,
            "align_items": null,
            "bottom": null,
            "_model_module": "@jupyter-widgets/base",
            "top": null,
            "grid_column": null,
            "overflow_y": null,
            "overflow_x": null,
            "grid_auto_flow": null,
            "grid_area": null,
            "grid_template_columns": null,
            "flex": null,
            "_model_name": "LayoutModel",
            "justify_items": null,
            "grid_row": null,
            "max_height": null,
            "align_content": null,
            "visibility": null,
            "align_self": null,
            "height": null,
            "min_height": null,
            "padding": null,
            "grid_auto_rows": null,
            "grid_gap": null,
            "max_width": null,
            "order": null,
            "_view_module_version": "1.2.0",
            "grid_template_areas": null,
            "object_position": null,
            "object_fit": null,
            "grid_auto_columns": null,
            "margin": null,
            "display": null,
            "left": null
          }
        },
        "8b4e201ba1ae4cfe807a43d246a419b5": {
          "model_module": "@jupyter-widgets/controls",
          "model_name": "ProgressStyleModel",
          "model_module_version": "1.5.0",
          "state": {
            "_view_name": "StyleView",
            "_model_name": "ProgressStyleModel",
            "description_width": "",
            "_view_module": "@jupyter-widgets/base",
            "_model_module_version": "1.5.0",
            "_view_count": null,
            "_view_module_version": "1.2.0",
            "bar_color": null,
            "_model_module": "@jupyter-widgets/controls"
          }
        },
        "b71b2f8e188e447d871f64638b0001ee": {
          "model_module": "@jupyter-widgets/base",
          "model_name": "LayoutModel",
          "model_module_version": "1.2.0",
          "state": {
            "_view_name": "LayoutView",
            "grid_template_rows": null,
            "right": null,
            "justify_content": null,
            "_view_module": "@jupyter-widgets/base",
            "overflow": null,
            "_model_module_version": "1.2.0",
            "_view_count": null,
            "flex_flow": null,
            "width": null,
            "min_width": null,
            "border": null,
            "align_items": null,
            "bottom": null,
            "_model_module": "@jupyter-widgets/base",
            "top": null,
            "grid_column": null,
            "overflow_y": null,
            "overflow_x": null,
            "grid_auto_flow": null,
            "grid_area": null,
            "grid_template_columns": null,
            "flex": null,
            "_model_name": "LayoutModel",
            "justify_items": null,
            "grid_row": null,
            "max_height": null,
            "align_content": null,
            "visibility": null,
            "align_self": null,
            "height": null,
            "min_height": null,
            "padding": null,
            "grid_auto_rows": null,
            "grid_gap": null,
            "max_width": null,
            "order": null,
            "_view_module_version": "1.2.0",
            "grid_template_areas": null,
            "object_position": null,
            "object_fit": null,
            "grid_auto_columns": null,
            "margin": null,
            "display": null,
            "left": null
          }
        },
        "58a30fbcd25447d6a03ea6c1961efe22": {
          "model_module": "@jupyter-widgets/controls",
          "model_name": "DescriptionStyleModel",
          "model_module_version": "1.5.0",
          "state": {
            "_view_name": "StyleView",
            "_model_name": "DescriptionStyleModel",
            "description_width": "",
            "_view_module": "@jupyter-widgets/base",
            "_model_module_version": "1.5.0",
            "_view_count": null,
            "_view_module_version": "1.2.0",
            "_model_module": "@jupyter-widgets/controls"
          }
        },
        "2a16df41770244f4956e69a9869e8b11": {
          "model_module": "@jupyter-widgets/base",
          "model_name": "LayoutModel",
          "model_module_version": "1.2.0",
          "state": {
            "_view_name": "LayoutView",
            "grid_template_rows": null,
            "right": null,
            "justify_content": null,
            "_view_module": "@jupyter-widgets/base",
            "overflow": null,
            "_model_module_version": "1.2.0",
            "_view_count": null,
            "flex_flow": null,
            "width": null,
            "min_width": null,
            "border": null,
            "align_items": null,
            "bottom": null,
            "_model_module": "@jupyter-widgets/base",
            "top": null,
            "grid_column": null,
            "overflow_y": null,
            "overflow_x": null,
            "grid_auto_flow": null,
            "grid_area": null,
            "grid_template_columns": null,
            "flex": null,
            "_model_name": "LayoutModel",
            "justify_items": null,
            "grid_row": null,
            "max_height": null,
            "align_content": null,
            "visibility": null,
            "align_self": null,
            "height": null,
            "min_height": null,
            "padding": null,
            "grid_auto_rows": null,
            "grid_gap": null,
            "max_width": null,
            "order": null,
            "_view_module_version": "1.2.0",
            "grid_template_areas": null,
            "object_position": null,
            "object_fit": null,
            "grid_auto_columns": null,
            "margin": null,
            "display": null,
            "left": null
          }
        }
      }
    },
    "accelerator": "GPU"
  },
  "cells": [
    {
      "cell_type": "markdown",
      "metadata": {
        "id": "view-in-github",
        "colab_type": "text"
      },
      "source": [
        "<a href=\"https://colab.research.google.com/github/AndreyKuratov/project_mldm_21/blob/main/MLDM_proj_7_single_NN_train_v4_tp_shift.ipynb\" target=\"_parent\"><img src=\"https://colab.research.google.com/assets/colab-badge.svg\" alt=\"Open In Colab\"/></a>"
      ]
    },
    {
      "cell_type": "code",
      "execution_count": 1,
      "metadata": {
        "colab": {
          "base_uri": "https://localhost:8080/"
        },
        "id": "B8rX5ePYxoD2",
        "outputId": "e81c22ca-4244-4c07-cae2-77c4d8a2f9e8"
      },
      "outputs": [
        {
          "output_type": "stream",
          "name": "stdout",
          "text": [
            "Mounted at /content/drive\n"
          ]
        }
      ],
      "source": [
        "from google.colab import drive\n",
        "drive.mount('/content/drive')"
      ]
    },
    {
      "cell_type": "code",
      "source": [
        "import numpy as np\n",
        "import pandas as pd\n",
        "import matplotlib.pyplot as plt\n",
        "import soundfile as sf\n",
        "import scipy.signal as signal\n",
        "import os\n",
        "from tqdm import tqdm\n",
        "import csv\n",
        "from pathlib import Path\n",
        "from PIL import Image\n",
        "import librosa as lb \n",
        "import librosa.display\n",
        "import IPython.display as ipd\n",
        "from skimage.transform import resize\n",
        "from scipy import stats\n",
        "from sklearn.preprocessing import MinMaxScaler\n",
        "from skimage.transform import resize\n",
        "import torchvision.models as models\n",
        "import torch\n",
        "import torch.nn as nn\n",
        "import torch.optim as optim\n",
        "import torchvision\n",
        "from torchvision import datasets, models, transforms\n",
        "from torch.utils.data import Dataset\n",
        "from torchvision.transforms import ToTensor\n",
        "from torchvision.io import read_image\n",
        "from torch.utils.data import DataLoader\n",
        "\n",
        "import torchvision.models as models\n",
        "import torch\n",
        "\n",
        "import torch.nn as nn\n",
        "import torch.optim as optim\n",
        "import numpy as np\n",
        "import torchvision\n",
        "from torchvision import datasets, models, transforms\n",
        "\n",
        "from sklearn.metrics import label_ranking_average_precision_score"
      ],
      "metadata": {
        "id": "3FVPSiKXxu3W"
      },
      "execution_count": 2,
      "outputs": []
    },
    {
      "cell_type": "markdown",
      "source": [
        "# 2. Функции для загрузки теста и трейна и датасеты"
      ],
      "metadata": {
        "id": "phQ6oAOqLAVv"
      }
    },
    {
      "cell_type": "code",
      "source": [
        "def crtclass(mdTp,num_classes=24, pretrained_resnet18=False,pretrained_resnet50=False):\n",
        "  if mdTp == 'Res18':\n",
        "    modelF = models.resnet18(pretrained=pretrained_resnet18)\n",
        "    modelF.fc = nn.Linear(512, num_classes)\n",
        "  elif mdTp == 'Res34':\n",
        "    modelF = models.resnet34()\n",
        "    modelF.fc = nn.Linear(512, num_classes)\n",
        "  elif mdTp == 'Res50':\n",
        "    modelF = models.resnet50(pretrained=pretrained_resnet50)\n",
        "    modelF.fc = nn.Linear(2048, num_classes)\n",
        "  elif mdTp == 'Alex':\n",
        "    modelF = models.alexnet()\n",
        "    modelF.classifier[6] = nn.Linear(4096,num_classes)\n",
        "  elif mdTp == 'VGG':\n",
        "    modelF = models.vgg16()\n",
        "    modelF.classifier[6] = nn.Linear(4096,num_classes)\n",
        "  elif mdTp == 'Squeez':\n",
        "    modelF = models.squeezenet1_0()\n",
        "    modelF.classifier[1] = nn.Conv2d(512, num_classes, kernel_size=(1,1), stride=(1,1))\n",
        "  elif mdTp == 'Modile_v3':\n",
        "    modelF = models.mobilenet_v3_small()\n",
        "    modelF.classifier[0] = nn.Linear(in_features=576, out_features=4096, bias=True)\n",
        "    modelF.classifier[3] = nn.Linear(4096,num_classes,bias=True)\n",
        "  else:\n",
        "    assert False, 'no model'\n",
        "  return modelF\n",
        "\n",
        "def train_step(model,idata,ilabels,criterion,optimizer,DEVICE):\n",
        "    model.zero_grad()\n",
        "    idata = idata.type(torch.FloatTensor).to(DEVICE)\n",
        "    ilabels = ilabels.type(torch.FloatTensor).to(DEVICE)\n",
        "    train_output = model(idata)\n",
        "    #optimizer.zero_grad()\n",
        "    loss = criterion(train_output, ilabels)\n",
        "    loss.backward()\n",
        "    optimizer.step()\n",
        "    return loss.item()\n",
        "\n",
        "def test_acc(test_loader,model,DEVICE):\n",
        "    def sigmoid(x):\n",
        "      return 1 / (1 + np.exp(-x))\n",
        "\n",
        "    model.eval()\n",
        "    acc_array=[]\n",
        "    labels_output = []\n",
        "    labels_true = []\n",
        "    with torch.no_grad():\n",
        "      for i_test_data, i_test_labels in test_loader:\n",
        "            i_test_data = i_test_data.type(torch.FloatTensor).to(DEVICE)\n",
        "            i_test_labels = i_test_labels.detach().numpy()\n",
        "            test_output = model(i_test_data)\n",
        "            test_output = test_output.cpu().detach().numpy()\n",
        "\n",
        "            labels_true+=list(i_test_labels)\n",
        "            labels_output+=list(test_output)\n",
        "    labels_true = np.array(labels_true)\n",
        "    labels_output = sigmoid(np.array(labels_output))\n",
        "    try:\n",
        "      score = label_ranking_average_precision_score(labels_true, labels_output)\n",
        "    except:\n",
        "      score = 0.0\n",
        "    return score\n",
        "\n",
        "class simpleDataset(Dataset):\n",
        "    def __init__(self, numpy_dataset,numpy_labels,transform=None, target_transform=None):\n",
        "        self.dataset = numpy_dataset\n",
        "        self.labels = numpy_labels\n",
        "        self.length = len(numpy_labels)\n",
        "        self.target_transform = target_transform\n",
        "        self.transform = transform\n",
        "\n",
        "    def __len__(self):\n",
        "        return self.length\n",
        "\n",
        "    def __getitem__(self, idx):\n",
        "        if self.transform != None:\n",
        "          data = self.transform(self.dataset[idx])\n",
        "        else:\n",
        "          data = self.dataset[idx]\n",
        "        if self.target_transform != None:\n",
        "          target = self.target_transform(self.labels[idx])\n",
        "        else:\n",
        "          target = self.labels[idx]\n",
        "        return data, target"
      ],
      "metadata": {
        "id": "A868LNVpK_gZ"
      },
      "execution_count": 3,
      "outputs": []
    },
    {
      "cell_type": "markdown",
      "source": [
        "2б. Аугментации из [RFCX torchvision models augmentation](https://www.kaggle.com/duythanhng/rfcx-torchvision-models-augmentation)"
      ],
      "metadata": {
        "id": "MZyQE_MX7vXB"
      }
    },
    {
      "cell_type": "code",
      "source": [
        "from skimage.transform import resize\n",
        "from skimage.util import random_noise\n",
        "from skimage.filters import gaussian\n",
        "from skimage import exposure\n",
        "import cv2\n",
        "import numpy as np\n",
        "import random\n",
        "\n",
        "class  addNoisy(nn.Module):\n",
        "    def __call__(self, sample):\n",
        "      sample = random_noise(sample)\n",
        "      return sample\n",
        "\n",
        "class  contrast_stretching(nn.Module):\n",
        "    def __call__(self, sample):\n",
        "      sample = np.swapaxes(sample,0,2)\n",
        "      p2, p98 = np.percentile(sample, (2, 98))\n",
        "      sample = exposure.rescale_intensity(sample, in_range=(p2, p98))\n",
        "      sample = np.swapaxes(sample,0,2)\n",
        "      return sample\n",
        "\n",
        "class  log_correction(nn.Module):\n",
        "    def __call__(self, sample):\n",
        "      sample = exposure.adjust_log(sample)\n",
        "      return sample\n",
        "\n",
        "class  randomGaussian(nn.Module):\n",
        "    def __call__(self, sample):\n",
        "      sample = gaussian(sample, sigma=random.randint(0, 5))\n",
        "      return sample\n"
      ],
      "metadata": {
        "id": "xzGE8FLnLMuE"
      },
      "execution_count": 4,
      "outputs": []
    },
    {
      "cell_type": "markdown",
      "source": [
        "# 3. Обучение"
      ],
      "metadata": {
        "id": "B5omQ-xyLQW3"
      }
    },
    {
      "cell_type": "markdown",
      "source": [
        "гиперпараметры обучени"
      ],
      "metadata": {
        "id": "aBGptQ54KHuV"
      }
    },
    {
      "cell_type": "code",
      "source": [
        "BATCH_SIZE = 16\n",
        "LR = 1e-4\n",
        "MOMENTUM = 0.9\n",
        "EPOCH_NUM = 20\n",
        "STEPS = [100,200,300,400,500,600]\n",
        "\n",
        "GAMMA = 0.3\n",
        "DEVICE = torch.device('cuda' if torch.cuda.is_available() else 'cpu')\n",
        "update_best_models_Flag = True\n",
        "print(DEVICE)"
      ],
      "metadata": {
        "colab": {
          "base_uri": "https://localhost:8080/"
        },
        "id": "aOFmoYC_LSia",
        "outputId": "6345f6fa-5934-4a31-b660-063abcba06f2"
      },
      "execution_count": 5,
      "outputs": [
        {
          "output_type": "stream",
          "name": "stdout",
          "text": [
            "cuda\n"
          ]
        }
      ]
    },
    {
      "cell_type": "markdown",
      "source": [
        "### Выделение данных для тренировки"
      ],
      "metadata": {
        "id": "8rpUir0sLbuG"
      }
    },
    {
      "cell_type": "markdown",
      "source": [
        "загрузка файлов"
      ],
      "metadata": {
        "id": "RUalpeYXMOeB"
      }
    },
    {
      "cell_type": "code",
      "source": [
        "PATH_TO_DIR = '/content/drive/MyDrive/mldm21_project/'\n",
        "PATH_TO_SAVE = '/content/drive/MyDrive/mldm21_project/'\n",
        "PATH_TO_HELGA = '/content/drive/MyDrive/MLDM_proj/prepared_arrays/'\n",
        "\n",
        "file_mix = '10k_tp_mixed.npz'\n",
        "file_shift = '10k_shift.npz'\n",
        "file_tp = '10k_TP_shift.npz'\n",
        "file_fp = '10k_FP_shift.npz'\n",
        "\n",
        "data_tr = np.load(PATH_TO_SAVE+'pure_train.npz')\n",
        "data_ts = np.load(PATH_TO_SAVE+'pure_test.npz')\n",
        "data_mts = np.load(PATH_TO_SAVE+'MAJOR_test.npz')\n",
        "\n",
        "data_10k_shift = np.load(PATH_TO_HELGA+file_shift)\n",
        "data_10k_mix = np.load(PATH_TO_HELGA+file_mix)\n",
        "\n",
        "data_10k_tp_shift = np.load(PATH_TO_HELGA+file_tp)\n",
        "data_10k_fp_shift = np.load(PATH_TO_HELGA+file_fp)\n",
        "\n",
        "test_data = data_ts['data']\n",
        "test_labels = data_ts['labels']\n",
        "majot_test_data = data_mts['data']\n",
        "\n",
        "dataset_type = 'unknown'"
      ],
      "metadata": {
        "id": "cn6MFlxnLbDu"
      },
      "execution_count": 6,
      "outputs": []
    },
    {
      "cell_type": "markdown",
      "source": [
        "#### Создание разных датасетов"
      ],
      "metadata": {
        "id": "aUSvJ-vqPrRw"
      }
    },
    {
      "cell_type": "markdown",
      "source": [
        "Загрузка данных tp+fp "
      ],
      "metadata": {
        "id": "MJlAgRH4Mf4k"
      }
    },
    {
      "cell_type": "code",
      "source": [
        "train_data = data_tr['data']\n",
        "train_labels = data_tr['labels']\n",
        "\n",
        "\n",
        "dataset_type = 'tp+fp'"
      ],
      "metadata": {
        "id": "vxNbcF7KM_wC"
      },
      "execution_count": null,
      "outputs": []
    },
    {
      "cell_type": "markdown",
      "source": [
        "Загрузка данных tp + fp + shift"
      ],
      "metadata": {
        "id": "Xjkjhtv-sm6_"
      }
    },
    {
      "cell_type": "code",
      "source": [
        "IND1 = 5000\n",
        "IND2 = 8000\n",
        "train_data = np.concatenate((data_tr['data'],data_10k_shift['data'][IND1:IND2]),axis=0)\n",
        "train_labels = np.concatenate((data_tr['labels'],data_10k_shift['labels'][IND1:IND2]),axis=0)\n",
        "\n",
        "dataset_type = 'tp+fp+shift'"
      ],
      "metadata": {
        "id": "kx2AKEqJAE0o"
      },
      "execution_count": null,
      "outputs": []
    },
    {
      "cell_type": "markdown",
      "source": [
        "tp_shift"
      ],
      "metadata": {
        "id": "k9IOb0X-_c_v"
      }
    },
    {
      "cell_type": "code",
      "source": [
        "IND1 = 0\n",
        "IND2 = 4000\n",
        "train_data = data_10k_tp_shift['data'][IND1:IND2]\n",
        "train_labels = data_10k_tp_shift['labels'][IND1:IND2]\n",
        "\n",
        "dataset_type = 'tp_shift'"
      ],
      "metadata": {
        "id": "DCPs-G7h_SNK"
      },
      "execution_count": 7,
      "outputs": []
    },
    {
      "cell_type": "markdown",
      "source": [
        "fp_shift"
      ],
      "metadata": {
        "id": "1XniUHiU_frd"
      }
    },
    {
      "cell_type": "code",
      "source": [
        "IND1 = 0\n",
        "IND2 = 6000\n",
        "train_data = np.concatenate((data_tr['data'],data_10k_fp_shift['data'][IND1:IND2]),axis=0)\n",
        "train_labels = np.concatenate((data_tr['labels'],data_10k_fp_shift['labels'][IND1:IND2]),axis=0)\n",
        "\n",
        "dataset_type = 'fp_shift'"
      ],
      "metadata": {
        "id": "nveaRUkk_bsd"
      },
      "execution_count": null,
      "outputs": []
    },
    {
      "cell_type": "markdown",
      "source": [
        "Загрузка shift"
      ],
      "metadata": {
        "id": "HtuxIXV8PUQU"
      }
    },
    {
      "cell_type": "code",
      "source": [
        "IND1 = 5000\n",
        "IND2 = 10000\n",
        "train_data = data_10k_shift['data'][IND1:IND2]\n",
        "train_labels = data_10k_shift['labels'][IND1:IND2]\n",
        "\n",
        "dataset_type = 'shift'"
      ],
      "metadata": {
        "id": "xdZ4jxVwPLqY"
      },
      "execution_count": null,
      "outputs": []
    },
    {
      "cell_type": "markdown",
      "source": [
        ""
      ],
      "metadata": {
        "id": "rCrtHs8PPK_f"
      }
    },
    {
      "cell_type": "markdown",
      "source": [
        "Загрузка данных tp + fp + mix"
      ],
      "metadata": {
        "id": "CJtod73yOP0R"
      }
    },
    {
      "cell_type": "code",
      "source": [
        "IND = 4000\n",
        "train_data = np.concatenate((data_tr['data'],data_10k_mix['data'][:IND]),axis=0)\n",
        "train_labels = np.concatenate((data_tr['labels'],data_10k_mix['labels'][:IND]),axis=0)\n",
        "\n",
        "\n",
        "dataset_type = 'tp+fp+mix'"
      ],
      "metadata": {
        "id": "MBAOAyzgONQ2"
      },
      "execution_count": null,
      "outputs": []
    },
    {
      "cell_type": "markdown",
      "source": [
        "Загрузка mix"
      ],
      "metadata": {
        "id": "kENRKEPVPjDy"
      }
    },
    {
      "cell_type": "code",
      "source": [
        "IND = 4000\n",
        "train_data = data_10k_mix['data'][:IND]\n",
        "train_labels = data_10k_mix['labels'][:IND]\n",
        "\n",
        "dataset_type = 'mix'"
      ],
      "metadata": {
        "id": "IAwDc6nHONL8"
      },
      "execution_count": null,
      "outputs": []
    },
    {
      "cell_type": "markdown",
      "source": [
        "#### Создание предтрансформаций"
      ],
      "metadata": {
        "id": "oIw0b3yJPvn_"
      }
    },
    {
      "cell_type": "code",
      "source": [
        "img_transform = torch.nn.Sequential(\n",
        "                                    addNoisy(),\n",
        "                                    contrast_stretching(),\n",
        "                                    log_correction(),\n",
        "                                    randomGaussian())\n",
        "transform_type = '_aNcSlCrG'"
      ],
      "metadata": {
        "id": "sYFhja2w7lpq"
      },
      "execution_count": null,
      "outputs": []
    },
    {
      "cell_type": "code",
      "source": [
        "img_transform = torch.nn.Sequential(\n",
        "                                    contrast_stretching(),\n",
        "                                    log_correction()\n",
        "                                    )\n",
        "transform_type = '_cSlC'"
      ],
      "metadata": {
        "id": "L3Ywgbs0VCIt"
      },
      "execution_count": null,
      "outputs": []
    },
    {
      "cell_type": "code",
      "source": [
        "img_transform = torch.nn.Sequential(\n",
        "                                    addNoisy(),\n",
        "                                    randomGaussian())\n",
        "transform_type = '_aNrG'"
      ],
      "metadata": {
        "id": "OU1x0wQfVB9-"
      },
      "execution_count": null,
      "outputs": []
    },
    {
      "cell_type": "code",
      "source": [
        "img_transform = torch.nn.Sequential(\n",
        "                                     log_correction())\n",
        "transform_type = '_lC'"
      ],
      "metadata": {
        "id": "-947qhMLVEtY"
      },
      "execution_count": null,
      "outputs": []
    },
    {
      "cell_type": "markdown",
      "source": [
        "с"
      ],
      "metadata": {
        "id": "wyWL_pS1QGYC"
      }
    },
    {
      "cell_type": "code",
      "source": [
        "train_dataset = simpleDataset(train_data,train_labels,transform=img_transform)\n",
        "test_dataset = simpleDataset(test_data,test_labels)\n",
        "dataset_type_final = dataset_type + transform_type"
      ],
      "metadata": {
        "id": "UNTlJPrJ7nj2"
      },
      "execution_count": null,
      "outputs": []
    },
    {
      "cell_type": "markdown",
      "source": [
        "без"
      ],
      "metadata": {
        "id": "-4PNiynbQE7f"
      }
    },
    {
      "cell_type": "code",
      "source": [
        "train_dataset = simpleDataset(train_data,train_labels)\n",
        "test_dataset = simpleDataset(test_data,test_labels)\n",
        "\n",
        "dataset_type_final = dataset_type"
      ],
      "metadata": {
        "id": "n5j6R31LS6uY"
      },
      "execution_count": 8,
      "outputs": []
    },
    {
      "cell_type": "markdown",
      "source": [
        "#### Dataloaders"
      ],
      "metadata": {
        "id": "2F8xkRBtP1EK"
      }
    },
    {
      "cell_type": "code",
      "source": [
        "train_loader = DataLoader(train_dataset, batch_size=BATCH_SIZE, shuffle=True)\n",
        "test_loader = DataLoader(test_dataset, batch_size=BATCH_SIZE, shuffle=False)"
      ],
      "metadata": {
        "id": "EjZ_ciXOVAH5"
      },
      "execution_count": 9,
      "outputs": []
    },
    {
      "cell_type": "markdown",
      "source": [
        "### Создание сеток"
      ],
      "metadata": {
        "id": "asUseKHjUPFU"
      }
    },
    {
      "cell_type": "code",
      "source": [
        "import torch.optim as optim\n",
        "\n",
        "#model_18 = crtclass('Res18',pretrained_resnet18=True).to(DEVICE)\n",
        "#best_model_18 = crtclass('Res18',pretrained_resnet18=True)\n",
        "#criterion_18 = nn.BCEWithLogitsLoss()\n",
        "#optimizer_18 = optim.SGD(model_18.parameters(), lr=LR, momentum=MOMENTUM)\n",
        "\n",
        "model_50 = crtclass('Res50',pretrained_resnet50=True).to(DEVICE)\n",
        "best_model_50 = crtclass('Res50')\n",
        "criterion_50 = nn.BCEWithLogitsLoss()\n",
        "optimizer_50 = optim.SGD(model_50.parameters(), lr=LR, momentum=MOMENTUM)\n",
        "\n",
        "scheduler_50 = optim.lr_scheduler.MultiStepLR(optimizer_50, milestones=STEPS, gamma=GAMMA)\n"
      ],
      "metadata": {
        "id": "m3eFWlJ6UOgL"
      },
      "execution_count": null,
      "outputs": []
    },
    {
      "cell_type": "markdown",
      "source": [
        "Загрузка отдельной модели"
      ],
      "metadata": {
        "id": "_E9GEwQZbot_"
      }
    },
    {
      "cell_type": "code",
      "source": [
        "imodel = model_50\n",
        "icriterion = criterion_50\n",
        "ioptimizer = criterion_50\n",
        "ibest_model = best_model_50\n",
        "inamne = 'Res50pt'\n",
        "ischeduler = scheduler_50"
      ],
      "metadata": {
        "id": "BmZV-ar0bRor"
      },
      "execution_count": null,
      "outputs": []
    },
    {
      "cell_type": "markdown",
      "source": [
        ""
      ],
      "metadata": {
        "id": "3CpCOf4QjL7D"
      }
    },
    {
      "cell_type": "code",
      "source": [
        "PATH_TO_MODEL = '/content/drive/MyDrive/mldm21_project/model_Res50pt_epoch_100_level_tpfpshiht4k_pretraind'\n",
        "\n",
        "model = crtclass('Res50')\n",
        "model.load_state_dict(torch.load(PATH_TO_MODEL))\n",
        "model.eval();\n",
        "model.to(DEVICE);"
      ],
      "metadata": {
        "id": "pQKdFypClSn2"
      },
      "execution_count": 43,
      "outputs": []
    },
    {
      "cell_type": "code",
      "source": [
        "import copy\n",
        "\n",
        "EPOCH_NUM = 100\n",
        "LR = 1e-6\n",
        "MOMENTUM = 0.9\n",
        "STEPS = [20,40,80]\n",
        "GAMMA = 0.1\n",
        "WD = 0.1\n",
        "inamne = 'Res50pt_055'\n",
        "\n",
        "imodel = model\n",
        "max_score = 0\n",
        "ibest_model = copy.deepcopy(imodel)\n",
        "\n",
        "icriterion = nn.BCEWithLogitsLoss()\n",
        "ioptimizer = optim.SGD(imodel.parameters(), lr=LR, momentum=MOMENTUM,weight_decay=WD)\n",
        "#ioptimizer = optim.Adam(imodel.parameters(), lr=LR)\n",
        "\n",
        "#ischeduler = optim.lr_scheduler.ReduceLROnPlateau(ioptimizer, 'min', factor=0.1, patience=3)\n",
        "ischeduler = optim.lr_scheduler.MultiStepLR(ioptimizer, milestones=STEPS, gamma=GAMMA)"
      ],
      "metadata": {
        "id": "9Y23cqZIjLf6"
      },
      "execution_count": 44,
      "outputs": []
    },
    {
      "cell_type": "markdown",
      "source": [
        "### Обучение"
      ],
      "metadata": {
        "id": "cIMXF-drAXSf"
      }
    },
    {
      "cell_type": "code",
      "source": [
        "import copy \n",
        "from IPython import display\n",
        "from tqdm.notebook import trange, tqdm\n",
        "\n",
        "loss_arr = []\n",
        "test_score_array = []\n",
        "\n",
        "\n",
        "for iepoch in tqdm(range(EPOCH_NUM),desc='epoch step'):\n",
        "  inter_loss_arr = []\n",
        "\n",
        "  imodel.train()\n",
        "  epoch_loss_arr = []\n",
        "  epoch_test_acc = []\n",
        "\n",
        "  for idata, ilabels in tqdm(train_loader,desc='train loader'):\n",
        "    cur_loss = train_step(imodel,idata,ilabels,icriterion,ioptimizer,DEVICE)\n",
        "    epoch_loss_arr.append(cur_loss)\n",
        "  loss_arr.append(np.mean(epoch_loss_arr))\n",
        "  \n",
        "\n",
        "  score_cur = test_acc(test_loader,imodel,DEVICE)\n",
        "\n",
        "  test_score_array.append(score_cur)\n",
        "  if (score_cur > max_score) and (update_best_models_Flag):\n",
        "    max_score=score_cur\n",
        "    sd = imodel.state_dict()\n",
        "    ibest_model.load_state_dict(sd)\n",
        "\n",
        "  strOUT_1 = 'eph.: {:} '.format(iepoch)\n",
        "  strOUT_2 = 'loss: {:.3}'.format(loss_arr[-1])\n",
        "  strOUT_4 =  'best score. : {:.3}'.format(max_score)\n",
        "  strOUT_5 = 'lr: {:}'.format(ischeduler.get_last_lr())\n",
        "\n",
        "  # plot figures in epoch\n",
        "  loss_arr_np = np.array(loss_arr)\n",
        "  test_score_array_np = np.array(test_score_array)\n",
        "\n",
        "  plt.figure(figsize=(12,4))\n",
        "  plt.subplot(1,2,1)\n",
        "  plt.suptitle(strOUT_1+' '+strOUT_2+' '+strOUT_4 + '\\n'+ strOUT_5)\n",
        "  plt.title('loss')\n",
        "  plt.xlabel('Epoch')\n",
        "  plt.ylabel('loss')\n",
        "  plt.plot(loss_arr_np,label=inamne)\n",
        "  plt.legend()\n",
        "  plt.subplot(1,2,2)\n",
        "  plt.title('score LRAP')\n",
        "  plt.xlabel('Epoch')\n",
        "  plt.ylabel('test score')\n",
        "  plt.plot(test_score_array_np,label=inamne+' '+dataset_type_final)\n",
        "  plt.legend()\n",
        "\n",
        "  display.clear_output(wait=True)\n",
        "  display.display(plt.gcf())\n",
        "  #ischeduler.step(cur_loss)\n",
        "  ischeduler.step()"
      ],
      "metadata": {
        "id": "gyUkuA06QM9q"
      },
      "execution_count": null,
      "outputs": []
    },
    {
      "cell_type": "markdown",
      "source": [
        "### Сохранение модели"
      ],
      "metadata": {
        "id": "QNUbTCQDAZ75"
      }
    },
    {
      "cell_type": "code",
      "source": [
        "# types of generation\n",
        "# -1 - train only TP data with single label\n",
        "# 0  - train only TP data\n",
        "# 1  - train TP&FP data\n",
        "# 2  - inside record augmented data\n",
        "# 3  - outside record augmented data\n",
        "\n",
        "generation = 'tpfpshiht4k_pretraind'\n",
        "\n",
        "for idx,inamne in enumerate(ModelNames):\n",
        "  PATH = '/content/drive/MyDrive/mldm21_project/'\n",
        "  torch.save(best_models_arr[idx].state_dict(), PATH+'model_{}_epoch_{:}_level_{}'.format(inamne,EPOCH_NUM,generation))\n"
      ],
      "metadata": {
        "id": "lx6f5VJborOH"
      },
      "execution_count": null,
      "outputs": []
    },
    {
      "cell_type": "code",
      "source": [
        "PATH = '/content/drive/MyDrive/mldm21_project/'\n",
        "modelNname = 'model_Res50_temp'\n",
        "torch.save(ibest_model.state_dict(), PATH+modelNname)"
      ],
      "metadata": {
        "id": "8LUgjeVi_1AA"
      },
      "execution_count": 46,
      "outputs": []
    },
    {
      "cell_type": "code",
      "source": [
        "PATH_TO_MODEL = '/content/drive/MyDrive/mldm21_project/model_Res50_temp'\n",
        "\n",
        "\n",
        "model = crtclass('Res50')\n",
        "model.load_state_dict(torch.load(PATH_TO_MODEL))\n",
        "model.eval();\n",
        "model.to(DEVICE);"
      ],
      "metadata": {
        "id": "b5tf3OjD3a2p"
      },
      "execution_count": 47,
      "outputs": []
    },
    {
      "cell_type": "code",
      "source": [
        "score_cur = test_acc(test_loader,model,DEVICE)\n",
        "print('SCORE: {:.4}'.format(score_cur))"
      ],
      "metadata": {
        "id": "1hIK6SJO377q",
        "colab": {
          "base_uri": "https://localhost:8080/"
        },
        "outputId": "33e8fec4-6059-4194-923a-5fadf236a58a"
      },
      "execution_count": 48,
      "outputs": [
        {
          "output_type": "stream",
          "name": "stdout",
          "text": [
            "SCORE: 0.5017\n"
          ]
        }
      ]
    },
    {
      "cell_type": "markdown",
      "source": [
        "### Создание файлов с результатами"
      ],
      "metadata": {
        "id": "tlquQnxB7O7i"
      }
    },
    {
      "cell_type": "code",
      "source": [
        "def sigmoid(x):\n",
        "  return 1 / (1 + np.exp(-x))\n",
        "\n",
        "majot_test_data = data_mts['data']\n",
        "majot_test_labels = data_mts['files']\n",
        "i_num = len(majot_test_labels)\n",
        "columns = ['recording_id'] + [ 's'+str(inm)  for inm in range(24)]\n",
        "\n",
        "results = []\n",
        "\n",
        "\n",
        "for indx in tqdm(range(i_num)):\n",
        "  idata = torch.Tensor([majot_test_data[indx]]).to(DEVICE)\n",
        "  output = model(idata).cpu().detach().numpy()\n",
        "  out_sigm = sigmoid(output)\n",
        "  results.append(out_sigm)\n",
        "\n"
      ],
      "metadata": {
        "colab": {
          "base_uri": "https://localhost:8080/",
          "height": 49,
          "referenced_widgets": [
            "9543a0f9a7f642a6ba7e80b61f4965b9",
            "236573de6ee5413090e022226fe9084a",
            "a75f26a797814b5f99483cdad8280f47",
            "6f0b0287a3714d8a8e2cc7ba88b9ff71",
            "78ac522b2f40415db3dab5733d44e11a",
            "72a45195e2f24d03b5941ce8cb414cc9",
            "adc53fdf7d0548c5a91bfe7b8148105c",
            "8b4e201ba1ae4cfe807a43d246a419b5",
            "b71b2f8e188e447d871f64638b0001ee",
            "58a30fbcd25447d6a03ea6c1961efe22",
            "2a16df41770244f4956e69a9869e8b11"
          ]
        },
        "id": "F7AWmrvd4mpA",
        "outputId": "91e27dd5-7026-4107-cda0-94a59a0518a4"
      },
      "execution_count": 49,
      "outputs": [
        {
          "output_type": "display_data",
          "data": {
            "application/vnd.jupyter.widget-view+json": {
              "model_id": "9543a0f9a7f642a6ba7e80b61f4965b9",
              "version_minor": 0,
              "version_major": 2
            },
            "text/plain": [
              "  0%|          | 0/1992 [00:00<?, ?it/s]"
            ]
          },
          "metadata": {}
        }
      ]
    },
    {
      "cell_type": "code",
      "source": [
        "File_csv = 'model_Res50_temp'\n",
        "PATH_TO_SAVE_RESULTS = '/content/drive/MyDrive/mldm21_project/{}.csv'.format(File_csv)\n",
        "\n",
        "\n",
        "res_np = np.squeeze(np.array(results))\n",
        "dict_to_save = {columns[i+1] : res_np[:,i] for i in range(24)} \n",
        "dict_to_save['recording_id'] = majot_test_labels\n",
        "DF_result = pd.DataFrame(dict_to_save,columns=columns)\n",
        "DF_result.to_csv(PATH_TO_SAVE_RESULTS,index=False)"
      ],
      "metadata": {
        "id": "0AatXnQM61T7"
      },
      "execution_count": 50,
      "outputs": []
    },
    {
      "cell_type": "markdown",
      "source": [
        "\n",
        "\n",
        "> * **Submitted**: model_Res18_epoch_30_level_1_result.csv\n",
        "* **score** : 0.52114\n",
        "\n",
        "\n"
      ],
      "metadata": {
        "id": "CNS-4QQj_bfu"
      }
    },
    {
      "cell_type": "code",
      "source": [
        "import gc\n",
        "gc.collect()"
      ],
      "metadata": {
        "id": "XFtThAL5_5Xw",
        "colab": {
          "base_uri": "https://localhost:8080/"
        },
        "outputId": "9293b05e-d638-43b9-cbcd-8cb15f6875c4"
      },
      "execution_count": 20,
      "outputs": [
        {
          "output_type": "execute_result",
          "data": {
            "text/plain": [
              "0"
            ]
          },
          "metadata": {},
          "execution_count": 20
        }
      ]
    },
    {
      "cell_type": "code",
      "source": [
        "torch.cuda.empty_cache()"
      ],
      "metadata": {
        "id": "br7i5Tr7_9uj"
      },
      "execution_count": 21,
      "outputs": []
    },
    {
      "cell_type": "code",
      "source": [
        "ischeduler.get_last_lr()"
      ],
      "metadata": {
        "id": "Zcr8NEuf_-r6",
        "colab": {
          "base_uri": "https://localhost:8080/"
        },
        "outputId": "ec046b34-540c-41b7-f7b6-0da703507716"
      },
      "execution_count": 33,
      "outputs": [
        {
          "output_type": "execute_result",
          "data": {
            "text/plain": [
              "0.001"
            ]
          },
          "metadata": {},
          "execution_count": 33
        }
      ]
    },
    {
      "cell_type": "code",
      "source": [
        ""
      ],
      "metadata": {
        "id": "zVYF-tbFOYpv"
      },
      "execution_count": null,
      "outputs": []
    }
  ]
}