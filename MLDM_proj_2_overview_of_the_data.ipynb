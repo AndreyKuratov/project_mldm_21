{
  "nbformat": 4,
  "nbformat_minor": 0,
  "metadata": {
    "colab": {
      "name": "MLDM-proj-2  overview of the data",
      "provenance": [],
      "collapsed_sections": [],
      "authorship_tag": "ABX9TyNsDSNwKqYA1mLlXMDUP26j",
      "include_colab_link": true
    },
    "kernelspec": {
      "name": "python3",
      "display_name": "Python 3"
    },
    "language_info": {
      "name": "python"
    }
  },
  "cells": [
    {
      "cell_type": "markdown",
      "metadata": {
        "id": "view-in-github",
        "colab_type": "text"
      },
      "source": [
        "<a href=\"https://colab.research.google.com/github/AndreyKuratov/project_mldm_21/blob/main/MLDM_proj_2_overview_of_the_data.ipynb\" target=\"_parent\"><img src=\"https://colab.research.google.com/assets/colab-badge.svg\" alt=\"Open In Colab\"/></a>"
      ]
    },
    {
      "cell_type": "code",
      "execution_count": 1,
      "metadata": {
        "id": "LydjjjLh47QV",
        "colab": {
          "base_uri": "https://localhost:8080/"
        },
        "outputId": "a2a62c62-ae18-4ab1-bc7b-33e778cacaf7"
      },
      "outputs": [
        {
          "output_type": "stream",
          "name": "stdout",
          "text": [
            "Mounted at /content/drive\n"
          ]
        }
      ],
      "source": [
        "from google.colab import drive\n",
        "drive.mount('/content/drive')"
      ]
    },
    {
      "cell_type": "code",
      "source": [
        "import numpy as np\n",
        "import pandas as pd\n",
        "import matplotlib.pyplot as plt\n",
        "import soundfile as sf\n",
        "import scipy.signal as signal\n",
        "import os\n",
        "import tqdm"
      ],
      "metadata": {
        "id": "3kVPk4w55Hig"
      },
      "execution_count": 2,
      "outputs": []
    },
    {
      "cell_type": "code",
      "source": [
        "PATH_TO_DIR = '/content/drive/MyDrive/mldm21_project/'"
      ],
      "metadata": {
        "id": "g3VY5f615IEl"
      },
      "execution_count": null,
      "outputs": []
    },
    {
      "cell_type": "markdown",
      "source": [
        "# 1. Функции загрузки данных"
      ],
      "metadata": {
        "id": "b5AGatyZpVrR"
      }
    },
    {
      "cell_type": "code",
      "source": [
        "data_pd = pd.read_csv('/content/drive/MyDrive/mldm21_project/train_tp.csv')\n",
        "data_pd"
      ],
      "metadata": {
        "id": "T8iQ1PG65zJH",
        "colab": {
          "base_uri": "https://localhost:8080/",
          "height": 424
        },
        "outputId": "723763c1-996d-4e60-a9e2-cd52e7f94969"
      },
      "execution_count": null,
      "outputs": [
        {
          "output_type": "execute_result",
          "data": {
            "text/html": [
              "\n",
              "  <div id=\"df-c5000ef4-530d-4cc9-970b-6fea0e485621\">\n",
              "    <div class=\"colab-df-container\">\n",
              "      <div>\n",
              "<style scoped>\n",
              "    .dataframe tbody tr th:only-of-type {\n",
              "        vertical-align: middle;\n",
              "    }\n",
              "\n",
              "    .dataframe tbody tr th {\n",
              "        vertical-align: top;\n",
              "    }\n",
              "\n",
              "    .dataframe thead th {\n",
              "        text-align: right;\n",
              "    }\n",
              "</style>\n",
              "<table border=\"1\" class=\"dataframe\">\n",
              "  <thead>\n",
              "    <tr style=\"text-align: right;\">\n",
              "      <th></th>\n",
              "      <th>recording_id</th>\n",
              "      <th>species_id</th>\n",
              "      <th>songtype_id</th>\n",
              "      <th>t_min</th>\n",
              "      <th>f_min</th>\n",
              "      <th>t_max</th>\n",
              "      <th>f_max</th>\n",
              "    </tr>\n",
              "  </thead>\n",
              "  <tbody>\n",
              "    <tr>\n",
              "      <th>0</th>\n",
              "      <td>003bec244</td>\n",
              "      <td>14</td>\n",
              "      <td>1</td>\n",
              "      <td>44.5440</td>\n",
              "      <td>2531.250</td>\n",
              "      <td>45.1307</td>\n",
              "      <td>5531.25</td>\n",
              "    </tr>\n",
              "    <tr>\n",
              "      <th>1</th>\n",
              "      <td>006ab765f</td>\n",
              "      <td>23</td>\n",
              "      <td>1</td>\n",
              "      <td>39.9615</td>\n",
              "      <td>7235.160</td>\n",
              "      <td>46.0452</td>\n",
              "      <td>11283.40</td>\n",
              "    </tr>\n",
              "    <tr>\n",
              "      <th>2</th>\n",
              "      <td>007f87ba2</td>\n",
              "      <td>12</td>\n",
              "      <td>1</td>\n",
              "      <td>39.1360</td>\n",
              "      <td>562.500</td>\n",
              "      <td>42.2720</td>\n",
              "      <td>3281.25</td>\n",
              "    </tr>\n",
              "    <tr>\n",
              "      <th>3</th>\n",
              "      <td>0099c367b</td>\n",
              "      <td>17</td>\n",
              "      <td>4</td>\n",
              "      <td>51.4206</td>\n",
              "      <td>1464.260</td>\n",
              "      <td>55.1996</td>\n",
              "      <td>4565.04</td>\n",
              "    </tr>\n",
              "    <tr>\n",
              "      <th>4</th>\n",
              "      <td>009b760e6</td>\n",
              "      <td>10</td>\n",
              "      <td>1</td>\n",
              "      <td>50.0854</td>\n",
              "      <td>947.461</td>\n",
              "      <td>52.5293</td>\n",
              "      <td>10852.70</td>\n",
              "    </tr>\n",
              "    <tr>\n",
              "      <th>...</th>\n",
              "      <td>...</td>\n",
              "      <td>...</td>\n",
              "      <td>...</td>\n",
              "      <td>...</td>\n",
              "      <td>...</td>\n",
              "      <td>...</td>\n",
              "      <td>...</td>\n",
              "    </tr>\n",
              "    <tr>\n",
              "      <th>1211</th>\n",
              "      <td>fe8d9ac40</td>\n",
              "      <td>13</td>\n",
              "      <td>1</td>\n",
              "      <td>53.4720</td>\n",
              "      <td>93.750</td>\n",
              "      <td>54.0960</td>\n",
              "      <td>843.75</td>\n",
              "    </tr>\n",
              "    <tr>\n",
              "      <th>1212</th>\n",
              "      <td>fea6b438a</td>\n",
              "      <td>4</td>\n",
              "      <td>1</td>\n",
              "      <td>43.5787</td>\n",
              "      <td>2531.250</td>\n",
              "      <td>45.7653</td>\n",
              "      <td>4031.25</td>\n",
              "    </tr>\n",
              "    <tr>\n",
              "      <th>1213</th>\n",
              "      <td>ff2eb9ce5</td>\n",
              "      <td>0</td>\n",
              "      <td>1</td>\n",
              "      <td>15.2267</td>\n",
              "      <td>5906.250</td>\n",
              "      <td>16.0213</td>\n",
              "      <td>8250.00</td>\n",
              "    </tr>\n",
              "    <tr>\n",
              "      <th>1214</th>\n",
              "      <td>ffb8d8391</td>\n",
              "      <td>5</td>\n",
              "      <td>1</td>\n",
              "      <td>14.3467</td>\n",
              "      <td>4781.250</td>\n",
              "      <td>16.6987</td>\n",
              "      <td>10406.20</td>\n",
              "    </tr>\n",
              "    <tr>\n",
              "      <th>1215</th>\n",
              "      <td>ffb9a7b9a</td>\n",
              "      <td>18</td>\n",
              "      <td>1</td>\n",
              "      <td>40.3200</td>\n",
              "      <td>3187.500</td>\n",
              "      <td>41.0133</td>\n",
              "      <td>5062.50</td>\n",
              "    </tr>\n",
              "  </tbody>\n",
              "</table>\n",
              "<p>1216 rows × 7 columns</p>\n",
              "</div>\n",
              "      <button class=\"colab-df-convert\" onclick=\"convertToInteractive('df-c5000ef4-530d-4cc9-970b-6fea0e485621')\"\n",
              "              title=\"Convert this dataframe to an interactive table.\"\n",
              "              style=\"display:none;\">\n",
              "        \n",
              "  <svg xmlns=\"http://www.w3.org/2000/svg\" height=\"24px\"viewBox=\"0 0 24 24\"\n",
              "       width=\"24px\">\n",
              "    <path d=\"M0 0h24v24H0V0z\" fill=\"none\"/>\n",
              "    <path d=\"M18.56 5.44l.94 2.06.94-2.06 2.06-.94-2.06-.94-.94-2.06-.94 2.06-2.06.94zm-11 1L8.5 8.5l.94-2.06 2.06-.94-2.06-.94L8.5 2.5l-.94 2.06-2.06.94zm10 10l.94 2.06.94-2.06 2.06-.94-2.06-.94-.94-2.06-.94 2.06-2.06.94z\"/><path d=\"M17.41 7.96l-1.37-1.37c-.4-.4-.92-.59-1.43-.59-.52 0-1.04.2-1.43.59L10.3 9.45l-7.72 7.72c-.78.78-.78 2.05 0 2.83L4 21.41c.39.39.9.59 1.41.59.51 0 1.02-.2 1.41-.59l7.78-7.78 2.81-2.81c.8-.78.8-2.07 0-2.86zM5.41 20L4 18.59l7.72-7.72 1.47 1.35L5.41 20z\"/>\n",
              "  </svg>\n",
              "      </button>\n",
              "      \n",
              "  <style>\n",
              "    .colab-df-container {\n",
              "      display:flex;\n",
              "      flex-wrap:wrap;\n",
              "      gap: 12px;\n",
              "    }\n",
              "\n",
              "    .colab-df-convert {\n",
              "      background-color: #E8F0FE;\n",
              "      border: none;\n",
              "      border-radius: 50%;\n",
              "      cursor: pointer;\n",
              "      display: none;\n",
              "      fill: #1967D2;\n",
              "      height: 32px;\n",
              "      padding: 0 0 0 0;\n",
              "      width: 32px;\n",
              "    }\n",
              "\n",
              "    .colab-df-convert:hover {\n",
              "      background-color: #E2EBFA;\n",
              "      box-shadow: 0px 1px 2px rgba(60, 64, 67, 0.3), 0px 1px 3px 1px rgba(60, 64, 67, 0.15);\n",
              "      fill: #174EA6;\n",
              "    }\n",
              "\n",
              "    [theme=dark] .colab-df-convert {\n",
              "      background-color: #3B4455;\n",
              "      fill: #D2E3FC;\n",
              "    }\n",
              "\n",
              "    [theme=dark] .colab-df-convert:hover {\n",
              "      background-color: #434B5C;\n",
              "      box-shadow: 0px 1px 3px 1px rgba(0, 0, 0, 0.15);\n",
              "      filter: drop-shadow(0px 1px 2px rgba(0, 0, 0, 0.3));\n",
              "      fill: #FFFFFF;\n",
              "    }\n",
              "  </style>\n",
              "\n",
              "      <script>\n",
              "        const buttonEl =\n",
              "          document.querySelector('#df-c5000ef4-530d-4cc9-970b-6fea0e485621 button.colab-df-convert');\n",
              "        buttonEl.style.display =\n",
              "          google.colab.kernel.accessAllowed ? 'block' : 'none';\n",
              "\n",
              "        async function convertToInteractive(key) {\n",
              "          const element = document.querySelector('#df-c5000ef4-530d-4cc9-970b-6fea0e485621');\n",
              "          const dataTable =\n",
              "            await google.colab.kernel.invokeFunction('convertToInteractive',\n",
              "                                                     [key], {});\n",
              "          if (!dataTable) return;\n",
              "\n",
              "          const docLinkHtml = 'Like what you see? Visit the ' +\n",
              "            '<a target=\"_blank\" href=https://colab.research.google.com/notebooks/data_table.ipynb>data table notebook</a>'\n",
              "            + ' to learn more about interactive tables.';\n",
              "          element.innerHTML = '';\n",
              "          dataTable['output_type'] = 'display_data';\n",
              "          await google.colab.output.renderOutput(dataTable, element);\n",
              "          const docLink = document.createElement('div');\n",
              "          docLink.innerHTML = docLinkHtml;\n",
              "          element.appendChild(docLink);\n",
              "        }\n",
              "      </script>\n",
              "    </div>\n",
              "  </div>\n",
              "  "
            ],
            "text/plain": [
              "     recording_id  species_id  songtype_id  ...     f_min    t_max     f_max\n",
              "0       003bec244          14            1  ...  2531.250  45.1307   5531.25\n",
              "1       006ab765f          23            1  ...  7235.160  46.0452  11283.40\n",
              "2       007f87ba2          12            1  ...   562.500  42.2720   3281.25\n",
              "3       0099c367b          17            4  ...  1464.260  55.1996   4565.04\n",
              "4       009b760e6          10            1  ...   947.461  52.5293  10852.70\n",
              "...           ...         ...          ...  ...       ...      ...       ...\n",
              "1211    fe8d9ac40          13            1  ...    93.750  54.0960    843.75\n",
              "1212    fea6b438a           4            1  ...  2531.250  45.7653   4031.25\n",
              "1213    ff2eb9ce5           0            1  ...  5906.250  16.0213   8250.00\n",
              "1214    ffb8d8391           5            1  ...  4781.250  16.6987  10406.20\n",
              "1215    ffb9a7b9a          18            1  ...  3187.500  41.0133   5062.50\n",
              "\n",
              "[1216 rows x 7 columns]"
            ]
          },
          "metadata": {},
          "execution_count": 8
        }
      ]
    },
    {
      "cell_type": "code",
      "source": [
        "a_loc = data_pd['species_id']\n",
        "print('max: ',a_loc.max(), ' min: ', a_loc.min())\n",
        "a_loc.hist(bins=49);"
      ],
      "metadata": {
        "colab": {
          "base_uri": "https://localhost:8080/",
          "height": 282
        },
        "id": "a10uk8CZi0Jk",
        "outputId": "973b4b3b-d722-43bb-b04e-971e07e7760c"
      },
      "execution_count": null,
      "outputs": [
        {
          "output_type": "stream",
          "name": "stdout",
          "text": [
            "max:  23  min:  0\n"
          ]
        },
        {
          "output_type": "display_data",
          "data": {
            "image/png": "[encoded data removed]",
            "text/plain": [
              "<Figure size 432x288 with 1 Axes>"
            ]
          },
          "metadata": {
            "needs_background": "light"
          }
        }
      ]
    },
    {
      "cell_type": "code",
      "source": [
        "a_loc = data_pd['songtype_id']\n",
        "print('max: ',a_loc.max(), ' min: ', a_loc.min())\n",
        "plt.title('songtype_id')\n",
        "a_loc.hist(bins=23);\n",
        "\n",
        "plt.figure()\n",
        "plt.title('species_id (songtype_id == 4)')\n",
        "data_pd[data_pd['songtype_id']==4]['species_id'].hist(bins=23);"
      ],
      "metadata": {
        "colab": {
          "base_uri": "https://localhost:8080/",
          "height": 562
        },
        "id": "FPICrOSfj1Oe",
        "outputId": "3b69ff37-2a5b-410e-ff06-7a158c1ff0b5"
      },
      "execution_count": null,
      "outputs": [
        {
          "output_type": "stream",
          "name": "stdout",
          "text": [
            "max:  4  min:  1\n"
          ]
        },
        {
          "output_type": "display_data",
          "data": {
            "image/png": "[encoded data removed]",
            "text/plain": [
              "<Figure size 432x288 with 1 Axes>"
            ]
          },
          "metadata": {
            "needs_background": "light"
          }
        },
        {
          "output_type": "display_data",
          "data": {
            "image/png": "[encoded data removed]",
            "text/plain": [
              "<Figure size 432x288 with 1 Axes>"
            ]
          },
          "metadata": {
            "needs_background": "light"
          }
        }
      ]
    },
    {
      "cell_type": "code",
      "source": [
        "data_pd['dt'] = data_pd['t_max']\t-\tdata_pd['t_min']\n",
        "ab_loc = data_pd[data_pd['songtype_id']!=4]\n",
        "ac_loc = data_pd[data_pd['songtype_id']==4]"
      ],
      "metadata": {
        "id": "57O2Vtmqkj0N"
      },
      "execution_count": null,
      "outputs": []
    },
    {
      "cell_type": "code",
      "source": [
        "ab_loc['dt'].hist(bins=20)"
      ],
      "metadata": {
        "colab": {
          "base_uri": "https://localhost:8080/",
          "height": 282
        },
        "id": "02LdLR67nogR",
        "outputId": "6ce7d7d2-5762-44b8-fa68-29f4bcce991f"
      },
      "execution_count": null,
      "outputs": [
        {
          "output_type": "execute_result",
          "data": {
            "text/plain": [
              "<matplotlib.axes._subplots.AxesSubplot at 0x7f3bf1c33410>"
            ]
          },
          "metadata": {},
          "execution_count": 12
        },
        {
          "output_type": "display_data",
          "data": {
            "image/png": "[encoded data removed]",
            "text/plain": [
              "<Figure size 432x288 with 1 Axes>"
            ]
          },
          "metadata": {
            "needs_background": "light"
          }
        }
      ]
    },
    {
      "cell_type": "code",
      "source": [
        "for iSpec in np.unique(ab_loc['species_id'].values):\n",
        "  TITLE =  'sp_id:'+str(iSpec)+'\\n'+str(ab_loc[ab_loc['species_id']==iSpec]['dt'].describe()[['mean','std']])\n",
        "  #print(TITLE,flush=True)\n",
        "  plt.figure()\n",
        "  plt.title(TITLE)\n",
        "  ab_loc[ab_loc['species_id']==iSpec]['dt'].hist(bins=10)"
      ],
      "metadata": {
        "colab": {
          "base_uri": "https://localhost:8080/",
          "height": 1000
        },
        "id": "fU6aZogslSqI",
        "outputId": "2c974bae-0c10-4c50-cafd-85528bf6c3a1"
      },
      "execution_count": null,
      "outputs": [
        {
          "output_type": "stream",
          "name": "stderr",
          "text": [
            "/usr/local/lib/python3.7/dist-packages/ipykernel_launcher.py:4: RuntimeWarning: More than 20 figures have been opened. Figures created through the pyplot interface (`matplotlib.pyplot.figure`) are retained until explicitly closed and may consume too much memory. (To control this warning, see the rcParam `figure.max_open_warning`).\n",
            "  after removing the cwd from sys.path.\n",
            "/usr/local/lib/python3.7/dist-packages/ipykernel_launcher.py:4: RuntimeWarning: More than 20 figures have been opened. Figures created through the pyplot interface (`matplotlib.pyplot.figure`) are retained until explicitly closed and may consume too much memory. (To control this warning, see the rcParam `figure.max_open_warning`).\n",
            "  after removing the cwd from sys.path.\n",
            "/usr/local/lib/python3.7/dist-packages/ipykernel_launcher.py:4: RuntimeWarning: More than 20 figures have been opened. Figures created through the pyplot interface (`matplotlib.pyplot.figure`) are retained until explicitly closed and may consume too much memory. (To control this warning, see the rcParam `figure.max_open_warning`).\n",
            "  after removing the cwd from sys.path.\n"
          ]
        },
        {
          "output_type": "display_data",
          "data": {
            "image/png": "[encoded data removed]",
            "text/plain": [
              "<Figure size 432x288 with 1 Axes>"
            ]
          },
          "metadata": {
            "needs_background": "light"
          }
        },
        {
          "output_type": "display_data",
          "data": {
            "image/png": "[encoded data removed]",
            "text/plain": [
              "<Figure size 432x288 with 1 Axes>"
            ]
          },
          "metadata": {
            "needs_background": "light"
          }
        },
        {
          "output_type": "display_data",
          "data": {
            "image/png": "[encoded data removed]",
            "text/plain": [
              "<Figure size 432x288 with 1 Axes>"
            ]
          },
          "metadata": {
            "needs_background": "light"
          }
        },
        {
          "output_type": "display_data",
          "data": {
            "image/png": "[encoded data removed]",
            "text/plain": [
              "<Figure size 432x288 with 1 Axes>"
            ]
          },
          "metadata": {
            "needs_background": "light"
          }
        },
        {
          "output_type": "display_data",
          "data": {
            "image/png": "[encoded data removed]",
            "text/plain": [
              "<Figure size 432x288 with 1 Axes>"
            ]
          },
          "metadata": {
            "needs_background": "light"
          }
        },
        {
          "output_type": "display_data",
          "data": {
            "image/png": "[encoded data removed]",
            "text/plain": [
              "<Figure size 432x288 with 1 Axes>"
            ]
          },
          "metadata": {
            "needs_background": "light"
          }
        },
        {
          "output_type": "display_data",
          "data": {
            "image/png": "[encoded data removed]",
            "text/plain": [
              "<Figure size 432x288 with 1 Axes>"
            ]
          },
          "metadata": {
            "needs_background": "light"
          }
        },
        {
          "output_type": "display_data",
          "data": {
            "image/png": "[encoded data removed]",
            "text/plain": [
              "<Figure size 432x288 with 1 Axes>"
            ]
          },
          "metadata": {
            "needs_background": "light"
          }
        },
        {
          "output_type": "display_data",
          "data": {
            "image/png": "[encoded data removed]",
            "text/plain": [
              "<Figure size 432x288 with 1 Axes>"
            ]
          },
          "metadata": {
            "needs_background": "light"
          }
        },
        {
          "output_type": "display_data",
          "data": {
            "image/png": "[encoded data removed]",
            "text/plain": [
              "<Figure size 432x288 with 1 Axes>"
            ]
          },
          "metadata": {
            "needs_background": "light"
          }
        },
        {
          "output_type": "display_data",
          "data": {
            "image/png": "[encoded data removed]",
            "text/plain": [
              "<Figure size 432x288 with 1 Axes>"
            ]
          },
          "metadata": {
            "needs_background": "light"
          }
        },
        {
          "output_type": "display_data",
          "data": {
            "image/png": "[encoded data removed]",
            "text/plain": [
              "<Figure size 432x288 with 1 Axes>"
            ]
          },
          "metadata": {
            "needs_background": "light"
          }
        },
        {
          "output_type": "display_data",
          "data": {
            "image/png": "[encoded data removed]",
            "text/plain": [
              "<Figure size 432x288 with 1 Axes>"
            ]
          },
          "metadata": {
            "needs_background": "light"
          }
        },
        {
          "output_type": "display_data",
          "data": {
            "image/png": "[encoded data removed]",
            "text/plain": [
              "<Figure size 432x288 with 1 Axes>"
            ]
          },
          "metadata": {
            "needs_background": "light"
          }
        },
        {
          "output_type": "display_data",
          "data": {
            "image/png": "[encoded data removed]",
            "text/plain": [
              "<Figure size 432x288 with 1 Axes>"
            ]
          },
          "metadata": {
            "needs_background": "light"
          }
        },
        {
          "output_type": "display_data",
          "data": {
            "image/png": "[encoded data removed]",
            "text/plain": [
              "<Figure size 432x288 with 1 Axes>"
            ]
          },
          "metadata": {
            "needs_background": "light"
          }
        },
        {
          "output_type": "display_data",
          "data": {
            "image/png": "[encoded data removed]",
            "text/plain": [
              "<Figure size 432x288 with 1 Axes>"
            ]
          },
          "metadata": {
            "needs_background": "light"
          }
        },
        {
          "output_type": "display_data",
          "data": {
            "image/png": "[encoded data removed]",
            "text/plain": [
              "<Figure size 432x288 with 1 Axes>"
            ]
          },
          "metadata": {
            "needs_background": "light"
          }
        },
        {
          "output_type": "display_data",
          "data": {
            "image/png": "[encoded data removed]",
            "text/plain": [
              "<Figure size 432x288 with 1 Axes>"
            ]
          },
          "metadata": {
            "needs_background": "light"
          }
        },
        {
          "output_type": "display_data",
          "data": {
            "image/png": "[encoded data removed]",
            "text/plain": [
              "<Figure size 432x288 with 1 Axes>"
            ]
          },
          "metadata": {
            "needs_background": "light"
          }
        },
        {
          "output_type": "display_data",
          "data": {
            "image/png": "[encoded data removed]",
            "text/plain": [
              "<Figure size 432x288 with 1 Axes>"
            ]
          },
          "metadata": {
            "needs_background": "light"
          }
        },
        {
          "output_type": "display_data",
          "data": {
            "image/png": "[encoded data removed]",
            "text/plain": [
              "<Figure size 432x288 with 1 Axes>"
            ]
          },
          "metadata": {
            "needs_background": "light"
          }
        },
        {
          "output_type": "display_data",
          "data": {
            "image/png": "[encoded data removed]",
            "text/plain": [
              "<Figure size 432x288 with 1 Axes>"
            ]
          },
          "metadata": {
            "needs_background": "light"
          }
        }
      ]
    },
    {
      "cell_type": "code",
      "source": [
        "plt.figure(figsize=(10,5))\n",
        "plt.xlim([-3,4])\n",
        "bins = np.linspace(0,4,30)\n",
        "for iSpec in np.unique(ab_loc['species_id'].values):\n",
        "  ab_loc[ab_loc['species_id']==iSpec]['dt'].hist(bins=bins,label=str(iSpec),linewidth=1)\n",
        "plt.legend(fontsize = 18,ncol=3)\n"
      ],
      "metadata": {
        "colab": {
          "base_uri": "https://localhost:8080/",
          "height": 338
        },
        "id": "qJT8SLeemBnH",
        "outputId": "a992781a-caeb-4aea-bdce-ec76e2ffb767"
      },
      "execution_count": null,
      "outputs": [
        {
          "output_type": "execute_result",
          "data": {
            "text/plain": [
              "<matplotlib.legend.Legend at 0x7f3bf02394d0>"
            ]
          },
          "metadata": {},
          "execution_count": 14
        },
        {
          "output_type": "display_data",
          "data": {
            "image/png": "[encoded data removed]",
            "text/plain": [
              "<Figure size 720x360 with 1 Axes>"
            ]
          },
          "metadata": {
            "needs_background": "light"
          }
        }
      ]
    },
    {
      "cell_type": "code",
      "source": [
        "data_pd[data_pd['species_id']==2]"
      ],
      "metadata": {
        "colab": {
          "base_uri": "https://localhost:8080/",
          "height": 1000
        },
        "id": "p73Bl7x2m-lx",
        "outputId": "a6631719-0f13-48a2-dc3b-652f7aa094af"
      },
      "execution_count": null,
      "outputs": [
        {
          "output_type": "execute_result",
          "data": {
            "text/html": [
              "\n",
              "  <div id=\"df-ab9c0193-e34f-41cf-ba83-f98860b5927e\">\n",
              "    <div class=\"colab-df-container\">\n",
              "      <div>\n",
              "<style scoped>\n",
              "    .dataframe tbody tr th:only-of-type {\n",
              "        vertical-align: middle;\n",
              "    }\n",
              "\n",
              "    .dataframe tbody tr th {\n",
              "        vertical-align: top;\n",
              "    }\n",
              "\n",
              "    .dataframe thead th {\n",
              "        text-align: right;\n",
              "    }\n",
              "</style>\n",
              "<table border=\"1\" class=\"dataframe\">\n",
              "  <thead>\n",
              "    <tr style=\"text-align: right;\">\n",
              "      <th></th>\n",
              "      <th>recording_id</th>\n",
              "      <th>species_id</th>\n",
              "      <th>songtype_id</th>\n",
              "      <th>t_min</th>\n",
              "      <th>f_min</th>\n",
              "      <th>t_max</th>\n",
              "      <th>f_max</th>\n",
              "      <th>dt</th>\n",
              "    </tr>\n",
              "  </thead>\n",
              "  <tbody>\n",
              "    <tr>\n",
              "      <th>33</th>\n",
              "      <td>05b9c974c</td>\n",
              "      <td>2</td>\n",
              "      <td>1</td>\n",
              "      <td>31.9840</td>\n",
              "      <td>468.75</td>\n",
              "      <td>33.7600</td>\n",
              "      <td>3000.0</td>\n",
              "      <td>1.776</td>\n",
              "    </tr>\n",
              "    <tr>\n",
              "      <th>60</th>\n",
              "      <td>0e034f968</td>\n",
              "      <td>2</td>\n",
              "      <td>1</td>\n",
              "      <td>1.8933</td>\n",
              "      <td>468.75</td>\n",
              "      <td>3.6693</td>\n",
              "      <td>3000.0</td>\n",
              "      <td>1.776</td>\n",
              "    </tr>\n",
              "    <tr>\n",
              "      <th>62</th>\n",
              "      <td>0e2e4ac19</td>\n",
              "      <td>2</td>\n",
              "      <td>1</td>\n",
              "      <td>44.5600</td>\n",
              "      <td>468.75</td>\n",
              "      <td>46.3360</td>\n",
              "      <td>3000.0</td>\n",
              "      <td>1.776</td>\n",
              "    </tr>\n",
              "    <tr>\n",
              "      <th>69</th>\n",
              "      <td>100e4ddc9</td>\n",
              "      <td>2</td>\n",
              "      <td>1</td>\n",
              "      <td>1.2853</td>\n",
              "      <td>468.75</td>\n",
              "      <td>3.0613</td>\n",
              "      <td>3000.0</td>\n",
              "      <td>1.776</td>\n",
              "    </tr>\n",
              "    <tr>\n",
              "      <th>104</th>\n",
              "      <td>160b70831</td>\n",
              "      <td>2</td>\n",
              "      <td>1</td>\n",
              "      <td>1.9413</td>\n",
              "      <td>468.75</td>\n",
              "      <td>3.7173</td>\n",
              "      <td>3000.0</td>\n",
              "      <td>1.776</td>\n",
              "    </tr>\n",
              "    <tr>\n",
              "      <th>151</th>\n",
              "      <td>1fb94ae60</td>\n",
              "      <td>2</td>\n",
              "      <td>1</td>\n",
              "      <td>48.2453</td>\n",
              "      <td>468.75</td>\n",
              "      <td>50.0213</td>\n",
              "      <td>3000.0</td>\n",
              "      <td>1.776</td>\n",
              "    </tr>\n",
              "    <tr>\n",
              "      <th>194</th>\n",
              "      <td>287bf77ec</td>\n",
              "      <td>2</td>\n",
              "      <td>1</td>\n",
              "      <td>12.1813</td>\n",
              "      <td>468.75</td>\n",
              "      <td>13.9573</td>\n",
              "      <td>3000.0</td>\n",
              "      <td>1.776</td>\n",
              "    </tr>\n",
              "    <tr>\n",
              "      <th>195</th>\n",
              "      <td>287bf77ec</td>\n",
              "      <td>2</td>\n",
              "      <td>1</td>\n",
              "      <td>8.8320</td>\n",
              "      <td>468.75</td>\n",
              "      <td>10.6080</td>\n",
              "      <td>3000.0</td>\n",
              "      <td>1.776</td>\n",
              "    </tr>\n",
              "    <tr>\n",
              "      <th>223</th>\n",
              "      <td>2dc763e67</td>\n",
              "      <td>2</td>\n",
              "      <td>1</td>\n",
              "      <td>15.7707</td>\n",
              "      <td>468.75</td>\n",
              "      <td>17.5467</td>\n",
              "      <td>3000.0</td>\n",
              "      <td>1.776</td>\n",
              "    </tr>\n",
              "    <tr>\n",
              "      <th>224</th>\n",
              "      <td>2dc763e67</td>\n",
              "      <td>2</td>\n",
              "      <td>1</td>\n",
              "      <td>26.1493</td>\n",
              "      <td>468.75</td>\n",
              "      <td>27.9253</td>\n",
              "      <td>3000.0</td>\n",
              "      <td>1.776</td>\n",
              "    </tr>\n",
              "    <tr>\n",
              "      <th>225</th>\n",
              "      <td>2dc763e67</td>\n",
              "      <td>2</td>\n",
              "      <td>1</td>\n",
              "      <td>6.2987</td>\n",
              "      <td>468.75</td>\n",
              "      <td>8.0747</td>\n",
              "      <td>3000.0</td>\n",
              "      <td>1.776</td>\n",
              "    </tr>\n",
              "    <tr>\n",
              "      <th>232</th>\n",
              "      <td>2eb098e76</td>\n",
              "      <td>2</td>\n",
              "      <td>1</td>\n",
              "      <td>20.8693</td>\n",
              "      <td>468.75</td>\n",
              "      <td>22.6453</td>\n",
              "      <td>3000.0</td>\n",
              "      <td>1.776</td>\n",
              "    </tr>\n",
              "    <tr>\n",
              "      <th>233</th>\n",
              "      <td>2eb098e76</td>\n",
              "      <td>2</td>\n",
              "      <td>1</td>\n",
              "      <td>24.9653</td>\n",
              "      <td>468.75</td>\n",
              "      <td>26.7413</td>\n",
              "      <td>3000.0</td>\n",
              "      <td>1.776</td>\n",
              "    </tr>\n",
              "    <tr>\n",
              "      <th>285</th>\n",
              "      <td>3a1293df5</td>\n",
              "      <td>2</td>\n",
              "      <td>1</td>\n",
              "      <td>31.0453</td>\n",
              "      <td>468.75</td>\n",
              "      <td>32.8213</td>\n",
              "      <td>3000.0</td>\n",
              "      <td>1.776</td>\n",
              "    </tr>\n",
              "    <tr>\n",
              "      <th>316</th>\n",
              "      <td>41829d963</td>\n",
              "      <td>2</td>\n",
              "      <td>1</td>\n",
              "      <td>4.2933</td>\n",
              "      <td>468.75</td>\n",
              "      <td>6.0693</td>\n",
              "      <td>3000.0</td>\n",
              "      <td>1.776</td>\n",
              "    </tr>\n",
              "    <tr>\n",
              "      <th>317</th>\n",
              "      <td>41829d963</td>\n",
              "      <td>2</td>\n",
              "      <td>1</td>\n",
              "      <td>0.6560</td>\n",
              "      <td>468.75</td>\n",
              "      <td>2.4320</td>\n",
              "      <td>3000.0</td>\n",
              "      <td>1.776</td>\n",
              "    </tr>\n",
              "    <tr>\n",
              "      <th>330</th>\n",
              "      <td>43d34d63c</td>\n",
              "      <td>2</td>\n",
              "      <td>1</td>\n",
              "      <td>9.9627</td>\n",
              "      <td>468.75</td>\n",
              "      <td>11.7387</td>\n",
              "      <td>3000.0</td>\n",
              "      <td>1.776</td>\n",
              "    </tr>\n",
              "    <tr>\n",
              "      <th>526</th>\n",
              "      <td>6a6af3c63</td>\n",
              "      <td>2</td>\n",
              "      <td>1</td>\n",
              "      <td>40.3040</td>\n",
              "      <td>468.75</td>\n",
              "      <td>42.0800</td>\n",
              "      <td>3000.0</td>\n",
              "      <td>1.776</td>\n",
              "    </tr>\n",
              "    <tr>\n",
              "      <th>691</th>\n",
              "      <td>8e2ff1226</td>\n",
              "      <td>2</td>\n",
              "      <td>1</td>\n",
              "      <td>2.1440</td>\n",
              "      <td>468.75</td>\n",
              "      <td>3.9200</td>\n",
              "      <td>3000.0</td>\n",
              "      <td>1.776</td>\n",
              "    </tr>\n",
              "    <tr>\n",
              "      <th>721</th>\n",
              "      <td>944edda33</td>\n",
              "      <td>2</td>\n",
              "      <td>1</td>\n",
              "      <td>43.7867</td>\n",
              "      <td>468.75</td>\n",
              "      <td>45.5627</td>\n",
              "      <td>3000.0</td>\n",
              "      <td>1.776</td>\n",
              "    </tr>\n",
              "    <tr>\n",
              "      <th>750</th>\n",
              "      <td>9cccd9345</td>\n",
              "      <td>2</td>\n",
              "      <td>1</td>\n",
              "      <td>54.1973</td>\n",
              "      <td>468.75</td>\n",
              "      <td>55.9733</td>\n",
              "      <td>3000.0</td>\n",
              "      <td>1.776</td>\n",
              "    </tr>\n",
              "    <tr>\n",
              "      <th>804</th>\n",
              "      <td>a92850ccd</td>\n",
              "      <td>2</td>\n",
              "      <td>1</td>\n",
              "      <td>53.7440</td>\n",
              "      <td>468.75</td>\n",
              "      <td>55.5200</td>\n",
              "      <td>3000.0</td>\n",
              "      <td>1.776</td>\n",
              "    </tr>\n",
              "    <tr>\n",
              "      <th>843</th>\n",
              "      <td>b12e80061</td>\n",
              "      <td>2</td>\n",
              "      <td>1</td>\n",
              "      <td>18.8480</td>\n",
              "      <td>468.75</td>\n",
              "      <td>20.6240</td>\n",
              "      <td>3000.0</td>\n",
              "      <td>1.776</td>\n",
              "    </tr>\n",
              "    <tr>\n",
              "      <th>861</th>\n",
              "      <td>b62b5a988</td>\n",
              "      <td>2</td>\n",
              "      <td>1</td>\n",
              "      <td>50.0960</td>\n",
              "      <td>468.75</td>\n",
              "      <td>51.8720</td>\n",
              "      <td>3000.0</td>\n",
              "      <td>1.776</td>\n",
              "    </tr>\n",
              "    <tr>\n",
              "      <th>862</th>\n",
              "      <td>b62b5a988</td>\n",
              "      <td>2</td>\n",
              "      <td>1</td>\n",
              "      <td>36.8053</td>\n",
              "      <td>468.75</td>\n",
              "      <td>38.5813</td>\n",
              "      <td>3000.0</td>\n",
              "      <td>1.776</td>\n",
              "    </tr>\n",
              "    <tr>\n",
              "      <th>873</th>\n",
              "      <td>b7e2ef23f</td>\n",
              "      <td>2</td>\n",
              "      <td>1</td>\n",
              "      <td>17.1360</td>\n",
              "      <td>468.75</td>\n",
              "      <td>18.9120</td>\n",
              "      <td>3000.0</td>\n",
              "      <td>1.776</td>\n",
              "    </tr>\n",
              "    <tr>\n",
              "      <th>911</th>\n",
              "      <td>bf9f90405</td>\n",
              "      <td>2</td>\n",
              "      <td>1</td>\n",
              "      <td>7.7067</td>\n",
              "      <td>468.75</td>\n",
              "      <td>9.4827</td>\n",
              "      <td>3000.0</td>\n",
              "      <td>1.776</td>\n",
              "    </tr>\n",
              "    <tr>\n",
              "      <th>924</th>\n",
              "      <td>c2143392b</td>\n",
              "      <td>2</td>\n",
              "      <td>1</td>\n",
              "      <td>48.1867</td>\n",
              "      <td>468.75</td>\n",
              "      <td>49.9627</td>\n",
              "      <td>3000.0</td>\n",
              "      <td>1.776</td>\n",
              "    </tr>\n",
              "    <tr>\n",
              "      <th>928</th>\n",
              "      <td>c350c0f9f</td>\n",
              "      <td>2</td>\n",
              "      <td>1</td>\n",
              "      <td>49.2107</td>\n",
              "      <td>468.75</td>\n",
              "      <td>50.9867</td>\n",
              "      <td>3000.0</td>\n",
              "      <td>1.776</td>\n",
              "    </tr>\n",
              "    <tr>\n",
              "      <th>932</th>\n",
              "      <td>c3ed6269b</td>\n",
              "      <td>2</td>\n",
              "      <td>1</td>\n",
              "      <td>48.6720</td>\n",
              "      <td>468.75</td>\n",
              "      <td>50.4480</td>\n",
              "      <td>3000.0</td>\n",
              "      <td>1.776</td>\n",
              "    </tr>\n",
              "    <tr>\n",
              "      <th>933</th>\n",
              "      <td>c4a74dcf1</td>\n",
              "      <td>2</td>\n",
              "      <td>1</td>\n",
              "      <td>51.9413</td>\n",
              "      <td>468.75</td>\n",
              "      <td>53.7173</td>\n",
              "      <td>3000.0</td>\n",
              "      <td>1.776</td>\n",
              "    </tr>\n",
              "    <tr>\n",
              "      <th>1002</th>\n",
              "      <td>d2cb96229</td>\n",
              "      <td>2</td>\n",
              "      <td>1</td>\n",
              "      <td>22.2240</td>\n",
              "      <td>468.75</td>\n",
              "      <td>24.0000</td>\n",
              "      <td>3000.0</td>\n",
              "      <td>1.776</td>\n",
              "    </tr>\n",
              "    <tr>\n",
              "      <th>1003</th>\n",
              "      <td>d2cb96229</td>\n",
              "      <td>2</td>\n",
              "      <td>1</td>\n",
              "      <td>23.8507</td>\n",
              "      <td>468.75</td>\n",
              "      <td>25.6267</td>\n",
              "      <td>3000.0</td>\n",
              "      <td>1.776</td>\n",
              "    </tr>\n",
              "    <tr>\n",
              "      <th>1029</th>\n",
              "      <td>d6c75de73</td>\n",
              "      <td>2</td>\n",
              "      <td>1</td>\n",
              "      <td>41.9093</td>\n",
              "      <td>468.75</td>\n",
              "      <td>43.6853</td>\n",
              "      <td>3000.0</td>\n",
              "      <td>1.776</td>\n",
              "    </tr>\n",
              "    <tr>\n",
              "      <th>1052</th>\n",
              "      <td>daa57db65</td>\n",
              "      <td>2</td>\n",
              "      <td>1</td>\n",
              "      <td>54.7200</td>\n",
              "      <td>468.75</td>\n",
              "      <td>56.4960</td>\n",
              "      <td>3000.0</td>\n",
              "      <td>1.776</td>\n",
              "    </tr>\n",
              "    <tr>\n",
              "      <th>1150</th>\n",
              "      <td>ed38c48b8</td>\n",
              "      <td>2</td>\n",
              "      <td>1</td>\n",
              "      <td>39.6853</td>\n",
              "      <td>468.75</td>\n",
              "      <td>41.4613</td>\n",
              "      <td>3000.0</td>\n",
              "      <td>1.776</td>\n",
              "    </tr>\n",
              "    <tr>\n",
              "      <th>1205</th>\n",
              "      <td>fd1970634</td>\n",
              "      <td>2</td>\n",
              "      <td>1</td>\n",
              "      <td>55.4987</td>\n",
              "      <td>468.75</td>\n",
              "      <td>57.2747</td>\n",
              "      <td>3000.0</td>\n",
              "      <td>1.776</td>\n",
              "    </tr>\n",
              "  </tbody>\n",
              "</table>\n",
              "</div>\n",
              "      <button class=\"colab-df-convert\" onclick=\"convertToInteractive('df-ab9c0193-e34f-41cf-ba83-f98860b5927e')\"\n",
              "              title=\"Convert this dataframe to an interactive table.\"\n",
              "              style=\"display:none;\">\n",
              "        \n",
              "  <svg xmlns=\"http://www.w3.org/2000/svg\" height=\"24px\"viewBox=\"0 0 24 24\"\n",
              "       width=\"24px\">\n",
              "    <path d=\"M0 0h24v24H0V0z\" fill=\"none\"/>\n",
              "    <path d=\"M18.56 5.44l.94 2.06.94-2.06 2.06-.94-2.06-.94-.94-2.06-.94 2.06-2.06.94zm-11 1L8.5 8.5l.94-2.06 2.06-.94-2.06-.94L8.5 2.5l-.94 2.06-2.06.94zm10 10l.94 2.06.94-2.06 2.06-.94-2.06-.94-.94-2.06-.94 2.06-2.06.94z\"/><path d=\"M17.41 7.96l-1.37-1.37c-.4-.4-.92-.59-1.43-.59-.52 0-1.04.2-1.43.59L10.3 9.45l-7.72 7.72c-.78.78-.78 2.05 0 2.83L4 21.41c.39.39.9.59 1.41.59.51 0 1.02-.2 1.41-.59l7.78-7.78 2.81-2.81c.8-.78.8-2.07 0-2.86zM5.41 20L4 18.59l7.72-7.72 1.47 1.35L5.41 20z\"/>\n",
              "  </svg>\n",
              "      </button>\n",
              "      \n",
              "  <style>\n",
              "    .colab-df-container {\n",
              "      display:flex;\n",
              "      flex-wrap:wrap;\n",
              "      gap: 12px;\n",
              "    }\n",
              "\n",
              "    .colab-df-convert {\n",
              "      background-color: #E8F0FE;\n",
              "      border: none;\n",
              "      border-radius: 50%;\n",
              "      cursor: pointer;\n",
              "      display: none;\n",
              "      fill: #1967D2;\n",
              "      height: 32px;\n",
              "      padding: 0 0 0 0;\n",
              "      width: 32px;\n",
              "    }\n",
              "\n",
              "    .colab-df-convert:hover {\n",
              "      background-color: #E2EBFA;\n",
              "      box-shadow: 0px 1px 2px rgba(60, 64, 67, 0.3), 0px 1px 3px 1px rgba(60, 64, 67, 0.15);\n",
              "      fill: #174EA6;\n",
              "    }\n",
              "\n",
              "    [theme=dark] .colab-df-convert {\n",
              "      background-color: #3B4455;\n",
              "      fill: #D2E3FC;\n",
              "    }\n",
              "\n",
              "    [theme=dark] .colab-df-convert:hover {\n",
              "      background-color: #434B5C;\n",
              "      box-shadow: 0px 1px 3px 1px rgba(0, 0, 0, 0.15);\n",
              "      filter: drop-shadow(0px 1px 2px rgba(0, 0, 0, 0.3));\n",
              "      fill: #FFFFFF;\n",
              "    }\n",
              "  </style>\n",
              "\n",
              "      <script>\n",
              "        const buttonEl =\n",
              "          document.querySelector('#df-ab9c0193-e34f-41cf-ba83-f98860b5927e button.colab-df-convert');\n",
              "        buttonEl.style.display =\n",
              "          google.colab.kernel.accessAllowed ? 'block' : 'none';\n",
              "\n",
              "        async function convertToInteractive(key) {\n",
              "          const element = document.querySelector('#df-ab9c0193-e34f-41cf-ba83-f98860b5927e');\n",
              "          const dataTable =\n",
              "            await google.colab.kernel.invokeFunction('convertToInteractive',\n",
              "                                                     [key], {});\n",
              "          if (!dataTable) return;\n",
              "\n",
              "          const docLinkHtml = 'Like what you see? Visit the ' +\n",
              "            '<a target=\"_blank\" href=https://colab.research.google.com/notebooks/data_table.ipynb>data table notebook</a>'\n",
              "            + ' to learn more about interactive tables.';\n",
              "          element.innerHTML = '';\n",
              "          dataTable['output_type'] = 'display_data';\n",
              "          await google.colab.output.renderOutput(dataTable, element);\n",
              "          const docLink = document.createElement('div');\n",
              "          docLink.innerHTML = docLinkHtml;\n",
              "          element.appendChild(docLink);\n",
              "        }\n",
              "      </script>\n",
              "    </div>\n",
              "  </div>\n",
              "  "
            ],
            "text/plain": [
              "     recording_id  species_id  songtype_id  ...    t_max   f_max     dt\n",
              "33      05b9c974c           2            1  ...  33.7600  3000.0  1.776\n",
              "60      0e034f968           2            1  ...   3.6693  3000.0  1.776\n",
              "62      0e2e4ac19           2            1  ...  46.3360  3000.0  1.776\n",
              "69      100e4ddc9           2            1  ...   3.0613  3000.0  1.776\n",
              "104     160b70831           2            1  ...   3.7173  3000.0  1.776\n",
              "151     1fb94ae60           2            1  ...  50.0213  3000.0  1.776\n",
              "194     287bf77ec           2            1  ...  13.9573  3000.0  1.776\n",
              "195     287bf77ec           2            1  ...  10.6080  3000.0  1.776\n",
              "223     2dc763e67           2            1  ...  17.5467  3000.0  1.776\n",
              "224     2dc763e67           2            1  ...  27.9253  3000.0  1.776\n",
              "225     2dc763e67           2            1  ...   8.0747  3000.0  1.776\n",
              "232     2eb098e76           2            1  ...  22.6453  3000.0  1.776\n",
              "233     2eb098e76           2            1  ...  26.7413  3000.0  1.776\n",
              "285     3a1293df5           2            1  ...  32.8213  3000.0  1.776\n",
              "316     41829d963           2            1  ...   6.0693  3000.0  1.776\n",
              "317     41829d963           2            1  ...   2.4320  3000.0  1.776\n",
              "330     43d34d63c           2            1  ...  11.7387  3000.0  1.776\n",
              "526     6a6af3c63           2            1  ...  42.0800  3000.0  1.776\n",
              "691     8e2ff1226           2            1  ...   3.9200  3000.0  1.776\n",
              "721     944edda33           2            1  ...  45.5627  3000.0  1.776\n",
              "750     9cccd9345           2            1  ...  55.9733  3000.0  1.776\n",
              "804     a92850ccd           2            1  ...  55.5200  3000.0  1.776\n",
              "843     b12e80061           2            1  ...  20.6240  3000.0  1.776\n",
              "861     b62b5a988           2            1  ...  51.8720  3000.0  1.776\n",
              "862     b62b5a988           2            1  ...  38.5813  3000.0  1.776\n",
              "873     b7e2ef23f           2            1  ...  18.9120  3000.0  1.776\n",
              "911     bf9f90405           2            1  ...   9.4827  3000.0  1.776\n",
              "924     c2143392b           2            1  ...  49.9627  3000.0  1.776\n",
              "928     c350c0f9f           2            1  ...  50.9867  3000.0  1.776\n",
              "932     c3ed6269b           2            1  ...  50.4480  3000.0  1.776\n",
              "933     c4a74dcf1           2            1  ...  53.7173  3000.0  1.776\n",
              "1002    d2cb96229           2            1  ...  24.0000  3000.0  1.776\n",
              "1003    d2cb96229           2            1  ...  25.6267  3000.0  1.776\n",
              "1029    d6c75de73           2            1  ...  43.6853  3000.0  1.776\n",
              "1052    daa57db65           2            1  ...  56.4960  3000.0  1.776\n",
              "1150    ed38c48b8           2            1  ...  41.4613  3000.0  1.776\n",
              "1205    fd1970634           2            1  ...  57.2747  3000.0  1.776\n",
              "\n",
              "[37 rows x 8 columns]"
            ]
          },
          "metadata": {},
          "execution_count": 15
        }
      ]
    },
    {
      "cell_type": "code",
      "source": [
        ""
      ],
      "metadata": {
        "id": "Zc6lRiMuwH3v"
      },
      "execution_count": null,
      "outputs": []
    },
    {
      "cell_type": "markdown",
      "source": [
        "# 2. TP and FP"
      ],
      "metadata": {
        "id": "iwBcgz2oimmA"
      }
    },
    {
      "cell_type": "code",
      "source": [
        "data_tp = pd.read_csv('/content/drive/MyDrive/mldm21_project/train_tp.csv')\n",
        "data_fp = pd.read_csv('/content/drive/MyDrive/mldm21_project/train_fp.csv')\n",
        "data_tp.head()"
      ],
      "metadata": {
        "colab": {
          "base_uri": "https://localhost:8080/",
          "height": 206
        },
        "id": "JkjLQ_jEinpl",
        "outputId": "6b4017ae-6d55-427c-fca9-fd139c7a66eb"
      },
      "execution_count": 5,
      "outputs": [
        {
          "output_type": "execute_result",
          "data": {
            "text/html": [
              "\n",
              "  <div id=\"df-f9a01c61-cd67-4dbf-91f1-cb6d51932723\">\n",
              "    <div class=\"colab-df-container\">\n",
              "      <div>\n",
              "<style scoped>\n",
              "    .dataframe tbody tr th:only-of-type {\n",
              "        vertical-align: middle;\n",
              "    }\n",
              "\n",
              "    .dataframe tbody tr th {\n",
              "        vertical-align: top;\n",
              "    }\n",
              "\n",
              "    .dataframe thead th {\n",
              "        text-align: right;\n",
              "    }\n",
              "</style>\n",
              "<table border=\"1\" class=\"dataframe\">\n",
              "  <thead>\n",
              "    <tr style=\"text-align: right;\">\n",
              "      <th></th>\n",
              "      <th>recording_id</th>\n",
              "      <th>species_id</th>\n",
              "      <th>songtype_id</th>\n",
              "      <th>t_min</th>\n",
              "      <th>f_min</th>\n",
              "      <th>t_max</th>\n",
              "      <th>f_max</th>\n",
              "    </tr>\n",
              "  </thead>\n",
              "  <tbody>\n",
              "    <tr>\n",
              "      <th>0</th>\n",
              "      <td>003bec244</td>\n",
              "      <td>14</td>\n",
              "      <td>1</td>\n",
              "      <td>44.5440</td>\n",
              "      <td>2531.250</td>\n",
              "      <td>45.1307</td>\n",
              "      <td>5531.25</td>\n",
              "    </tr>\n",
              "    <tr>\n",
              "      <th>1</th>\n",
              "      <td>006ab765f</td>\n",
              "      <td>23</td>\n",
              "      <td>1</td>\n",
              "      <td>39.9615</td>\n",
              "      <td>7235.160</td>\n",
              "      <td>46.0452</td>\n",
              "      <td>11283.40</td>\n",
              "    </tr>\n",
              "    <tr>\n",
              "      <th>2</th>\n",
              "      <td>007f87ba2</td>\n",
              "      <td>12</td>\n",
              "      <td>1</td>\n",
              "      <td>39.1360</td>\n",
              "      <td>562.500</td>\n",
              "      <td>42.2720</td>\n",
              "      <td>3281.25</td>\n",
              "    </tr>\n",
              "    <tr>\n",
              "      <th>3</th>\n",
              "      <td>0099c367b</td>\n",
              "      <td>17</td>\n",
              "      <td>4</td>\n",
              "      <td>51.4206</td>\n",
              "      <td>1464.260</td>\n",
              "      <td>55.1996</td>\n",
              "      <td>4565.04</td>\n",
              "    </tr>\n",
              "    <tr>\n",
              "      <th>4</th>\n",
              "      <td>009b760e6</td>\n",
              "      <td>10</td>\n",
              "      <td>1</td>\n",
              "      <td>50.0854</td>\n",
              "      <td>947.461</td>\n",
              "      <td>52.5293</td>\n",
              "      <td>10852.70</td>\n",
              "    </tr>\n",
              "  </tbody>\n",
              "</table>\n",
              "</div>\n",
              "      <button class=\"colab-df-convert\" onclick=\"convertToInteractive('df-f9a01c61-cd67-4dbf-91f1-cb6d51932723')\"\n",
              "              title=\"Convert this dataframe to an interactive table.\"\n",
              "              style=\"display:none;\">\n",
              "        \n",
              "  <svg xmlns=\"http://www.w3.org/2000/svg\" height=\"24px\"viewBox=\"0 0 24 24\"\n",
              "       width=\"24px\">\n",
              "    <path d=\"M0 0h24v24H0V0z\" fill=\"none\"/>\n",
              "    <path d=\"M18.56 5.44l.94 2.06.94-2.06 2.06-.94-2.06-.94-.94-2.06-.94 2.06-2.06.94zm-11 1L8.5 8.5l.94-2.06 2.06-.94-2.06-.94L8.5 2.5l-.94 2.06-2.06.94zm10 10l.94 2.06.94-2.06 2.06-.94-2.06-.94-.94-2.06-.94 2.06-2.06.94z\"/><path d=\"M17.41 7.96l-1.37-1.37c-.4-.4-.92-.59-1.43-.59-.52 0-1.04.2-1.43.59L10.3 9.45l-7.72 7.72c-.78.78-.78 2.05 0 2.83L4 21.41c.39.39.9.59 1.41.59.51 0 1.02-.2 1.41-.59l7.78-7.78 2.81-2.81c.8-.78.8-2.07 0-2.86zM5.41 20L4 18.59l7.72-7.72 1.47 1.35L5.41 20z\"/>\n",
              "  </svg>\n",
              "      </button>\n",
              "      \n",
              "  <style>\n",
              "    .colab-df-container {\n",
              "      display:flex;\n",
              "      flex-wrap:wrap;\n",
              "      gap: 12px;\n",
              "    }\n",
              "\n",
              "    .colab-df-convert {\n",
              "      background-color: #E8F0FE;\n",
              "      border: none;\n",
              "      border-radius: 50%;\n",
              "      cursor: pointer;\n",
              "      display: none;\n",
              "      fill: #1967D2;\n",
              "      height: 32px;\n",
              "      padding: 0 0 0 0;\n",
              "      width: 32px;\n",
              "    }\n",
              "\n",
              "    .colab-df-convert:hover {\n",
              "      background-color: #E2EBFA;\n",
              "      box-shadow: 0px 1px 2px rgba(60, 64, 67, 0.3), 0px 1px 3px 1px rgba(60, 64, 67, 0.15);\n",
              "      fill: #174EA6;\n",
              "    }\n",
              "\n",
              "    [theme=dark] .colab-df-convert {\n",
              "      background-color: #3B4455;\n",
              "      fill: #D2E3FC;\n",
              "    }\n",
              "\n",
              "    [theme=dark] .colab-df-convert:hover {\n",
              "      background-color: #434B5C;\n",
              "      box-shadow: 0px 1px 3px 1px rgba(0, 0, 0, 0.15);\n",
              "      filter: drop-shadow(0px 1px 2px rgba(0, 0, 0, 0.3));\n",
              "      fill: #FFFFFF;\n",
              "    }\n",
              "  </style>\n",
              "\n",
              "      <script>\n",
              "        const buttonEl =\n",
              "          document.querySelector('#df-f9a01c61-cd67-4dbf-91f1-cb6d51932723 button.colab-df-convert');\n",
              "        buttonEl.style.display =\n",
              "          google.colab.kernel.accessAllowed ? 'block' : 'none';\n",
              "\n",
              "        async function convertToInteractive(key) {\n",
              "          const element = document.querySelector('#df-f9a01c61-cd67-4dbf-91f1-cb6d51932723');\n",
              "          const dataTable =\n",
              "            await google.colab.kernel.invokeFunction('convertToInteractive',\n",
              "                                                     [key], {});\n",
              "          if (!dataTable) return;\n",
              "\n",
              "          const docLinkHtml = 'Like what you see? Visit the ' +\n",
              "            '<a target=\"_blank\" href=https://colab.research.google.com/notebooks/data_table.ipynb>data table notebook</a>'\n",
              "            + ' to learn more about interactive tables.';\n",
              "          element.innerHTML = '';\n",
              "          dataTable['output_type'] = 'display_data';\n",
              "          await google.colab.output.renderOutput(dataTable, element);\n",
              "          const docLink = document.createElement('div');\n",
              "          docLink.innerHTML = docLinkHtml;\n",
              "          element.appendChild(docLink);\n",
              "        }\n",
              "      </script>\n",
              "    </div>\n",
              "  </div>\n",
              "  "
            ],
            "text/plain": [
              "  recording_id  species_id  songtype_id    t_min     f_min    t_max     f_max\n",
              "0    003bec244          14            1  44.5440  2531.250  45.1307   5531.25\n",
              "1    006ab765f          23            1  39.9615  7235.160  46.0452  11283.40\n",
              "2    007f87ba2          12            1  39.1360   562.500  42.2720   3281.25\n",
              "3    0099c367b          17            4  51.4206  1464.260  55.1996   4565.04\n",
              "4    009b760e6          10            1  50.0854   947.461  52.5293  10852.70"
            ]
          },
          "metadata": {},
          "execution_count": 5
        }
      ]
    },
    {
      "cell_type": "code",
      "source": [
        "all_tp = data_tp['recording_id'].values\n",
        "all_fp = data_fp['recording_id'].values\n",
        "unique_tp,counts_tp = np.unique(all_tp,return_counts=True)\n",
        "unique_fp,counts_fp = np.unique(all_fp,return_counts=True)\n",
        "\n",
        "print('tp',len(unique_tp),len(all_tp))\n",
        "print('fp',len(unique_fp),len(all_fp))"
      ],
      "metadata": {
        "colab": {
          "base_uri": "https://localhost:8080/"
        },
        "id": "JYn505ORitCO",
        "outputId": "083ae986-741f-4ae8-f122-2e4b66748036"
      },
      "execution_count": 6,
      "outputs": [
        {
          "output_type": "stream",
          "name": "stdout",
          "text": [
            "tp 1132 1216\n",
            "fp 3958 7781\n"
          ]
        }
      ]
    },
    {
      "cell_type": "code",
      "source": [
        "intersect_tpfp = np.intersect1d(unique_fp,unique_tp)\n",
        "print('intersect:', len(intersect_tpfp))"
      ],
      "metadata": {
        "colab": {
          "base_uri": "https://localhost:8080/"
        },
        "id": "EoWRe0sfiyoC",
        "outputId": "14d56bdd-3613-4d2c-f036-969ab369a6b6"
      },
      "execution_count": 7,
      "outputs": [
        {
          "output_type": "stream",
          "name": "stdout",
          "text": [
            "intersect: 363\n"
          ]
        }
      ]
    },
    {
      "cell_type": "code",
      "source": [
        " data_fp[data_fp['recording_id'] == intersect_tpfp[10]]"
      ],
      "metadata": {
        "colab": {
          "base_uri": "https://localhost:8080/",
          "height": 81
        },
        "id": "5UQQEuSTkhTG",
        "outputId": "7a9f5c59-5fd4-4ebc-8374-b38b1ef246fd"
      },
      "execution_count": 9,
      "outputs": [
        {
          "output_type": "execute_result",
          "data": {
            "text/html": [
              "\n",
              "  <div id=\"df-d6797b47-f6f6-4a78-9766-4501872cee65\">\n",
              "    <div class=\"colab-df-container\">\n",
              "      <div>\n",
              "<style scoped>\n",
              "    .dataframe tbody tr th:only-of-type {\n",
              "        vertical-align: middle;\n",
              "    }\n",
              "\n",
              "    .dataframe tbody tr th {\n",
              "        vertical-align: top;\n",
              "    }\n",
              "\n",
              "    .dataframe thead th {\n",
              "        text-align: right;\n",
              "    }\n",
              "</style>\n",
              "<table border=\"1\" class=\"dataframe\">\n",
              "  <thead>\n",
              "    <tr style=\"text-align: right;\">\n",
              "      <th></th>\n",
              "      <th>recording_id</th>\n",
              "      <th>species_id</th>\n",
              "      <th>songtype_id</th>\n",
              "      <th>t_min</th>\n",
              "      <th>f_min</th>\n",
              "      <th>t_max</th>\n",
              "      <th>f_max</th>\n",
              "    </tr>\n",
              "  </thead>\n",
              "  <tbody>\n",
              "    <tr>\n",
              "      <th>204</th>\n",
              "      <td>068f1b8e2</td>\n",
              "      <td>21</td>\n",
              "      <td>1</td>\n",
              "      <td>26.0747</td>\n",
              "      <td>3281.25</td>\n",
              "      <td>27.168</td>\n",
              "      <td>4125.0</td>\n",
              "    </tr>\n",
              "  </tbody>\n",
              "</table>\n",
              "</div>\n",
              "      <button class=\"colab-df-convert\" onclick=\"convertToInteractive('df-d6797b47-f6f6-4a78-9766-4501872cee65')\"\n",
              "              title=\"Convert this dataframe to an interactive table.\"\n",
              "              style=\"display:none;\">\n",
              "        \n",
              "  <svg xmlns=\"http://www.w3.org/2000/svg\" height=\"24px\"viewBox=\"0 0 24 24\"\n",
              "       width=\"24px\">\n",
              "    <path d=\"M0 0h24v24H0V0z\" fill=\"none\"/>\n",
              "    <path d=\"M18.56 5.44l.94 2.06.94-2.06 2.06-.94-2.06-.94-.94-2.06-.94 2.06-2.06.94zm-11 1L8.5 8.5l.94-2.06 2.06-.94-2.06-.94L8.5 2.5l-.94 2.06-2.06.94zm10 10l.94 2.06.94-2.06 2.06-.94-2.06-.94-.94-2.06-.94 2.06-2.06.94z\"/><path d=\"M17.41 7.96l-1.37-1.37c-.4-.4-.92-.59-1.43-.59-.52 0-1.04.2-1.43.59L10.3 9.45l-7.72 7.72c-.78.78-.78 2.05 0 2.83L4 21.41c.39.39.9.59 1.41.59.51 0 1.02-.2 1.41-.59l7.78-7.78 2.81-2.81c.8-.78.8-2.07 0-2.86zM5.41 20L4 18.59l7.72-7.72 1.47 1.35L5.41 20z\"/>\n",
              "  </svg>\n",
              "      </button>\n",
              "      \n",
              "  <style>\n",
              "    .colab-df-container {\n",
              "      display:flex;\n",
              "      flex-wrap:wrap;\n",
              "      gap: 12px;\n",
              "    }\n",
              "\n",
              "    .colab-df-convert {\n",
              "      background-color: #E8F0FE;\n",
              "      border: none;\n",
              "      border-radius: 50%;\n",
              "      cursor: pointer;\n",
              "      display: none;\n",
              "      fill: #1967D2;\n",
              "      height: 32px;\n",
              "      padding: 0 0 0 0;\n",
              "      width: 32px;\n",
              "    }\n",
              "\n",
              "    .colab-df-convert:hover {\n",
              "      background-color: #E2EBFA;\n",
              "      box-shadow: 0px 1px 2px rgba(60, 64, 67, 0.3), 0px 1px 3px 1px rgba(60, 64, 67, 0.15);\n",
              "      fill: #174EA6;\n",
              "    }\n",
              "\n",
              "    [theme=dark] .colab-df-convert {\n",
              "      background-color: #3B4455;\n",
              "      fill: #D2E3FC;\n",
              "    }\n",
              "\n",
              "    [theme=dark] .colab-df-convert:hover {\n",
              "      background-color: #434B5C;\n",
              "      box-shadow: 0px 1px 3px 1px rgba(0, 0, 0, 0.15);\n",
              "      filter: drop-shadow(0px 1px 2px rgba(0, 0, 0, 0.3));\n",
              "      fill: #FFFFFF;\n",
              "    }\n",
              "  </style>\n",
              "\n",
              "      <script>\n",
              "        const buttonEl =\n",
              "          document.querySelector('#df-d6797b47-f6f6-4a78-9766-4501872cee65 button.colab-df-convert');\n",
              "        buttonEl.style.display =\n",
              "          google.colab.kernel.accessAllowed ? 'block' : 'none';\n",
              "\n",
              "        async function convertToInteractive(key) {\n",
              "          const element = document.querySelector('#df-d6797b47-f6f6-4a78-9766-4501872cee65');\n",
              "          const dataTable =\n",
              "            await google.colab.kernel.invokeFunction('convertToInteractive',\n",
              "                                                     [key], {});\n",
              "          if (!dataTable) return;\n",
              "\n",
              "          const docLinkHtml = 'Like what you see? Visit the ' +\n",
              "            '<a target=\"_blank\" href=https://colab.research.google.com/notebooks/data_table.ipynb>data table notebook</a>'\n",
              "            + ' to learn more about interactive tables.';\n",
              "          element.innerHTML = '';\n",
              "          dataTable['output_type'] = 'display_data';\n",
              "          await google.colab.output.renderOutput(dataTable, element);\n",
              "          const docLink = document.createElement('div');\n",
              "          docLink.innerHTML = docLinkHtml;\n",
              "          element.appendChild(docLink);\n",
              "        }\n",
              "      </script>\n",
              "    </div>\n",
              "  </div>\n",
              "  "
            ],
            "text/plain": [
              "    recording_id  species_id  songtype_id    t_min    f_min   t_max   f_max\n",
              "204    068f1b8e2          21            1  26.0747  3281.25  27.168  4125.0"
            ]
          },
          "metadata": {},
          "execution_count": 9
        }
      ]
    },
    {
      "cell_type": "code",
      "source": [
        " data_tp[data_tp['recording_id'] == intersect_tpfp[10]]"
      ],
      "metadata": {
        "colab": {
          "base_uri": "https://localhost:8080/",
          "height": 81
        },
        "id": "1KXeM2qEklMz",
        "outputId": "b8152e49-627f-4f54-eb4d-0c1221d71dd4"
      },
      "execution_count": 10,
      "outputs": [
        {
          "output_type": "execute_result",
          "data": {
            "text/html": [
              "\n",
              "  <div id=\"df-670e0b7e-9140-479f-9341-5fef57e0c8cf\">\n",
              "    <div class=\"colab-df-container\">\n",
              "      <div>\n",
              "<style scoped>\n",
              "    .dataframe tbody tr th:only-of-type {\n",
              "        vertical-align: middle;\n",
              "    }\n",
              "\n",
              "    .dataframe tbody tr th {\n",
              "        vertical-align: top;\n",
              "    }\n",
              "\n",
              "    .dataframe thead th {\n",
              "        text-align: right;\n",
              "    }\n",
              "</style>\n",
              "<table border=\"1\" class=\"dataframe\">\n",
              "  <thead>\n",
              "    <tr style=\"text-align: right;\">\n",
              "      <th></th>\n",
              "      <th>recording_id</th>\n",
              "      <th>species_id</th>\n",
              "      <th>songtype_id</th>\n",
              "      <th>t_min</th>\n",
              "      <th>f_min</th>\n",
              "      <th>t_max</th>\n",
              "      <th>f_max</th>\n",
              "    </tr>\n",
              "  </thead>\n",
              "  <tbody>\n",
              "    <tr>\n",
              "      <th>36</th>\n",
              "      <td>068f1b8e2</td>\n",
              "      <td>12</td>\n",
              "      <td>1</td>\n",
              "      <td>22.864</td>\n",
              "      <td>562.5</td>\n",
              "      <td>26.0</td>\n",
              "      <td>3281.25</td>\n",
              "    </tr>\n",
              "  </tbody>\n",
              "</table>\n",
              "</div>\n",
              "      <button class=\"colab-df-convert\" onclick=\"convertToInteractive('df-670e0b7e-9140-479f-9341-5fef57e0c8cf')\"\n",
              "              title=\"Convert this dataframe to an interactive table.\"\n",
              "              style=\"display:none;\">\n",
              "        \n",
              "  <svg xmlns=\"http://www.w3.org/2000/svg\" height=\"24px\"viewBox=\"0 0 24 24\"\n",
              "       width=\"24px\">\n",
              "    <path d=\"M0 0h24v24H0V0z\" fill=\"none\"/>\n",
              "    <path d=\"M18.56 5.44l.94 2.06.94-2.06 2.06-.94-2.06-.94-.94-2.06-.94 2.06-2.06.94zm-11 1L8.5 8.5l.94-2.06 2.06-.94-2.06-.94L8.5 2.5l-.94 2.06-2.06.94zm10 10l.94 2.06.94-2.06 2.06-.94-2.06-.94-.94-2.06-.94 2.06-2.06.94z\"/><path d=\"M17.41 7.96l-1.37-1.37c-.4-.4-.92-.59-1.43-.59-.52 0-1.04.2-1.43.59L10.3 9.45l-7.72 7.72c-.78.78-.78 2.05 0 2.83L4 21.41c.39.39.9.59 1.41.59.51 0 1.02-.2 1.41-.59l7.78-7.78 2.81-2.81c.8-.78.8-2.07 0-2.86zM5.41 20L4 18.59l7.72-7.72 1.47 1.35L5.41 20z\"/>\n",
              "  </svg>\n",
              "      </button>\n",
              "      \n",
              "  <style>\n",
              "    .colab-df-container {\n",
              "      display:flex;\n",
              "      flex-wrap:wrap;\n",
              "      gap: 12px;\n",
              "    }\n",
              "\n",
              "    .colab-df-convert {\n",
              "      background-color: #E8F0FE;\n",
              "      border: none;\n",
              "      border-radius: 50%;\n",
              "      cursor: pointer;\n",
              "      display: none;\n",
              "      fill: #1967D2;\n",
              "      height: 32px;\n",
              "      padding: 0 0 0 0;\n",
              "      width: 32px;\n",
              "    }\n",
              "\n",
              "    .colab-df-convert:hover {\n",
              "      background-color: #E2EBFA;\n",
              "      box-shadow: 0px 1px 2px rgba(60, 64, 67, 0.3), 0px 1px 3px 1px rgba(60, 64, 67, 0.15);\n",
              "      fill: #174EA6;\n",
              "    }\n",
              "\n",
              "    [theme=dark] .colab-df-convert {\n",
              "      background-color: #3B4455;\n",
              "      fill: #D2E3FC;\n",
              "    }\n",
              "\n",
              "    [theme=dark] .colab-df-convert:hover {\n",
              "      background-color: #434B5C;\n",
              "      box-shadow: 0px 1px 3px 1px rgba(0, 0, 0, 0.15);\n",
              "      filter: drop-shadow(0px 1px 2px rgba(0, 0, 0, 0.3));\n",
              "      fill: #FFFFFF;\n",
              "    }\n",
              "  </style>\n",
              "\n",
              "      <script>\n",
              "        const buttonEl =\n",
              "          document.querySelector('#df-670e0b7e-9140-479f-9341-5fef57e0c8cf button.colab-df-convert');\n",
              "        buttonEl.style.display =\n",
              "          google.colab.kernel.accessAllowed ? 'block' : 'none';\n",
              "\n",
              "        async function convertToInteractive(key) {\n",
              "          const element = document.querySelector('#df-670e0b7e-9140-479f-9341-5fef57e0c8cf');\n",
              "          const dataTable =\n",
              "            await google.colab.kernel.invokeFunction('convertToInteractive',\n",
              "                                                     [key], {});\n",
              "          if (!dataTable) return;\n",
              "\n",
              "          const docLinkHtml = 'Like what you see? Visit the ' +\n",
              "            '<a target=\"_blank\" href=https://colab.research.google.com/notebooks/data_table.ipynb>data table notebook</a>'\n",
              "            + ' to learn more about interactive tables.';\n",
              "          element.innerHTML = '';\n",
              "          dataTable['output_type'] = 'display_data';\n",
              "          await google.colab.output.renderOutput(dataTable, element);\n",
              "          const docLink = document.createElement('div');\n",
              "          docLink.innerHTML = docLinkHtml;\n",
              "          element.appendChild(docLink);\n",
              "        }\n",
              "      </script>\n",
              "    </div>\n",
              "  </div>\n",
              "  "
            ],
            "text/plain": [
              "   recording_id  species_id  songtype_id   t_min  f_min  t_max    f_max\n",
              "36    068f1b8e2          12            1  22.864  562.5   26.0  3281.25"
            ]
          },
          "metadata": {},
          "execution_count": 10
        }
      ]
    },
    {
      "cell_type": "code",
      "source": [
        "tp_multipl = unique_tp[counts_tp>=2]\n",
        "len(tp_multipl)"
      ],
      "metadata": {
        "id": "16Fld785kvrm",
        "colab": {
          "base_uri": "https://localhost:8080/"
        },
        "outputId": "f02210f4-6859-4d16-98a2-3269bb93aa15"
      },
      "execution_count": 26,
      "outputs": [
        {
          "output_type": "execute_result",
          "data": {
            "text/plain": [
              "67"
            ]
          },
          "metadata": {},
          "execution_count": 26
        }
      ]
    },
    {
      "cell_type": "code",
      "source": [
        "  for ival in tp_multipl:\n",
        "  data_temp = data_tp[data_tp['recording_id'] == ival]\n",
        "  print(data_temp['recording_id'].values[0],len(data_temp['recording_id']),np.unique(data_temp['species_id'].values))"
      ],
      "metadata": {
        "colab": {
          "base_uri": "https://localhost:8080/"
        },
        "id": "zE_-75SllFhZ",
        "outputId": "8bfb35c4-2675-4e2a-e1fd-e8e3759b855f"
      },
      "execution_count": 27,
      "outputs": [
        {
          "output_type": "stream",
          "name": "stdout",
          "text": [
            "03b96f209 2 [16]\n",
            "053aeb7bd 2 [23]\n",
            "11c2c02e5 2 [15]\n",
            "160add406 2 [23]\n",
            "16553d5cd 2 [23]\n",
            "178b835e3 3 [16 20]\n",
            "1aa00dc63 2 [12 23]\n",
            "21e2f2977 2 [15]\n",
            "287bf77ec 2 [2]\n",
            "2bcddf9a5 2 [3 5]\n",
            "2d09eb065 2 [15 19]\n",
            "2dc763e67 3 [2]\n",
            "2eb098e76 3 [2 3]\n",
            "33d0f2685 2 [16]\n",
            "34340b225 2 [ 5 23]\n",
            "349095631 2 [0 9]\n",
            "3c621e663 3 [17]\n",
            "400b7210c 4 [17 19]\n",
            "41829d963 2 [2]\n",
            "43d34d63c 2 [ 2 15]\n",
            "48fb5143f 2 [20]\n",
            "534db172e 2 [19]\n",
            "551385b05 2 [11 23]\n",
            "55b2b19d1 2 [23]\n",
            "561ed4362 2 [ 7 14]\n",
            "59a9eb657 2 [23]\n",
            "5b1e3b55b 2 [17]\n",
            "5bfe1dec6 3 [17]\n",
            "5db2e86fe 2 [ 7 15]\n",
            "5f8eecc9e 4 [ 9 23]\n",
            "5f9b4785b 2 [ 1 15]\n",
            "60b260508 2 [ 8 21]\n",
            "69aacafc4 2 [20]\n",
            "6bf2953a8 2 [20]\n",
            "6d93f853d 2 [ 3 17]\n",
            "71cf9646b 2 [15 19]\n",
            "728459067 2 [10]\n",
            "77299bde7 2 [ 8 21]\n",
            "774912d66 2 [23]\n",
            "7a9d46229 2 [ 5 22]\n",
            "9251fdbdd 2 [16]\n",
            "942ca05c0 2 [16]\n",
            "9a76cab9c 3 [17]\n",
            "a2441a74b 2 [17]\n",
            "a993402e2 2 [23]\n",
            "b056e5bc2 2 [6]\n",
            "b55d2f7b4 2 [ 7 23]\n",
            "b62b5a988 2 [2]\n",
            "b7485fa88 2 [ 6 11]\n",
            "bc9dd660e 2 [16]\n",
            "bd62d4fa2 2 [23]\n",
            "bf964d1fa 2 [ 1 16]\n",
            "c12e0a62b 5 [ 3  9 17]\n",
            "c91cae4aa 2 [ 3 23]\n",
            "cb5ddad47 3 [17]\n",
            "ccee900dd 2 [20]\n",
            "d2cb96229 2 [2]\n",
            "d58429096 2 [ 7 15]\n",
            "d59d099b3 4 [17]\n",
            "d80fab44f 2 [20]\n",
            "dd38bef4b 2 [23]\n",
            "e42215aa0 2 [ 4 23]\n",
            "e6de52902 2 [16]\n",
            "ed2f84e75 3 [ 5 22 23]\n",
            "ee3dc0bc6 2 [17]\n",
            "f3f82b897 2 [19]\n",
            "f97ababc1 2 [15]\n"
          ]
        }
      ]
    },
    {
      "cell_type": "markdown",
      "source": [
        "FP"
      ],
      "metadata": {
        "id": "tWeGvp-bszBG"
      }
    },
    {
      "cell_type": "code",
      "source": [
        "fp_multipl = unique_fp[counts_fp>=2]\n",
        "len(fp_multipl)"
      ],
      "metadata": {
        "id": "t_mf3Y88lY2Q",
        "colab": {
          "base_uri": "https://localhost:8080/"
        },
        "outputId": "47367b69-f6e0-421c-c1b6-d2eb240835ed"
      },
      "execution_count": 28,
      "outputs": [
        {
          "output_type": "execute_result",
          "data": {
            "text/plain": [
              "1930"
            ]
          },
          "metadata": {},
          "execution_count": 28
        }
      ]
    },
    {
      "cell_type": "code",
      "source": [
        "for ival in fp_multipl[2:4]:\n",
        "  data_temp = data_fp[data_fp['recording_id'] == ival]\n",
        "  print(data_temp['recording_id'].values[0],len(data_temp['recording_id']),np.unique(data_temp['species_id'].values))"
      ],
      "metadata": {
        "colab": {
          "base_uri": "https://localhost:8080/"
        },
        "id": "wkQeYQFjsyFL",
        "outputId": "c91e28bc-7974-4479-a5a7-97d5c2bc104c"
      },
      "execution_count": 37,
      "outputs": [
        {
          "output_type": "stream",
          "name": "stdout",
          "text": [
            "0079ff47b 6 [ 1  8 11 17 19 20]\n",
            "007f87ba2 3 [ 8  9 20]\n"
          ]
        }
      ]
    },
    {
      "cell_type": "code",
      "source": [
        ""
      ],
      "metadata": {
        "id": "EjfaCIVyuLaA"
      },
      "execution_count": null,
      "outputs": []
    },
    {
      "cell_type": "code",
      "source": [
        " data_fp[data_fp['recording_id'] ==fp_multipl[3]]"
      ],
      "metadata": {
        "colab": {
          "base_uri": "https://localhost:8080/",
          "height": 143
        },
        "id": "B3laT8Eds-cM",
        "outputId": "70616838-9db5-4680-a3ab-a8e36da56f35"
      },
      "execution_count": 39,
      "outputs": [
        {
          "output_type": "execute_result",
          "data": {
            "text/html": [
              "\n",
              "  <div id=\"df-c6358db6-400d-48ca-b6bc-72d35e6faaba\">\n",
              "    <div class=\"colab-df-container\">\n",
              "      <div>\n",
              "<style scoped>\n",
              "    .dataframe tbody tr th:only-of-type {\n",
              "        vertical-align: middle;\n",
              "    }\n",
              "\n",
              "    .dataframe tbody tr th {\n",
              "        vertical-align: top;\n",
              "    }\n",
              "\n",
              "    .dataframe thead th {\n",
              "        text-align: right;\n",
              "    }\n",
              "</style>\n",
              "<table border=\"1\" class=\"dataframe\">\n",
              "  <thead>\n",
              "    <tr style=\"text-align: right;\">\n",
              "      <th></th>\n",
              "      <th>recording_id</th>\n",
              "      <th>species_id</th>\n",
              "      <th>songtype_id</th>\n",
              "      <th>t_min</th>\n",
              "      <th>f_min</th>\n",
              "      <th>t_max</th>\n",
              "      <th>f_max</th>\n",
              "    </tr>\n",
              "  </thead>\n",
              "  <tbody>\n",
              "    <tr>\n",
              "      <th>13</th>\n",
              "      <td>007f87ba2</td>\n",
              "      <td>20</td>\n",
              "      <td>1</td>\n",
              "      <td>9.8880</td>\n",
              "      <td>2343.75</td>\n",
              "      <td>13.3280</td>\n",
              "      <td>5718.75</td>\n",
              "    </tr>\n",
              "    <tr>\n",
              "      <th>14</th>\n",
              "      <td>007f87ba2</td>\n",
              "      <td>9</td>\n",
              "      <td>1</td>\n",
              "      <td>5.5733</td>\n",
              "      <td>1125.00</td>\n",
              "      <td>8.3787</td>\n",
              "      <td>5250.00</td>\n",
              "    </tr>\n",
              "    <tr>\n",
              "      <th>15</th>\n",
              "      <td>007f87ba2</td>\n",
              "      <td>8</td>\n",
              "      <td>1</td>\n",
              "      <td>17.8613</td>\n",
              "      <td>3750.00</td>\n",
              "      <td>21.9840</td>\n",
              "      <td>5531.25</td>\n",
              "    </tr>\n",
              "  </tbody>\n",
              "</table>\n",
              "</div>\n",
              "      <button class=\"colab-df-convert\" onclick=\"convertToInteractive('df-c6358db6-400d-48ca-b6bc-72d35e6faaba')\"\n",
              "              title=\"Convert this dataframe to an interactive table.\"\n",
              "              style=\"display:none;\">\n",
              "        \n",
              "  <svg xmlns=\"http://www.w3.org/2000/svg\" height=\"24px\"viewBox=\"0 0 24 24\"\n",
              "       width=\"24px\">\n",
              "    <path d=\"M0 0h24v24H0V0z\" fill=\"none\"/>\n",
              "    <path d=\"M18.56 5.44l.94 2.06.94-2.06 2.06-.94-2.06-.94-.94-2.06-.94 2.06-2.06.94zm-11 1L8.5 8.5l.94-2.06 2.06-.94-2.06-.94L8.5 2.5l-.94 2.06-2.06.94zm10 10l.94 2.06.94-2.06 2.06-.94-2.06-.94-.94-2.06-.94 2.06-2.06.94z\"/><path d=\"M17.41 7.96l-1.37-1.37c-.4-.4-.92-.59-1.43-.59-.52 0-1.04.2-1.43.59L10.3 9.45l-7.72 7.72c-.78.78-.78 2.05 0 2.83L4 21.41c.39.39.9.59 1.41.59.51 0 1.02-.2 1.41-.59l7.78-7.78 2.81-2.81c.8-.78.8-2.07 0-2.86zM5.41 20L4 18.59l7.72-7.72 1.47 1.35L5.41 20z\"/>\n",
              "  </svg>\n",
              "      </button>\n",
              "      \n",
              "  <style>\n",
              "    .colab-df-container {\n",
              "      display:flex;\n",
              "      flex-wrap:wrap;\n",
              "      gap: 12px;\n",
              "    }\n",
              "\n",
              "    .colab-df-convert {\n",
              "      background-color: #E8F0FE;\n",
              "      border: none;\n",
              "      border-radius: 50%;\n",
              "      cursor: pointer;\n",
              "      display: none;\n",
              "      fill: #1967D2;\n",
              "      height: 32px;\n",
              "      padding: 0 0 0 0;\n",
              "      width: 32px;\n",
              "    }\n",
              "\n",
              "    .colab-df-convert:hover {\n",
              "      background-color: #E2EBFA;\n",
              "      box-shadow: 0px 1px 2px rgba(60, 64, 67, 0.3), 0px 1px 3px 1px rgba(60, 64, 67, 0.15);\n",
              "      fill: #174EA6;\n",
              "    }\n",
              "\n",
              "    [theme=dark] .colab-df-convert {\n",
              "      background-color: #3B4455;\n",
              "      fill: #D2E3FC;\n",
              "    }\n",
              "\n",
              "    [theme=dark] .colab-df-convert:hover {\n",
              "      background-color: #434B5C;\n",
              "      box-shadow: 0px 1px 3px 1px rgba(0, 0, 0, 0.15);\n",
              "      filter: drop-shadow(0px 1px 2px rgba(0, 0, 0, 0.3));\n",
              "      fill: #FFFFFF;\n",
              "    }\n",
              "  </style>\n",
              "\n",
              "      <script>\n",
              "        const buttonEl =\n",
              "          document.querySelector('#df-c6358db6-400d-48ca-b6bc-72d35e6faaba button.colab-df-convert');\n",
              "        buttonEl.style.display =\n",
              "          google.colab.kernel.accessAllowed ? 'block' : 'none';\n",
              "\n",
              "        async function convertToInteractive(key) {\n",
              "          const element = document.querySelector('#df-c6358db6-400d-48ca-b6bc-72d35e6faaba');\n",
              "          const dataTable =\n",
              "            await google.colab.kernel.invokeFunction('convertToInteractive',\n",
              "                                                     [key], {});\n",
              "          if (!dataTable) return;\n",
              "\n",
              "          const docLinkHtml = 'Like what you see? Visit the ' +\n",
              "            '<a target=\"_blank\" href=https://colab.research.google.com/notebooks/data_table.ipynb>data table notebook</a>'\n",
              "            + ' to learn more about interactive tables.';\n",
              "          element.innerHTML = '';\n",
              "          dataTable['output_type'] = 'display_data';\n",
              "          await google.colab.output.renderOutput(dataTable, element);\n",
              "          const docLink = document.createElement('div');\n",
              "          docLink.innerHTML = docLinkHtml;\n",
              "          element.appendChild(docLink);\n",
              "        }\n",
              "      </script>\n",
              "    </div>\n",
              "  </div>\n",
              "  "
            ],
            "text/plain": [
              "   recording_id  species_id  songtype_id    t_min    f_min    t_max    f_max\n",
              "13    007f87ba2          20            1   9.8880  2343.75  13.3280  5718.75\n",
              "14    007f87ba2           9            1   5.5733  1125.00   8.3787  5250.00\n",
              "15    007f87ba2           8            1  17.8613  3750.00  21.9840  5531.25"
            ]
          },
          "metadata": {},
          "execution_count": 39
        }
      ]
    },
    {
      "cell_type": "code",
      "source": [
        ""
      ],
      "metadata": {
        "colab": {
          "base_uri": "https://localhost:8080/"
        },
        "id": "22s_SzYXtLfO",
        "outputId": "550f13ff-f012-4ae0-821f-dbddfb31b2ae"
      },
      "execution_count": 40,
      "outputs": [
        {
          "output_type": "stream",
          "name": "stdout",
          "text": [
            "Requirement already satisfied: matplotlib-venn in /usr/local/lib/python3.7/dist-packages (0.11.6)\n",
            "Requirement already satisfied: matplotlib in /usr/local/lib/python3.7/dist-packages (from matplotlib-venn) (3.2.2)\n",
            "Requirement already satisfied: numpy in /usr/local/lib/python3.7/dist-packages (from matplotlib-venn) (1.19.5)\n",
            "Requirement already satisfied: scipy in /usr/local/lib/python3.7/dist-packages (from matplotlib-venn) (1.4.1)\n",
            "Requirement already satisfied: python-dateutil>=2.1 in /usr/local/lib/python3.7/dist-packages (from matplotlib->matplotlib-venn) (2.8.2)\n",
            "Requirement already satisfied: pyparsing!=2.0.4,!=2.1.2,!=2.1.6,>=2.0.1 in /usr/local/lib/python3.7/dist-packages (from matplotlib->matplotlib-venn) (3.0.6)\n",
            "Requirement already satisfied: kiwisolver>=1.0.1 in /usr/local/lib/python3.7/dist-packages (from matplotlib->matplotlib-venn) (1.3.2)\n",
            "Requirement already satisfied: cycler>=0.10 in /usr/local/lib/python3.7/dist-packages (from matplotlib->matplotlib-venn) (0.11.0)\n",
            "Requirement already satisfied: six>=1.5 in /usr/local/lib/python3.7/dist-packages (from python-dateutil>=2.1->matplotlib->matplotlib-venn) (1.15.0)\n"
          ]
        }
      ]
    },
    {
      "cell_type": "markdown",
      "source": [
        "# 3. Построение красивых графиков"
      ],
      "metadata": {
        "id": "pL--vrZy4ISB"
      }
    },
    {
      "cell_type": "code",
      "source": [
        "!pip install supervenn"
      ],
      "metadata": {
        "colab": {
          "base_uri": "https://localhost:8080/"
        },
        "id": "TNF38EmF4MxW",
        "outputId": "e5fa77d8-5a4c-4133-93d8-9ccbb104d16a"
      },
      "execution_count": 58,
      "outputs": [
        {
          "output_type": "stream",
          "name": "stdout",
          "text": [
            "Requirement already satisfied: supervenn in /usr/local/lib/python3.7/dist-packages (0.4.1)\n",
            "Requirement already satisfied: numpy in /usr/local/lib/python3.7/dist-packages (from supervenn) (1.19.5)\n",
            "Requirement already satisfied: matplotlib>=2.2.5 in /usr/local/lib/python3.7/dist-packages (from supervenn) (3.2.2)\n",
            "Requirement already satisfied: kiwisolver>=1.0.1 in /usr/local/lib/python3.7/dist-packages (from matplotlib>=2.2.5->supervenn) (1.3.2)\n",
            "Requirement already satisfied: python-dateutil>=2.1 in /usr/local/lib/python3.7/dist-packages (from matplotlib>=2.2.5->supervenn) (2.8.2)\n",
            "Requirement already satisfied: pyparsing!=2.0.4,!=2.1.2,!=2.1.6,>=2.0.1 in /usr/local/lib/python3.7/dist-packages (from matplotlib>=2.2.5->supervenn) (3.0.6)\n",
            "Requirement already satisfied: cycler>=0.10 in /usr/local/lib/python3.7/dist-packages (from matplotlib>=2.2.5->supervenn) (0.11.0)\n",
            "Requirement already satisfied: six>=1.5 in /usr/local/lib/python3.7/dist-packages (from python-dateutil>=2.1->matplotlib>=2.2.5->supervenn) (1.15.0)\n"
          ]
        }
      ]
    },
    {
      "cell_type": "code",
      "source": [
        "from supervenn import supervenn\n",
        "labels = ['TP files', 'FP files']\n",
        "supervenn([set(all_tp),set(all_fp)],labels);"
      ],
      "metadata": {
        "colab": {
          "base_uri": "https://localhost:8080/",
          "height": 269
        },
        "id": "8_4NaunC2Wxw",
        "outputId": "d87b027b-314e-4321-8da1-e84a5c63723a"
      },
      "execution_count": 87,
      "outputs": [
        {
          "output_type": "display_data",
          "data": {
            "image/png": "[encoded data removed]",
            "text/plain": [
              "<Figure size 432x288 with 5 Axes>"
            ]
          },
          "metadata": {
            "needs_background": "light"
          }
        }
      ]
    },
    {
      "cell_type": "code",
      "source": [
        "!pip install matplotlib-venn"
      ],
      "metadata": {
        "id": "iT_cceqd4RzB"
      },
      "execution_count": null,
      "outputs": []
    },
    {
      "cell_type": "code",
      "source": [
        "from matplotlib_venn import venn2, venn2_circles, venn2_unweighted\n",
        "from matplotlib_venn import venn3, venn3_circles\n",
        "from matplotlib import pyplot as plt"
      ],
      "metadata": {
        "id": "-Ps2zmap4HXh"
      },
      "execution_count": 60,
      "outputs": []
    },
    {
      "cell_type": "code",
      "source": [
        "plt.figure(figsize=(6,4))\n",
        "venn2(subsets = (1132, 3958, 363), set_labels = ('TP files', 'FP files'))\n",
        "\n",
        "plt.title('Number of Audio files');"
      ],
      "metadata": {
        "colab": {
          "base_uri": "https://localhost:8080/",
          "height": 266
        },
        "id": "3mO8zhGu4QW2",
        "outputId": "db640e4b-fd5e-4394-fba3-ad473a6418da"
      },
      "execution_count": 61,
      "outputs": [
        {
          "output_type": "display_data",
          "data": {
            "image/png": "[encoded data removed]",
            "text/plain": [
              "<Figure size 432x288 with 1 Axes>"
            ]
          },
          "metadata": {}
        }
      ]
    },
    {
      "cell_type": "code",
      "source": [
        "plt.title('Number of TP labels in files',fontsize=15);\n",
        "plt.xlabel('Number of songs per file',fontsize=12);\n",
        "plt.ylabel('Log Number of files',fontsize=12);\n",
        "plt.hist(counts_tp,log=True,bins=4,align='left',rwidth=0.9);\n",
        "plt.xticks([1,2,3,4]);"
      ],
      "metadata": {
        "colab": {
          "base_uri": "https://localhost:8080/",
          "height": 300
        },
        "id": "LiLcO3Zm4SSB",
        "outputId": "286e1248-c1fe-400e-d28c-976774ea28d8"
      },
      "execution_count": 86,
      "outputs": [
        {
          "output_type": "display_data",
          "data": {
            "image/png": "[encoded data removed]",
            "text/plain": [
              "<Figure size 432x288 with 1 Axes>"
            ]
          },
          "metadata": {
            "needs_background": "light"
          }
        }
      ]
    },
    {
      "cell_type": "code",
      "source": [
        "plt.title('Number of FP labels in files',fontsize=15);\n",
        "plt.xlabel('Number of songs per file',fontsize=12);\n",
        "plt.ylabel('Log Number of files',fontsize=12);\n",
        "plt.hist(counts_fp,log=True,bins=9,align='left',rwidth=0.9);\n",
        "plt.xticks(range(1,10));"
      ],
      "metadata": {
        "colab": {
          "base_uri": "https://localhost:8080/",
          "height": 300
        },
        "id": "579hDmCu4zQu",
        "outputId": "0acf24f6-d863-48fd-8cf9-a8e12dfda8c3"
      },
      "execution_count": 85,
      "outputs": [
        {
          "output_type": "display_data",
          "data": {
            "image/png": "[encoded data removed]",
            "text/plain": [
              "<Figure size 432x288 with 1 Axes>"
            ]
          },
          "metadata": {
            "needs_background": "light"
          }
        }
      ]
    },
    {
      "cell_type": "code",
      "source": [
        "sp_id_fp = data_fp['species_id'].values\n",
        "sp_id_tp = data_tp['species_id'].values"
      ],
      "metadata": {
        "id": "c6DzH1gH7j1t"
      },
      "execution_count": 90,
      "outputs": []
    },
    {
      "cell_type": "code",
      "source": [
        "plt.title('Classes if FP files',fontsize=15);\n",
        "plt.ylabel('Number of species',fontsize=12);\n",
        "plt.xlabel('Label of class',fontsize=12);\n",
        "plt.hist(sp_id_fp,bins=range(0,25),align='left',rwidth=0.9);\n",
        "plt.xticks(range(0,24));"
      ],
      "metadata": {
        "colab": {
          "base_uri": "https://localhost:8080/",
          "height": 300
        },
        "id": "3cYc2d36FC2y",
        "outputId": "f89c7918-85b9-4dd9-e841-de1ff5097250"
      },
      "execution_count": 126,
      "outputs": [
        {
          "output_type": "display_data",
          "data": {
            "image/png": "[encoded data removed]",
            "text/plain": [
              "<Figure size 432x288 with 1 Axes>"
            ]
          },
          "metadata": {
            "needs_background": "light"
          }
        }
      ]
    },
    {
      "cell_type": "code",
      "source": [
        "plt.title('Classes if TP files',fontsize=15);\n",
        "plt.ylabel('Number of species',fontsize=12);\n",
        "plt.xlabel('Label of class',fontsize=12);\n",
        "plt.hist(sp_id_tp,bins=range(0,25),align='left',rwidth=0.9);\n",
        "plt.xticks(range(0,24));"
      ],
      "metadata": {
        "colab": {
          "base_uri": "https://localhost:8080/",
          "height": 300
        },
        "id": "XAi6g9JCGNJ0",
        "outputId": "2029b696-c1c7-43ae-cfb3-42ba49aba327"
      },
      "execution_count": 127,
      "outputs": [
        {
          "output_type": "display_data",
          "data": {
            "image/png": "[encoded data removed]",
            "text/plain": [
              "<Figure size 432x288 with 1 Axes>"
            ]
          },
          "metadata": {
            "needs_background": "light"
          }
        }
      ]
    },
    {
      "cell_type": "code",
      "source": [
        ""
      ],
      "metadata": {
        "id": "zyI0JykaHF2Y"
      },
      "execution_count": null,
      "outputs": []
    },
    {
      "cell_type": "markdown",
      "source": [
        "# 4. Создание меток "
      ],
      "metadata": {
        "id": "ewasQ7SEPyyq"
      }
    },
    {
      "cell_type": "code",
      "source": [
        "data_tp = pd.read_csv('/content/drive/MyDrive/mldm21_project/train_tp.csv')\n",
        "data_fp = pd.read_csv('/content/drive/MyDrive/mldm21_project/train_fp.csv')"
      ],
      "metadata": {
        "id": "0RO0DqfUP4Od"
      },
      "execution_count": 100,
      "outputs": []
    },
    {
      "cell_type": "code",
      "source": [
        "data_tp.head(2)"
      ],
      "metadata": {
        "colab": {
          "base_uri": "https://localhost:8080/",
          "height": 112
        },
        "id": "UhMWI-BJRRU9",
        "outputId": "f86e7cc3-06e0-47a9-ac4e-1ffaf308e9ea"
      },
      "execution_count": 101,
      "outputs": [
        {
          "output_type": "execute_result",
          "data": {
            "text/html": [
              "\n",
              "  <div id=\"df-c49163bc-5074-4747-b240-cc48ea3150ad\">\n",
              "    <div class=\"colab-df-container\">\n",
              "      <div>\n",
              "<style scoped>\n",
              "    .dataframe tbody tr th:only-of-type {\n",
              "        vertical-align: middle;\n",
              "    }\n",
              "\n",
              "    .dataframe tbody tr th {\n",
              "        vertical-align: top;\n",
              "    }\n",
              "\n",
              "    .dataframe thead th {\n",
              "        text-align: right;\n",
              "    }\n",
              "</style>\n",
              "<table border=\"1\" class=\"dataframe\">\n",
              "  <thead>\n",
              "    <tr style=\"text-align: right;\">\n",
              "      <th></th>\n",
              "      <th>recording_id</th>\n",
              "      <th>species_id</th>\n",
              "      <th>songtype_id</th>\n",
              "      <th>t_min</th>\n",
              "      <th>f_min</th>\n",
              "      <th>t_max</th>\n",
              "      <th>f_max</th>\n",
              "    </tr>\n",
              "  </thead>\n",
              "  <tbody>\n",
              "    <tr>\n",
              "      <th>0</th>\n",
              "      <td>003bec244</td>\n",
              "      <td>14</td>\n",
              "      <td>1</td>\n",
              "      <td>44.5440</td>\n",
              "      <td>2531.25</td>\n",
              "      <td>45.1307</td>\n",
              "      <td>5531.25</td>\n",
              "    </tr>\n",
              "    <tr>\n",
              "      <th>1</th>\n",
              "      <td>006ab765f</td>\n",
              "      <td>23</td>\n",
              "      <td>1</td>\n",
              "      <td>39.9615</td>\n",
              "      <td>7235.16</td>\n",
              "      <td>46.0452</td>\n",
              "      <td>11283.40</td>\n",
              "    </tr>\n",
              "  </tbody>\n",
              "</table>\n",
              "</div>\n",
              "      <button class=\"colab-df-convert\" onclick=\"convertToInteractive('df-c49163bc-5074-4747-b240-cc48ea3150ad')\"\n",
              "              title=\"Convert this dataframe to an interactive table.\"\n",
              "              style=\"display:none;\">\n",
              "        \n",
              "  <svg xmlns=\"http://www.w3.org/2000/svg\" height=\"24px\"viewBox=\"0 0 24 24\"\n",
              "       width=\"24px\">\n",
              "    <path d=\"M0 0h24v24H0V0z\" fill=\"none\"/>\n",
              "    <path d=\"M18.56 5.44l.94 2.06.94-2.06 2.06-.94-2.06-.94-.94-2.06-.94 2.06-2.06.94zm-11 1L8.5 8.5l.94-2.06 2.06-.94-2.06-.94L8.5 2.5l-.94 2.06-2.06.94zm10 10l.94 2.06.94-2.06 2.06-.94-2.06-.94-.94-2.06-.94 2.06-2.06.94z\"/><path d=\"M17.41 7.96l-1.37-1.37c-.4-.4-.92-.59-1.43-.59-.52 0-1.04.2-1.43.59L10.3 9.45l-7.72 7.72c-.78.78-.78 2.05 0 2.83L4 21.41c.39.39.9.59 1.41.59.51 0 1.02-.2 1.41-.59l7.78-7.78 2.81-2.81c.8-.78.8-2.07 0-2.86zM5.41 20L4 18.59l7.72-7.72 1.47 1.35L5.41 20z\"/>\n",
              "  </svg>\n",
              "      </button>\n",
              "      \n",
              "  <style>\n",
              "    .colab-df-container {\n",
              "      display:flex;\n",
              "      flex-wrap:wrap;\n",
              "      gap: 12px;\n",
              "    }\n",
              "\n",
              "    .colab-df-convert {\n",
              "      background-color: #E8F0FE;\n",
              "      border: none;\n",
              "      border-radius: 50%;\n",
              "      cursor: pointer;\n",
              "      display: none;\n",
              "      fill: #1967D2;\n",
              "      height: 32px;\n",
              "      padding: 0 0 0 0;\n",
              "      width: 32px;\n",
              "    }\n",
              "\n",
              "    .colab-df-convert:hover {\n",
              "      background-color: #E2EBFA;\n",
              "      box-shadow: 0px 1px 2px rgba(60, 64, 67, 0.3), 0px 1px 3px 1px rgba(60, 64, 67, 0.15);\n",
              "      fill: #174EA6;\n",
              "    }\n",
              "\n",
              "    [theme=dark] .colab-df-convert {\n",
              "      background-color: #3B4455;\n",
              "      fill: #D2E3FC;\n",
              "    }\n",
              "\n",
              "    [theme=dark] .colab-df-convert:hover {\n",
              "      background-color: #434B5C;\n",
              "      box-shadow: 0px 1px 3px 1px rgba(0, 0, 0, 0.15);\n",
              "      filter: drop-shadow(0px 1px 2px rgba(0, 0, 0, 0.3));\n",
              "      fill: #FFFFFF;\n",
              "    }\n",
              "  </style>\n",
              "\n",
              "      <script>\n",
              "        const buttonEl =\n",
              "          document.querySelector('#df-c49163bc-5074-4747-b240-cc48ea3150ad button.colab-df-convert');\n",
              "        buttonEl.style.display =\n",
              "          google.colab.kernel.accessAllowed ? 'block' : 'none';\n",
              "\n",
              "        async function convertToInteractive(key) {\n",
              "          const element = document.querySelector('#df-c49163bc-5074-4747-b240-cc48ea3150ad');\n",
              "          const dataTable =\n",
              "            await google.colab.kernel.invokeFunction('convertToInteractive',\n",
              "                                                     [key], {});\n",
              "          if (!dataTable) return;\n",
              "\n",
              "          const docLinkHtml = 'Like what you see? Visit the ' +\n",
              "            '<a target=\"_blank\" href=https://colab.research.google.com/notebooks/data_table.ipynb>data table notebook</a>'\n",
              "            + ' to learn more about interactive tables.';\n",
              "          element.innerHTML = '';\n",
              "          dataTable['output_type'] = 'display_data';\n",
              "          await google.colab.output.renderOutput(dataTable, element);\n",
              "          const docLink = document.createElement('div');\n",
              "          docLink.innerHTML = docLinkHtml;\n",
              "          element.appendChild(docLink);\n",
              "        }\n",
              "      </script>\n",
              "    </div>\n",
              "  </div>\n",
              "  "
            ],
            "text/plain": [
              "  recording_id  species_id  songtype_id    t_min    f_min    t_max     f_max\n",
              "0    003bec244          14            1  44.5440  2531.25  45.1307   5531.25\n",
              "1    006ab765f          23            1  39.9615  7235.16  46.0452  11283.40"
            ]
          },
          "metadata": {},
          "execution_count": 101
        }
      ]
    },
    {
      "cell_type": "code",
      "source": [
        "files_arr_fp = []\n",
        "labels_arr_fp = []\n",
        "\n",
        "files_arr_tp = []\n",
        "labels_arr_tp = []\n",
        "\n",
        "for ifile in np.unique(data_fp['recording_id'].values):\n",
        "  data_cur = data_fp[data_fp['recording_id']==ifile]\n",
        "\n",
        "  label_i = np.ones(24)\n",
        "  index = data_cur['species_id'].values\n",
        "  label_i[index]=0\n",
        "  label_i = label_i/np.sum(label_i)\n",
        "\n",
        "  files_arr_fp.append(ifile)\n",
        "  labels_arr_fp.append(label_i)\n",
        "\n",
        "\n",
        "for ifile in np.unique(data_tp['recording_id'].values):\n",
        "  data_cur = data_tp[data_tp['recording_id']==ifile]\n",
        "  \n",
        "\n",
        "  label_i = np.zeros(24)\n",
        "  index = np.random.choice(data_cur['species_id'].values)\n",
        "  label_i[index]=1\n",
        "\n",
        "\n",
        "  files_arr_tp.append(ifile)\n",
        "  labels_arr_tp.append(label_i)"
      ],
      "metadata": {
        "id": "VWN7i4eaQ-4m"
      },
      "execution_count": 134,
      "outputs": []
    },
    {
      "cell_type": "code",
      "source": [
        "np.savez('/content/drive/MyDrive/mldm21_project/labels_simple',\n",
        "          files_fp=files_arr_fp,\n",
        "         labels_fp=labels_arr_fp,\n",
        "         files_tp=files_arr_tp,\n",
        "         labels_tp=labels_arr_tp\n",
        "        )"
      ],
      "metadata": {
        "id": "tjgJSUCBSMJ3"
      },
      "execution_count": 137,
      "outputs": []
    },
    {
      "cell_type": "code",
      "source": [
        ""
      ],
      "metadata": {
        "id": "uanuXXKjSPDA"
      },
      "execution_count": null,
      "outputs": []
    }
  ]
}