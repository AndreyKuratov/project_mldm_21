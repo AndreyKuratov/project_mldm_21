{
  "nbformat": 4,
  "nbformat_minor": 0,
  "metadata": {
    "colab": {
      "name": "MLDM-proj-5 NN with multilabel data",
      "provenance": [],
      "collapsed_sections": [],
      "authorship_tag": "ABX9TyPS3/L68xMfdcdlB9Y9sE+5",
      "include_colab_link": true
    },
    "kernelspec": {
      "name": "python3",
      "display_name": "Python 3"
    },
    "language_info": {
      "name": "python"
    }
  },
  "cells": [
    {
      "cell_type": "markdown",
      "metadata": {
        "id": "view-in-github",
        "colab_type": "text"
      },
      "source": [
        "<a href=\"https://colab.research.google.com/github/AndreyKuratov/project_mldm_21/blob/main/MLDM_proj_5_NN_with_multilabel_data.ipynb\" target=\"_parent\"><img src=\"https://colab.research.google.com/assets/colab-badge.svg\" alt=\"Open In Colab\"/></a>"
      ]
    },
    {
      "cell_type": "code",
      "execution_count": 1,
      "metadata": {
        "colab": {
          "base_uri": "https://localhost:8080/"
        },
        "id": "B8rX5ePYxoD2",
        "outputId": "74f3b842-4622-44dd-e97d-0eff350a069c"
      },
      "outputs": [
        {
          "output_type": "stream",
          "name": "stdout",
          "text": [
            "Mounted at /content/drive\n"
          ]
        }
      ],
      "source": [
        "from google.colab import drive\n",
        "drive.mount('/content/drive')"
      ]
    },
    {
      "cell_type": "code",
      "source": [
        "import numpy as np\n",
        "import pandas as pd\n",
        "import matplotlib.pyplot as plt\n",
        "import soundfile as sf\n",
        "import scipy.signal as signal\n",
        "import os\n",
        "from tqdm import tqdm\n",
        "\n",
        "import os\n",
        "import csv\n",
        "import numpy as np\n",
        "import pandas as pd\n",
        "from pathlib import Path\n",
        "from PIL import Image\n",
        "\n",
        "import librosa as lb \n",
        "import librosa.display\n",
        "import matplotlib.pyplot as plt\n",
        "import IPython.display as ipd\n",
        "\n",
        "from skimage.transform import resize\n",
        "from scipy import stats\n",
        "\n",
        "from sklearn.preprocessing import MinMaxScaler\n",
        "from skimage.transform import resize\n",
        "\n",
        "import torchvision.models as models\n",
        "import torch\n",
        "\n",
        "import torch.nn as nn\n",
        "import torch.optim as optim\n",
        "import numpy as np\n",
        "import torchvision\n",
        "from torchvision import datasets, models, transforms\n",
        "\n",
        "import torch\n",
        "from torch.utils.data import Dataset\n",
        "from torchvision import datasets\n",
        "from torchvision.transforms import ToTensor\n",
        "import matplotlib.pyplot as plt\n",
        "import os\n",
        "import pandas as pd\n",
        "from torchvision.io import read_image\n",
        "from torch.utils.data import DataLoader"
      ],
      "metadata": {
        "id": "3FVPSiKXxu3W"
      },
      "execution_count": 2,
      "outputs": []
    },
    {
      "cell_type": "markdown",
      "source": [
        "Загрузка всех необходимых файлов"
      ],
      "metadata": {
        "id": "PDgtUSo-2Pa_"
      }
    },
    {
      "cell_type": "code",
      "source": [
        "PATH_TO_DIR = '/content/drive/MyDrive/mldm21_project/'\n",
        "PATH_TO_SAVE = '/content/drive/MyDrive/mldm21_project/'\n",
        "\n",
        "data_tp = np.load(PATH_TO_SAVE+'sr_48e3_nfft_2e11_hlop_2e9_pict_256x512_u8_tp.npz',allow_pickle=True)\n",
        "# 'imgs' 'labels'\n",
        "labels = np.load(PATH_TO_SAVE+'labels_simple_v2.npz')\n",
        "# 'files_fp' 'labels_fp' 'files_tp' 'labels_tp'\n",
        "\n",
        "train_labels = np.load('/content/drive/MyDrive/mldm21_project/train_ids_0.npy') \n",
        "test_labels = np.load('/content/drive/MyDrive/mldm21_project/test_ids_0.npy') \n",
        "\n",
        "labels_pd_fp = pd.read_csv('/content/drive/MyDrive/mldm21_project/train_fp.csv')\n",
        "labels_pd_tp = pd.read_csv('/content/drive/MyDrive/mldm21_project/train_tp.csv')"
      ],
      "metadata": {
        "id": "udS5W2u3x2N3"
      },
      "execution_count": null,
      "outputs": []
    },
    {
      "cell_type": "markdown",
      "source": [
        "Создание обучающего и тестового набора данных"
      ],
      "metadata": {
        "id": "28nyKwlE2SNF"
      }
    },
    {
      "cell_type": "code",
      "source": [
        ""
      ],
      "metadata": {
        "id": "xcaJN2G02X15"
      },
      "execution_count": null,
      "outputs": []
    }
  ]
}