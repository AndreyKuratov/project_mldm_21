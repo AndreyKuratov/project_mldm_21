{
  "nbformat": 4,
  "nbformat_minor": 0,
  "metadata": {
    "colab": {
      "name": "MLDM-proj-7 single NN train v5_tp_shift AnK",
      "provenance": [],
      "collapsed_sections": [],
      "machine_shape": "hm",
      "authorship_tag": "ABX9TyMoREHLyga14imNOL5qO1/L",
      "include_colab_link": true
    },
    "kernelspec": {
      "name": "python3",
      "display_name": "Python 3"
    },
    "language_info": {
      "name": "python"
    },
    "widgets": {
      "application/vnd.jupyter.widget-state+json": {
        "fa280db3de7d487a9ef9a7a82140c05f": {
          "model_module": "@jupyter-widgets/controls",
          "model_name": "HBoxModel",
          "model_module_version": "1.5.0",
          "state": {
            "_view_name": "HBoxView",
            "_dom_classes": [],
            "_model_name": "HBoxModel",
            "_view_module": "@jupyter-widgets/controls",
            "_model_module_version": "1.5.0",
            "_view_count": null,
            "_view_module_version": "1.5.0",
            "box_style": "",
            "layout": "IPY_MODEL_194ba2612af4483bb0b94e3cd26221ba",
            "_model_module": "@jupyter-widgets/controls",
            "children": [
              "IPY_MODEL_88d8a050edb24a6d83906db24ed8f5c7",
              "IPY_MODEL_3e67b00712514fbdb4a7ed4d7a8b9819",
              "IPY_MODEL_e8db1a85b97a4409ad85a422fc7edd3b"
            ]
          }
        },
        "194ba2612af4483bb0b94e3cd26221ba": {
          "model_module": "@jupyter-widgets/base",
          "model_name": "LayoutModel",
          "model_module_version": "1.2.0",
          "state": {
            "_view_name": "LayoutView",
            "grid_template_rows": null,
            "right": null,
            "justify_content": null,
            "_view_module": "@jupyter-widgets/base",
            "overflow": null,
            "_model_module_version": "1.2.0",
            "_view_count": null,
            "flex_flow": null,
            "width": null,
            "min_width": null,
            "border": null,
            "align_items": null,
            "bottom": null,
            "_model_module": "@jupyter-widgets/base",
            "top": null,
            "grid_column": null,
            "overflow_y": null,
            "overflow_x": null,
            "grid_auto_flow": null,
            "grid_area": null,
            "grid_template_columns": null,
            "flex": null,
            "_model_name": "LayoutModel",
            "justify_items": null,
            "grid_row": null,
            "max_height": null,
            "align_content": null,
            "visibility": null,
            "align_self": null,
            "height": null,
            "min_height": null,
            "padding": null,
            "grid_auto_rows": null,
            "grid_gap": null,
            "max_width": null,
            "order": null,
            "_view_module_version": "1.2.0",
            "grid_template_areas": null,
            "object_position": null,
            "object_fit": null,
            "grid_auto_columns": null,
            "margin": null,
            "display": null,
            "left": null
          }
        },
        "88d8a050edb24a6d83906db24ed8f5c7": {
          "model_module": "@jupyter-widgets/controls",
          "model_name": "HTMLModel",
          "model_module_version": "1.5.0",
          "state": {
            "_view_name": "HTMLView",
            "style": "IPY_MODEL_cd45b6c5d46d424e9a7c6ccfc204baea",
            "_dom_classes": [],
            "description": "",
            "_model_name": "HTMLModel",
            "placeholder": "​",
            "_view_module": "@jupyter-widgets/controls",
            "_model_module_version": "1.5.0",
            "value": "epoch step:   4%",
            "_view_count": null,
            "_view_module_version": "1.5.0",
            "description_tooltip": null,
            "_model_module": "@jupyter-widgets/controls",
            "layout": "IPY_MODEL_a004c40fa0ea41868cff501e1a90cdc5"
          }
        },
        "3e67b00712514fbdb4a7ed4d7a8b9819": {
          "model_module": "@jupyter-widgets/controls",
          "model_name": "FloatProgressModel",
          "model_module_version": "1.5.0",
          "state": {
            "_view_name": "ProgressView",
            "style": "IPY_MODEL_d8d0c52c34a14ec693f42d8ad587e873",
            "_dom_classes": [],
            "description": "",
            "_model_name": "FloatProgressModel",
            "bar_style": "danger",
            "max": 210,
            "_view_module": "@jupyter-widgets/controls",
            "_model_module_version": "1.5.0",
            "value": 9,
            "_view_count": null,
            "_view_module_version": "1.5.0",
            "orientation": "horizontal",
            "min": 0,
            "description_tooltip": null,
            "_model_module": "@jupyter-widgets/controls",
            "layout": "IPY_MODEL_f74e41c054e841bf89a5a94ec03b0b0e"
          }
        },
        "e8db1a85b97a4409ad85a422fc7edd3b": {
          "model_module": "@jupyter-widgets/controls",
          "model_name": "HTMLModel",
          "model_module_version": "1.5.0",
          "state": {
            "_view_name": "HTMLView",
            "style": "IPY_MODEL_56e56d3fb3e240fba50ea963889069fb",
            "_dom_classes": [],
            "description": "",
            "_model_name": "HTMLModel",
            "placeholder": "​",
            "_view_module": "@jupyter-widgets/controls",
            "_model_module_version": "1.5.0",
            "value": " 9/210 [04:02&lt;1:28:25, 26.39s/it]",
            "_view_count": null,
            "_view_module_version": "1.5.0",
            "description_tooltip": null,
            "_model_module": "@jupyter-widgets/controls",
            "layout": "IPY_MODEL_5ff0887c04f54d918ba31670025fda9c"
          }
        },
        "cd45b6c5d46d424e9a7c6ccfc204baea": {
          "model_module": "@jupyter-widgets/controls",
          "model_name": "DescriptionStyleModel",
          "model_module_version": "1.5.0",
          "state": {
            "_view_name": "StyleView",
            "_model_name": "DescriptionStyleModel",
            "description_width": "",
            "_view_module": "@jupyter-widgets/base",
            "_model_module_version": "1.5.0",
            "_view_count": null,
            "_view_module_version": "1.2.0",
            "_model_module": "@jupyter-widgets/controls"
          }
        },
        "a004c40fa0ea41868cff501e1a90cdc5": {
          "model_module": "@jupyter-widgets/base",
          "model_name": "LayoutModel",
          "model_module_version": "1.2.0",
          "state": {
            "_view_name": "LayoutView",
            "grid_template_rows": null,
            "right": null,
            "justify_content": null,
            "_view_module": "@jupyter-widgets/base",
            "overflow": null,
            "_model_module_version": "1.2.0",
            "_view_count": null,
            "flex_flow": null,
            "width": null,
            "min_width": null,
            "border": null,
            "align_items": null,
            "bottom": null,
            "_model_module": "@jupyter-widgets/base",
            "top": null,
            "grid_column": null,
            "overflow_y": null,
            "overflow_x": null,
            "grid_auto_flow": null,
            "grid_area": null,
            "grid_template_columns": null,
            "flex": null,
            "_model_name": "LayoutModel",
            "justify_items": null,
            "grid_row": null,
            "max_height": null,
            "align_content": null,
            "visibility": null,
            "align_self": null,
            "height": null,
            "min_height": null,
            "padding": null,
            "grid_auto_rows": null,
            "grid_gap": null,
            "max_width": null,
            "order": null,
            "_view_module_version": "1.2.0",
            "grid_template_areas": null,
            "object_position": null,
            "object_fit": null,
            "grid_auto_columns": null,
            "margin": null,
            "display": null,
            "left": null
          }
        },
        "d8d0c52c34a14ec693f42d8ad587e873": {
          "model_module": "@jupyter-widgets/controls",
          "model_name": "ProgressStyleModel",
          "model_module_version": "1.5.0",
          "state": {
            "_view_name": "StyleView",
            "_model_name": "ProgressStyleModel",
            "description_width": "",
            "_view_module": "@jupyter-widgets/base",
            "_model_module_version": "1.5.0",
            "_view_count": null,
            "_view_module_version": "1.2.0",
            "bar_color": null,
            "_model_module": "@jupyter-widgets/controls"
          }
        },
        "f74e41c054e841bf89a5a94ec03b0b0e": {
          "model_module": "@jupyter-widgets/base",
          "model_name": "LayoutModel",
          "model_module_version": "1.2.0",
          "state": {
            "_view_name": "LayoutView",
            "grid_template_rows": null,
            "right": null,
            "justify_content": null,
            "_view_module": "@jupyter-widgets/base",
            "overflow": null,
            "_model_module_version": "1.2.0",
            "_view_count": null,
            "flex_flow": null,
            "width": null,
            "min_width": null,
            "border": null,
            "align_items": null,
            "bottom": null,
            "_model_module": "@jupyter-widgets/base",
            "top": null,
            "grid_column": null,
            "overflow_y": null,
            "overflow_x": null,
            "grid_auto_flow": null,
            "grid_area": null,
            "grid_template_columns": null,
            "flex": null,
            "_model_name": "LayoutModel",
            "justify_items": null,
            "grid_row": null,
            "max_height": null,
            "align_content": null,
            "visibility": null,
            "align_self": null,
            "height": null,
            "min_height": null,
            "padding": null,
            "grid_auto_rows": null,
            "grid_gap": null,
            "max_width": null,
            "order": null,
            "_view_module_version": "1.2.0",
            "grid_template_areas": null,
            "object_position": null,
            "object_fit": null,
            "grid_auto_columns": null,
            "margin": null,
            "display": null,
            "left": null
          }
        },
        "56e56d3fb3e240fba50ea963889069fb": {
          "model_module": "@jupyter-widgets/controls",
          "model_name": "DescriptionStyleModel",
          "model_module_version": "1.5.0",
          "state": {
            "_view_name": "StyleView",
            "_model_name": "DescriptionStyleModel",
            "description_width": "",
            "_view_module": "@jupyter-widgets/base",
            "_model_module_version": "1.5.0",
            "_view_count": null,
            "_view_module_version": "1.2.0",
            "_model_module": "@jupyter-widgets/controls"
          }
        },
        "5ff0887c04f54d918ba31670025fda9c": {
          "model_module": "@jupyter-widgets/base",
          "model_name": "LayoutModel",
          "model_module_version": "1.2.0",
          "state": {
            "_view_name": "LayoutView",
            "grid_template_rows": null,
            "right": null,
            "justify_content": null,
            "_view_module": "@jupyter-widgets/base",
            "overflow": null,
            "_model_module_version": "1.2.0",
            "_view_count": null,
            "flex_flow": null,
            "width": null,
            "min_width": null,
            "border": null,
            "align_items": null,
            "bottom": null,
            "_model_module": "@jupyter-widgets/base",
            "top": null,
            "grid_column": null,
            "overflow_y": null,
            "overflow_x": null,
            "grid_auto_flow": null,
            "grid_area": null,
            "grid_template_columns": null,
            "flex": null,
            "_model_name": "LayoutModel",
            "justify_items": null,
            "grid_row": null,
            "max_height": null,
            "align_content": null,
            "visibility": null,
            "align_self": null,
            "height": null,
            "min_height": null,
            "padding": null,
            "grid_auto_rows": null,
            "grid_gap": null,
            "max_width": null,
            "order": null,
            "_view_module_version": "1.2.0",
            "grid_template_areas": null,
            "object_position": null,
            "object_fit": null,
            "grid_auto_columns": null,
            "margin": null,
            "display": null,
            "left": null
          }
        },
        "bb40579ceae2468a81c73a6be50e8434": {
          "model_module": "@jupyter-widgets/controls",
          "model_name": "HBoxModel",
          "model_module_version": "1.5.0",
          "state": {
            "_view_name": "HBoxView",
            "_dom_classes": [],
            "_model_name": "HBoxModel",
            "_view_module": "@jupyter-widgets/controls",
            "_model_module_version": "1.5.0",
            "_view_count": null,
            "_view_module_version": "1.5.0",
            "box_style": "",
            "layout": "IPY_MODEL_b7a813e857e74754a685e1be8f1ca433",
            "_model_module": "@jupyter-widgets/controls",
            "children": [
              "IPY_MODEL_729f5e897887468e90418e5792b2ac51",
              "IPY_MODEL_e3f811ad0ad3432b89e731aab44247a3",
              "IPY_MODEL_3df3b3ddbd2a437a9588109432cc56e2"
            ]
          }
        },
        "b7a813e857e74754a685e1be8f1ca433": {
          "model_module": "@jupyter-widgets/base",
          "model_name": "LayoutModel",
          "model_module_version": "1.2.0",
          "state": {
            "_view_name": "LayoutView",
            "grid_template_rows": null,
            "right": null,
            "justify_content": null,
            "_view_module": "@jupyter-widgets/base",
            "overflow": null,
            "_model_module_version": "1.2.0",
            "_view_count": null,
            "flex_flow": null,
            "width": null,
            "min_width": null,
            "border": null,
            "align_items": null,
            "bottom": null,
            "_model_module": "@jupyter-widgets/base",
            "top": null,
            "grid_column": null,
            "overflow_y": null,
            "overflow_x": null,
            "grid_auto_flow": null,
            "grid_area": null,
            "grid_template_columns": null,
            "flex": null,
            "_model_name": "LayoutModel",
            "justify_items": null,
            "grid_row": null,
            "max_height": null,
            "align_content": null,
            "visibility": null,
            "align_self": null,
            "height": null,
            "min_height": null,
            "padding": null,
            "grid_auto_rows": null,
            "grid_gap": null,
            "max_width": null,
            "order": null,
            "_view_module_version": "1.2.0",
            "grid_template_areas": null,
            "object_position": null,
            "object_fit": null,
            "grid_auto_columns": null,
            "margin": null,
            "display": null,
            "left": null
          }
        },
        "729f5e897887468e90418e5792b2ac51": {
          "model_module": "@jupyter-widgets/controls",
          "model_name": "HTMLModel",
          "model_module_version": "1.5.0",
          "state": {
            "_view_name": "HTMLView",
            "style": "IPY_MODEL_58c0aae00629473d85e53ef1c39490b8",
            "_dom_classes": [],
            "description": "",
            "_model_name": "HTMLModel",
            "placeholder": "​",
            "_view_module": "@jupyter-widgets/controls",
            "_model_module_version": "1.5.0",
            "value": "train loader: 100%",
            "_view_count": null,
            "_view_module_version": "1.5.0",
            "description_tooltip": null,
            "_model_module": "@jupyter-widgets/controls",
            "layout": "IPY_MODEL_221f53132f964cb8bc345fc25bb6703e"
          }
        },
        "e3f811ad0ad3432b89e731aab44247a3": {
          "model_module": "@jupyter-widgets/controls",
          "model_name": "FloatProgressModel",
          "model_module_version": "1.5.0",
          "state": {
            "_view_name": "ProgressView",
            "style": "IPY_MODEL_49b74e9cf3754e4188a8bcb2a8118c32",
            "_dom_classes": [],
            "description": "",
            "_model_name": "FloatProgressModel",
            "bar_style": "success",
            "max": 63,
            "_view_module": "@jupyter-widgets/controls",
            "_model_module_version": "1.5.0",
            "value": 63,
            "_view_count": null,
            "_view_module_version": "1.5.0",
            "orientation": "horizontal",
            "min": 0,
            "description_tooltip": null,
            "_model_module": "@jupyter-widgets/controls",
            "layout": "IPY_MODEL_2bcf3f61755f48d7b9df51f64735990f"
          }
        },
        "3df3b3ddbd2a437a9588109432cc56e2": {
          "model_module": "@jupyter-widgets/controls",
          "model_name": "HTMLModel",
          "model_module_version": "1.5.0",
          "state": {
            "_view_name": "HTMLView",
            "style": "IPY_MODEL_955c72879bed44acb433eced614f62dd",
            "_dom_classes": [],
            "description": "",
            "_model_name": "HTMLModel",
            "placeholder": "​",
            "_view_module": "@jupyter-widgets/controls",
            "_model_module_version": "1.5.0",
            "value": " 63/63 [00:25&lt;00:00,  2.95it/s]",
            "_view_count": null,
            "_view_module_version": "1.5.0",
            "description_tooltip": null,
            "_model_module": "@jupyter-widgets/controls",
            "layout": "IPY_MODEL_f3e7d3e6cb204f428d47f56bc05e0ec8"
          }
        },
        "58c0aae00629473d85e53ef1c39490b8": {
          "model_module": "@jupyter-widgets/controls",
          "model_name": "DescriptionStyleModel",
          "model_module_version": "1.5.0",
          "state": {
            "_view_name": "StyleView",
            "_model_name": "DescriptionStyleModel",
            "description_width": "",
            "_view_module": "@jupyter-widgets/base",
            "_model_module_version": "1.5.0",
            "_view_count": null,
            "_view_module_version": "1.2.0",
            "_model_module": "@jupyter-widgets/controls"
          }
        },
        "221f53132f964cb8bc345fc25bb6703e": {
          "model_module": "@jupyter-widgets/base",
          "model_name": "LayoutModel",
          "model_module_version": "1.2.0",
          "state": {
            "_view_name": "LayoutView",
            "grid_template_rows": null,
            "right": null,
            "justify_content": null,
            "_view_module": "@jupyter-widgets/base",
            "overflow": null,
            "_model_module_version": "1.2.0",
            "_view_count": null,
            "flex_flow": null,
            "width": null,
            "min_width": null,
            "border": null,
            "align_items": null,
            "bottom": null,
            "_model_module": "@jupyter-widgets/base",
            "top": null,
            "grid_column": null,
            "overflow_y": null,
            "overflow_x": null,
            "grid_auto_flow": null,
            "grid_area": null,
            "grid_template_columns": null,
            "flex": null,
            "_model_name": "LayoutModel",
            "justify_items": null,
            "grid_row": null,
            "max_height": null,
            "align_content": null,
            "visibility": null,
            "align_self": null,
            "height": null,
            "min_height": null,
            "padding": null,
            "grid_auto_rows": null,
            "grid_gap": null,
            "max_width": null,
            "order": null,
            "_view_module_version": "1.2.0",
            "grid_template_areas": null,
            "object_position": null,
            "object_fit": null,
            "grid_auto_columns": null,
            "margin": null,
            "display": null,
            "left": null
          }
        },
        "49b74e9cf3754e4188a8bcb2a8118c32": {
          "model_module": "@jupyter-widgets/controls",
          "model_name": "ProgressStyleModel",
          "model_module_version": "1.5.0",
          "state": {
            "_view_name": "StyleView",
            "_model_name": "ProgressStyleModel",
            "description_width": "",
            "_view_module": "@jupyter-widgets/base",
            "_model_module_version": "1.5.0",
            "_view_count": null,
            "_view_module_version": "1.2.0",
            "bar_color": null,
            "_model_module": "@jupyter-widgets/controls"
          }
        },
        "2bcf3f61755f48d7b9df51f64735990f": {
          "model_module": "@jupyter-widgets/base",
          "model_name": "LayoutModel",
          "model_module_version": "1.2.0",
          "state": {
            "_view_name": "LayoutView",
            "grid_template_rows": null,
            "right": null,
            "justify_content": null,
            "_view_module": "@jupyter-widgets/base",
            "overflow": null,
            "_model_module_version": "1.2.0",
            "_view_count": null,
            "flex_flow": null,
            "width": null,
            "min_width": null,
            "border": null,
            "align_items": null,
            "bottom": null,
            "_model_module": "@jupyter-widgets/base",
            "top": null,
            "grid_column": null,
            "overflow_y": null,
            "overflow_x": null,
            "grid_auto_flow": null,
            "grid_area": null,
            "grid_template_columns": null,
            "flex": null,
            "_model_name": "LayoutModel",
            "justify_items": null,
            "grid_row": null,
            "max_height": null,
            "align_content": null,
            "visibility": null,
            "align_self": null,
            "height": null,
            "min_height": null,
            "padding": null,
            "grid_auto_rows": null,
            "grid_gap": null,
            "max_width": null,
            "order": null,
            "_view_module_version": "1.2.0",
            "grid_template_areas": null,
            "object_position": null,
            "object_fit": null,
            "grid_auto_columns": null,
            "margin": null,
            "display": null,
            "left": null
          }
        },
        "955c72879bed44acb433eced614f62dd": {
          "model_module": "@jupyter-widgets/controls",
          "model_name": "DescriptionStyleModel",
          "model_module_version": "1.5.0",
          "state": {
            "_view_name": "StyleView",
            "_model_name": "DescriptionStyleModel",
            "description_width": "",
            "_view_module": "@jupyter-widgets/base",
            "_model_module_version": "1.5.0",
            "_view_count": null,
            "_view_module_version": "1.2.0",
            "_model_module": "@jupyter-widgets/controls"
          }
        },
        "f3e7d3e6cb204f428d47f56bc05e0ec8": {
          "model_module": "@jupyter-widgets/base",
          "model_name": "LayoutModel",
          "model_module_version": "1.2.0",
          "state": {
            "_view_name": "LayoutView",
            "grid_template_rows": null,
            "right": null,
            "justify_content": null,
            "_view_module": "@jupyter-widgets/base",
            "overflow": null,
            "_model_module_version": "1.2.0",
            "_view_count": null,
            "flex_flow": null,
            "width": null,
            "min_width": null,
            "border": null,
            "align_items": null,
            "bottom": null,
            "_model_module": "@jupyter-widgets/base",
            "top": null,
            "grid_column": null,
            "overflow_y": null,
            "overflow_x": null,
            "grid_auto_flow": null,
            "grid_area": null,
            "grid_template_columns": null,
            "flex": null,
            "_model_name": "LayoutModel",
            "justify_items": null,
            "grid_row": null,
            "max_height": null,
            "align_content": null,
            "visibility": null,
            "align_self": null,
            "height": null,
            "min_height": null,
            "padding": null,
            "grid_auto_rows": null,
            "grid_gap": null,
            "max_width": null,
            "order": null,
            "_view_module_version": "1.2.0",
            "grid_template_areas": null,
            "object_position": null,
            "object_fit": null,
            "grid_auto_columns": null,
            "margin": null,
            "display": null,
            "left": null
          }
        },
        "cdf7ffcbd5a8498b8fc3fd3609ab77b0": {
          "model_module": "@jupyter-widgets/controls",
          "model_name": "HBoxModel",
          "model_module_version": "1.5.0",
          "state": {
            "_view_name": "HBoxView",
            "_dom_classes": [],
            "_model_name": "HBoxModel",
            "_view_module": "@jupyter-widgets/controls",
            "_model_module_version": "1.5.0",
            "_view_count": null,
            "_view_module_version": "1.5.0",
            "box_style": "",
            "layout": "IPY_MODEL_e75df7e1b90944f0ab1896a9a5ea645f",
            "_model_module": "@jupyter-widgets/controls",
            "children": [
              "IPY_MODEL_85a17c62ed75480680cf21359cf0bdc0",
              "IPY_MODEL_24c1036282b5497c93885a51f69b63a0",
              "IPY_MODEL_eecccd95eaf648a88d57e009abd6fa96"
            ]
          }
        },
        "e75df7e1b90944f0ab1896a9a5ea645f": {
          "model_module": "@jupyter-widgets/base",
          "model_name": "LayoutModel",
          "model_module_version": "1.2.0",
          "state": {
            "_view_name": "LayoutView",
            "grid_template_rows": null,
            "right": null,
            "justify_content": null,
            "_view_module": "@jupyter-widgets/base",
            "overflow": null,
            "_model_module_version": "1.2.0",
            "_view_count": null,
            "flex_flow": null,
            "width": null,
            "min_width": null,
            "border": null,
            "align_items": null,
            "bottom": null,
            "_model_module": "@jupyter-widgets/base",
            "top": null,
            "grid_column": null,
            "overflow_y": null,
            "overflow_x": null,
            "grid_auto_flow": null,
            "grid_area": null,
            "grid_template_columns": null,
            "flex": null,
            "_model_name": "LayoutModel",
            "justify_items": null,
            "grid_row": null,
            "max_height": null,
            "align_content": null,
            "visibility": null,
            "align_self": null,
            "height": null,
            "min_height": null,
            "padding": null,
            "grid_auto_rows": null,
            "grid_gap": null,
            "max_width": null,
            "order": null,
            "_view_module_version": "1.2.0",
            "grid_template_areas": null,
            "object_position": null,
            "object_fit": null,
            "grid_auto_columns": null,
            "margin": null,
            "display": null,
            "left": null
          }
        },
        "85a17c62ed75480680cf21359cf0bdc0": {
          "model_module": "@jupyter-widgets/controls",
          "model_name": "HTMLModel",
          "model_module_version": "1.5.0",
          "state": {
            "_view_name": "HTMLView",
            "style": "IPY_MODEL_577c0b8cb51c4a76b75bd8ba69a77c4f",
            "_dom_classes": [],
            "description": "",
            "_model_name": "HTMLModel",
            "placeholder": "​",
            "_view_module": "@jupyter-widgets/controls",
            "_model_module_version": "1.5.0",
            "value": "train loader: 100%",
            "_view_count": null,
            "_view_module_version": "1.5.0",
            "description_tooltip": null,
            "_model_module": "@jupyter-widgets/controls",
            "layout": "IPY_MODEL_b7d3cfa3cb7b40f9a8b55533d2dbe797"
          }
        },
        "24c1036282b5497c93885a51f69b63a0": {
          "model_module": "@jupyter-widgets/controls",
          "model_name": "FloatProgressModel",
          "model_module_version": "1.5.0",
          "state": {
            "_view_name": "ProgressView",
            "style": "IPY_MODEL_b459df22479b4a3c896f2112fa1f3636",
            "_dom_classes": [],
            "description": "",
            "_model_name": "FloatProgressModel",
            "bar_style": "success",
            "max": 63,
            "_view_module": "@jupyter-widgets/controls",
            "_model_module_version": "1.5.0",
            "value": 63,
            "_view_count": null,
            "_view_module_version": "1.5.0",
            "orientation": "horizontal",
            "min": 0,
            "description_tooltip": null,
            "_model_module": "@jupyter-widgets/controls",
            "layout": "IPY_MODEL_c77f9f834bbe4f36bf5633a73795bb09"
          }
        },
        "eecccd95eaf648a88d57e009abd6fa96": {
          "model_module": "@jupyter-widgets/controls",
          "model_name": "HTMLModel",
          "model_module_version": "1.5.0",
          "state": {
            "_view_name": "HTMLView",
            "style": "IPY_MODEL_e799edb0b1544643840e21cebf7cae52",
            "_dom_classes": [],
            "description": "",
            "_model_name": "HTMLModel",
            "placeholder": "​",
            "_view_module": "@jupyter-widgets/controls",
            "_model_module_version": "1.5.0",
            "value": " 63/63 [00:25&lt;00:00,  2.94it/s]",
            "_view_count": null,
            "_view_module_version": "1.5.0",
            "description_tooltip": null,
            "_model_module": "@jupyter-widgets/controls",
            "layout": "IPY_MODEL_6cd242a1b924460a927de58eec680de9"
          }
        },
        "577c0b8cb51c4a76b75bd8ba69a77c4f": {
          "model_module": "@jupyter-widgets/controls",
          "model_name": "DescriptionStyleModel",
          "model_module_version": "1.5.0",
          "state": {
            "_view_name": "StyleView",
            "_model_name": "DescriptionStyleModel",
            "description_width": "",
            "_view_module": "@jupyter-widgets/base",
            "_model_module_version": "1.5.0",
            "_view_count": null,
            "_view_module_version": "1.2.0",
            "_model_module": "@jupyter-widgets/controls"
          }
        },
        "b7d3cfa3cb7b40f9a8b55533d2dbe797": {
          "model_module": "@jupyter-widgets/base",
          "model_name": "LayoutModel",
          "model_module_version": "1.2.0",
          "state": {
            "_view_name": "LayoutView",
            "grid_template_rows": null,
            "right": null,
            "justify_content": null,
            "_view_module": "@jupyter-widgets/base",
            "overflow": null,
            "_model_module_version": "1.2.0",
            "_view_count": null,
            "flex_flow": null,
            "width": null,
            "min_width": null,
            "border": null,
            "align_items": null,
            "bottom": null,
            "_model_module": "@jupyter-widgets/base",
            "top": null,
            "grid_column": null,
            "overflow_y": null,
            "overflow_x": null,
            "grid_auto_flow": null,
            "grid_area": null,
            "grid_template_columns": null,
            "flex": null,
            "_model_name": "LayoutModel",
            "justify_items": null,
            "grid_row": null,
            "max_height": null,
            "align_content": null,
            "visibility": null,
            "align_self": null,
            "height": null,
            "min_height": null,
            "padding": null,
            "grid_auto_rows": null,
            "grid_gap": null,
            "max_width": null,
            "order": null,
            "_view_module_version": "1.2.0",
            "grid_template_areas": null,
            "object_position": null,
            "object_fit": null,
            "grid_auto_columns": null,
            "margin": null,
            "display": null,
            "left": null
          }
        },
        "b459df22479b4a3c896f2112fa1f3636": {
          "model_module": "@jupyter-widgets/controls",
          "model_name": "ProgressStyleModel",
          "model_module_version": "1.5.0",
          "state": {
            "_view_name": "StyleView",
            "_model_name": "ProgressStyleModel",
            "description_width": "",
            "_view_module": "@jupyter-widgets/base",
            "_model_module_version": "1.5.0",
            "_view_count": null,
            "_view_module_version": "1.2.0",
            "bar_color": null,
            "_model_module": "@jupyter-widgets/controls"
          }
        },
        "c77f9f834bbe4f36bf5633a73795bb09": {
          "model_module": "@jupyter-widgets/base",
          "model_name": "LayoutModel",
          "model_module_version": "1.2.0",
          "state": {
            "_view_name": "LayoutView",
            "grid_template_rows": null,
            "right": null,
            "justify_content": null,
            "_view_module": "@jupyter-widgets/base",
            "overflow": null,
            "_model_module_version": "1.2.0",
            "_view_count": null,
            "flex_flow": null,
            "width": null,
            "min_width": null,
            "border": null,
            "align_items": null,
            "bottom": null,
            "_model_module": "@jupyter-widgets/base",
            "top": null,
            "grid_column": null,
            "overflow_y": null,
            "overflow_x": null,
            "grid_auto_flow": null,
            "grid_area": null,
            "grid_template_columns": null,
            "flex": null,
            "_model_name": "LayoutModel",
            "justify_items": null,
            "grid_row": null,
            "max_height": null,
            "align_content": null,
            "visibility": null,
            "align_self": null,
            "height": null,
            "min_height": null,
            "padding": null,
            "grid_auto_rows": null,
            "grid_gap": null,
            "max_width": null,
            "order": null,
            "_view_module_version": "1.2.0",
            "grid_template_areas": null,
            "object_position": null,
            "object_fit": null,
            "grid_auto_columns": null,
            "margin": null,
            "display": null,
            "left": null
          }
        },
        "e799edb0b1544643840e21cebf7cae52": {
          "model_module": "@jupyter-widgets/controls",
          "model_name": "DescriptionStyleModel",
          "model_module_version": "1.5.0",
          "state": {
            "_view_name": "StyleView",
            "_model_name": "DescriptionStyleModel",
            "description_width": "",
            "_view_module": "@jupyter-widgets/base",
            "_model_module_version": "1.5.0",
            "_view_count": null,
            "_view_module_version": "1.2.0",
            "_model_module": "@jupyter-widgets/controls"
          }
        },
        "6cd242a1b924460a927de58eec680de9": {
          "model_module": "@jupyter-widgets/base",
          "model_name": "LayoutModel",
          "model_module_version": "1.2.0",
          "state": {
            "_view_name": "LayoutView",
            "grid_template_rows": null,
            "right": null,
            "justify_content": null,
            "_view_module": "@jupyter-widgets/base",
            "overflow": null,
            "_model_module_version": "1.2.0",
            "_view_count": null,
            "flex_flow": null,
            "width": null,
            "min_width": null,
            "border": null,
            "align_items": null,
            "bottom": null,
            "_model_module": "@jupyter-widgets/base",
            "top": null,
            "grid_column": null,
            "overflow_y": null,
            "overflow_x": null,
            "grid_auto_flow": null,
            "grid_area": null,
            "grid_template_columns": null,
            "flex": null,
            "_model_name": "LayoutModel",
            "justify_items": null,
            "grid_row": null,
            "max_height": null,
            "align_content": null,
            "visibility": null,
            "align_self": null,
            "height": null,
            "min_height": null,
            "padding": null,
            "grid_auto_rows": null,
            "grid_gap": null,
            "max_width": null,
            "order": null,
            "_view_module_version": "1.2.0",
            "grid_template_areas": null,
            "object_position": null,
            "object_fit": null,
            "grid_auto_columns": null,
            "margin": null,
            "display": null,
            "left": null
          }
        },
        "4055a76d39a94b37a8d12879ce616667": {
          "model_module": "@jupyter-widgets/controls",
          "model_name": "HBoxModel",
          "model_module_version": "1.5.0",
          "state": {
            "_view_name": "HBoxView",
            "_dom_classes": [],
            "_model_name": "HBoxModel",
            "_view_module": "@jupyter-widgets/controls",
            "_model_module_version": "1.5.0",
            "_view_count": null,
            "_view_module_version": "1.5.0",
            "box_style": "",
            "layout": "IPY_MODEL_8f25b4c137b54fc8b0002b8708fe3db3",
            "_model_module": "@jupyter-widgets/controls",
            "children": [
              "IPY_MODEL_0d99a869e49a40e1a3812985e7ed33fc",
              "IPY_MODEL_5324e709160d411ca3f6df680dd735bb",
              "IPY_MODEL_6356889cabae4659bea7b53150a9f42a"
            ]
          }
        },
        "8f25b4c137b54fc8b0002b8708fe3db3": {
          "model_module": "@jupyter-widgets/base",
          "model_name": "LayoutModel",
          "model_module_version": "1.2.0",
          "state": {
            "_view_name": "LayoutView",
            "grid_template_rows": null,
            "right": null,
            "justify_content": null,
            "_view_module": "@jupyter-widgets/base",
            "overflow": null,
            "_model_module_version": "1.2.0",
            "_view_count": null,
            "flex_flow": null,
            "width": null,
            "min_width": null,
            "border": null,
            "align_items": null,
            "bottom": null,
            "_model_module": "@jupyter-widgets/base",
            "top": null,
            "grid_column": null,
            "overflow_y": null,
            "overflow_x": null,
            "grid_auto_flow": null,
            "grid_area": null,
            "grid_template_columns": null,
            "flex": null,
            "_model_name": "LayoutModel",
            "justify_items": null,
            "grid_row": null,
            "max_height": null,
            "align_content": null,
            "visibility": null,
            "align_self": null,
            "height": null,
            "min_height": null,
            "padding": null,
            "grid_auto_rows": null,
            "grid_gap": null,
            "max_width": null,
            "order": null,
            "_view_module_version": "1.2.0",
            "grid_template_areas": null,
            "object_position": null,
            "object_fit": null,
            "grid_auto_columns": null,
            "margin": null,
            "display": null,
            "left": null
          }
        },
        "0d99a869e49a40e1a3812985e7ed33fc": {
          "model_module": "@jupyter-widgets/controls",
          "model_name": "HTMLModel",
          "model_module_version": "1.5.0",
          "state": {
            "_view_name": "HTMLView",
            "style": "IPY_MODEL_2bed0a8c1b3f4e74b4a95aaa8380c613",
            "_dom_classes": [],
            "description": "",
            "_model_name": "HTMLModel",
            "placeholder": "​",
            "_view_module": "@jupyter-widgets/controls",
            "_model_module_version": "1.5.0",
            "value": "train loader: 100%",
            "_view_count": null,
            "_view_module_version": "1.5.0",
            "description_tooltip": null,
            "_model_module": "@jupyter-widgets/controls",
            "layout": "IPY_MODEL_9e23b9a0f89e47d8a42271b13dad21ca"
          }
        },
        "5324e709160d411ca3f6df680dd735bb": {
          "model_module": "@jupyter-widgets/controls",
          "model_name": "FloatProgressModel",
          "model_module_version": "1.5.0",
          "state": {
            "_view_name": "ProgressView",
            "style": "IPY_MODEL_3a77c4da51984b5fa5f1dcfd494cccfe",
            "_dom_classes": [],
            "description": "",
            "_model_name": "FloatProgressModel",
            "bar_style": "success",
            "max": 63,
            "_view_module": "@jupyter-widgets/controls",
            "_model_module_version": "1.5.0",
            "value": 63,
            "_view_count": null,
            "_view_module_version": "1.5.0",
            "orientation": "horizontal",
            "min": 0,
            "description_tooltip": null,
            "_model_module": "@jupyter-widgets/controls",
            "layout": "IPY_MODEL_27e33c9b8a104d7f8512415500eeb328"
          }
        },
        "6356889cabae4659bea7b53150a9f42a": {
          "model_module": "@jupyter-widgets/controls",
          "model_name": "HTMLModel",
          "model_module_version": "1.5.0",
          "state": {
            "_view_name": "HTMLView",
            "style": "IPY_MODEL_206cd85ebdb64f68bb68b64489ab4f1c",
            "_dom_classes": [],
            "description": "",
            "_model_name": "HTMLModel",
            "placeholder": "​",
            "_view_module": "@jupyter-widgets/controls",
            "_model_module_version": "1.5.0",
            "value": " 63/63 [00:25&lt;00:00,  2.95it/s]",
            "_view_count": null,
            "_view_module_version": "1.5.0",
            "description_tooltip": null,
            "_model_module": "@jupyter-widgets/controls",
            "layout": "IPY_MODEL_43b3c8e8bb1c4d599f70b07e10ea7761"
          }
        },
        "2bed0a8c1b3f4e74b4a95aaa8380c613": {
          "model_module": "@jupyter-widgets/controls",
          "model_name": "DescriptionStyleModel",
          "model_module_version": "1.5.0",
          "state": {
            "_view_name": "StyleView",
            "_model_name": "DescriptionStyleModel",
            "description_width": "",
            "_view_module": "@jupyter-widgets/base",
            "_model_module_version": "1.5.0",
            "_view_count": null,
            "_view_module_version": "1.2.0",
            "_model_module": "@jupyter-widgets/controls"
          }
        },
        "9e23b9a0f89e47d8a42271b13dad21ca": {
          "model_module": "@jupyter-widgets/base",
          "model_name": "LayoutModel",
          "model_module_version": "1.2.0",
          "state": {
            "_view_name": "LayoutView",
            "grid_template_rows": null,
            "right": null,
            "justify_content": null,
            "_view_module": "@jupyter-widgets/base",
            "overflow": null,
            "_model_module_version": "1.2.0",
            "_view_count": null,
            "flex_flow": null,
            "width": null,
            "min_width": null,
            "border": null,
            "align_items": null,
            "bottom": null,
            "_model_module": "@jupyter-widgets/base",
            "top": null,
            "grid_column": null,
            "overflow_y": null,
            "overflow_x": null,
            "grid_auto_flow": null,
            "grid_area": null,
            "grid_template_columns": null,
            "flex": null,
            "_model_name": "LayoutModel",
            "justify_items": null,
            "grid_row": null,
            "max_height": null,
            "align_content": null,
            "visibility": null,
            "align_self": null,
            "height": null,
            "min_height": null,
            "padding": null,
            "grid_auto_rows": null,
            "grid_gap": null,
            "max_width": null,
            "order": null,
            "_view_module_version": "1.2.0",
            "grid_template_areas": null,
            "object_position": null,
            "object_fit": null,
            "grid_auto_columns": null,
            "margin": null,
            "display": null,
            "left": null
          }
        },
        "3a77c4da51984b5fa5f1dcfd494cccfe": {
          "model_module": "@jupyter-widgets/controls",
          "model_name": "ProgressStyleModel",
          "model_module_version": "1.5.0",
          "state": {
            "_view_name": "StyleView",
            "_model_name": "ProgressStyleModel",
            "description_width": "",
            "_view_module": "@jupyter-widgets/base",
            "_model_module_version": "1.5.0",
            "_view_count": null,
            "_view_module_version": "1.2.0",
            "bar_color": null,
            "_model_module": "@jupyter-widgets/controls"
          }
        },
        "27e33c9b8a104d7f8512415500eeb328": {
          "model_module": "@jupyter-widgets/base",
          "model_name": "LayoutModel",
          "model_module_version": "1.2.0",
          "state": {
            "_view_name": "LayoutView",
            "grid_template_rows": null,
            "right": null,
            "justify_content": null,
            "_view_module": "@jupyter-widgets/base",
            "overflow": null,
            "_model_module_version": "1.2.0",
            "_view_count": null,
            "flex_flow": null,
            "width": null,
            "min_width": null,
            "border": null,
            "align_items": null,
            "bottom": null,
            "_model_module": "@jupyter-widgets/base",
            "top": null,
            "grid_column": null,
            "overflow_y": null,
            "overflow_x": null,
            "grid_auto_flow": null,
            "grid_area": null,
            "grid_template_columns": null,
            "flex": null,
            "_model_name": "LayoutModel",
            "justify_items": null,
            "grid_row": null,
            "max_height": null,
            "align_content": null,
            "visibility": null,
            "align_self": null,
            "height": null,
            "min_height": null,
            "padding": null,
            "grid_auto_rows": null,
            "grid_gap": null,
            "max_width": null,
            "order": null,
            "_view_module_version": "1.2.0",
            "grid_template_areas": null,
            "object_position": null,
            "object_fit": null,
            "grid_auto_columns": null,
            "margin": null,
            "display": null,
            "left": null
          }
        },
        "206cd85ebdb64f68bb68b64489ab4f1c": {
          "model_module": "@jupyter-widgets/controls",
          "model_name": "DescriptionStyleModel",
          "model_module_version": "1.5.0",
          "state": {
            "_view_name": "StyleView",
            "_model_name": "DescriptionStyleModel",
            "description_width": "",
            "_view_module": "@jupyter-widgets/base",
            "_model_module_version": "1.5.0",
            "_view_count": null,
            "_view_module_version": "1.2.0",
            "_model_module": "@jupyter-widgets/controls"
          }
        },
        "43b3c8e8bb1c4d599f70b07e10ea7761": {
          "model_module": "@jupyter-widgets/base",
          "model_name": "LayoutModel",
          "model_module_version": "1.2.0",
          "state": {
            "_view_name": "LayoutView",
            "grid_template_rows": null,
            "right": null,
            "justify_content": null,
            "_view_module": "@jupyter-widgets/base",
            "overflow": null,
            "_model_module_version": "1.2.0",
            "_view_count": null,
            "flex_flow": null,
            "width": null,
            "min_width": null,
            "border": null,
            "align_items": null,
            "bottom": null,
            "_model_module": "@jupyter-widgets/base",
            "top": null,
            "grid_column": null,
            "overflow_y": null,
            "overflow_x": null,
            "grid_auto_flow": null,
            "grid_area": null,
            "grid_template_columns": null,
            "flex": null,
            "_model_name": "LayoutModel",
            "justify_items": null,
            "grid_row": null,
            "max_height": null,
            "align_content": null,
            "visibility": null,
            "align_self": null,
            "height": null,
            "min_height": null,
            "padding": null,
            "grid_auto_rows": null,
            "grid_gap": null,
            "max_width": null,
            "order": null,
            "_view_module_version": "1.2.0",
            "grid_template_areas": null,
            "object_position": null,
            "object_fit": null,
            "grid_auto_columns": null,
            "margin": null,
            "display": null,
            "left": null
          }
        },
        "16f8fba5c47d4a65ab8f9009932844b2": {
          "model_module": "@jupyter-widgets/controls",
          "model_name": "HBoxModel",
          "model_module_version": "1.5.0",
          "state": {
            "_view_name": "HBoxView",
            "_dom_classes": [],
            "_model_name": "HBoxModel",
            "_view_module": "@jupyter-widgets/controls",
            "_model_module_version": "1.5.0",
            "_view_count": null,
            "_view_module_version": "1.5.0",
            "box_style": "",
            "layout": "IPY_MODEL_7d8c03892c4841a49845bb1eeae9d31c",
            "_model_module": "@jupyter-widgets/controls",
            "children": [
              "IPY_MODEL_cd902e9b3063426e8e1d139e435cbd7c",
              "IPY_MODEL_9077f7a7ab8748d2b1ad4b0eb208d103",
              "IPY_MODEL_ca37238dafcf435ab489cf0c7d40aa40"
            ]
          }
        },
        "7d8c03892c4841a49845bb1eeae9d31c": {
          "model_module": "@jupyter-widgets/base",
          "model_name": "LayoutModel",
          "model_module_version": "1.2.0",
          "state": {
            "_view_name": "LayoutView",
            "grid_template_rows": null,
            "right": null,
            "justify_content": null,
            "_view_module": "@jupyter-widgets/base",
            "overflow": null,
            "_model_module_version": "1.2.0",
            "_view_count": null,
            "flex_flow": null,
            "width": null,
            "min_width": null,
            "border": null,
            "align_items": null,
            "bottom": null,
            "_model_module": "@jupyter-widgets/base",
            "top": null,
            "grid_column": null,
            "overflow_y": null,
            "overflow_x": null,
            "grid_auto_flow": null,
            "grid_area": null,
            "grid_template_columns": null,
            "flex": null,
            "_model_name": "LayoutModel",
            "justify_items": null,
            "grid_row": null,
            "max_height": null,
            "align_content": null,
            "visibility": null,
            "align_self": null,
            "height": null,
            "min_height": null,
            "padding": null,
            "grid_auto_rows": null,
            "grid_gap": null,
            "max_width": null,
            "order": null,
            "_view_module_version": "1.2.0",
            "grid_template_areas": null,
            "object_position": null,
            "object_fit": null,
            "grid_auto_columns": null,
            "margin": null,
            "display": null,
            "left": null
          }
        },
        "cd902e9b3063426e8e1d139e435cbd7c": {
          "model_module": "@jupyter-widgets/controls",
          "model_name": "HTMLModel",
          "model_module_version": "1.5.0",
          "state": {
            "_view_name": "HTMLView",
            "style": "IPY_MODEL_cfc79c4520c8441584d8cd3b50983f68",
            "_dom_classes": [],
            "description": "",
            "_model_name": "HTMLModel",
            "placeholder": "​",
            "_view_module": "@jupyter-widgets/controls",
            "_model_module_version": "1.5.0",
            "value": "train loader: 100%",
            "_view_count": null,
            "_view_module_version": "1.5.0",
            "description_tooltip": null,
            "_model_module": "@jupyter-widgets/controls",
            "layout": "IPY_MODEL_f0f2fa8ad656433da24a49395100e22d"
          }
        },
        "9077f7a7ab8748d2b1ad4b0eb208d103": {
          "model_module": "@jupyter-widgets/controls",
          "model_name": "FloatProgressModel",
          "model_module_version": "1.5.0",
          "state": {
            "_view_name": "ProgressView",
            "style": "IPY_MODEL_2d21730a3da543449853759f8eb3ed4d",
            "_dom_classes": [],
            "description": "",
            "_model_name": "FloatProgressModel",
            "bar_style": "success",
            "max": 63,
            "_view_module": "@jupyter-widgets/controls",
            "_model_module_version": "1.5.0",
            "value": 63,
            "_view_count": null,
            "_view_module_version": "1.5.0",
            "orientation": "horizontal",
            "min": 0,
            "description_tooltip": null,
            "_model_module": "@jupyter-widgets/controls",
            "layout": "IPY_MODEL_d6da8e154bce4d9aa075ed64554dfc88"
          }
        },
        "ca37238dafcf435ab489cf0c7d40aa40": {
          "model_module": "@jupyter-widgets/controls",
          "model_name": "HTMLModel",
          "model_module_version": "1.5.0",
          "state": {
            "_view_name": "HTMLView",
            "style": "IPY_MODEL_ec9dd209fe404229bc730f0ec5726bc9",
            "_dom_classes": [],
            "description": "",
            "_model_name": "HTMLModel",
            "placeholder": "​",
            "_view_module": "@jupyter-widgets/controls",
            "_model_module_version": "1.5.0",
            "value": " 63/63 [00:25&lt;00:00,  2.94it/s]",
            "_view_count": null,
            "_view_module_version": "1.5.0",
            "description_tooltip": null,
            "_model_module": "@jupyter-widgets/controls",
            "layout": "IPY_MODEL_c688cb41aa79448a8c729e11b656606d"
          }
        },
        "cfc79c4520c8441584d8cd3b50983f68": {
          "model_module": "@jupyter-widgets/controls",
          "model_name": "DescriptionStyleModel",
          "model_module_version": "1.5.0",
          "state": {
            "_view_name": "StyleView",
            "_model_name": "DescriptionStyleModel",
            "description_width": "",
            "_view_module": "@jupyter-widgets/base",
            "_model_module_version": "1.5.0",
            "_view_count": null,
            "_view_module_version": "1.2.0",
            "_model_module": "@jupyter-widgets/controls"
          }
        },
        "f0f2fa8ad656433da24a49395100e22d": {
          "model_module": "@jupyter-widgets/base",
          "model_name": "LayoutModel",
          "model_module_version": "1.2.0",
          "state": {
            "_view_name": "LayoutView",
            "grid_template_rows": null,
            "right": null,
            "justify_content": null,
            "_view_module": "@jupyter-widgets/base",
            "overflow": null,
            "_model_module_version": "1.2.0",
            "_view_count": null,
            "flex_flow": null,
            "width": null,
            "min_width": null,
            "border": null,
            "align_items": null,
            "bottom": null,
            "_model_module": "@jupyter-widgets/base",
            "top": null,
            "grid_column": null,
            "overflow_y": null,
            "overflow_x": null,
            "grid_auto_flow": null,
            "grid_area": null,
            "grid_template_columns": null,
            "flex": null,
            "_model_name": "LayoutModel",
            "justify_items": null,
            "grid_row": null,
            "max_height": null,
            "align_content": null,
            "visibility": null,
            "align_self": null,
            "height": null,
            "min_height": null,
            "padding": null,
            "grid_auto_rows": null,
            "grid_gap": null,
            "max_width": null,
            "order": null,
            "_view_module_version": "1.2.0",
            "grid_template_areas": null,
            "object_position": null,
            "object_fit": null,
            "grid_auto_columns": null,
            "margin": null,
            "display": null,
            "left": null
          }
        },
        "2d21730a3da543449853759f8eb3ed4d": {
          "model_module": "@jupyter-widgets/controls",
          "model_name": "ProgressStyleModel",
          "model_module_version": "1.5.0",
          "state": {
            "_view_name": "StyleView",
            "_model_name": "ProgressStyleModel",
            "description_width": "",
            "_view_module": "@jupyter-widgets/base",
            "_model_module_version": "1.5.0",
            "_view_count": null,
            "_view_module_version": "1.2.0",
            "bar_color": null,
            "_model_module": "@jupyter-widgets/controls"
          }
        },
        "d6da8e154bce4d9aa075ed64554dfc88": {
          "model_module": "@jupyter-widgets/base",
          "model_name": "LayoutModel",
          "model_module_version": "1.2.0",
          "state": {
            "_view_name": "LayoutView",
            "grid_template_rows": null,
            "right": null,
            "justify_content": null,
            "_view_module": "@jupyter-widgets/base",
            "overflow": null,
            "_model_module_version": "1.2.0",
            "_view_count": null,
            "flex_flow": null,
            "width": null,
            "min_width": null,
            "border": null,
            "align_items": null,
            "bottom": null,
            "_model_module": "@jupyter-widgets/base",
            "top": null,
            "grid_column": null,
            "overflow_y": null,
            "overflow_x": null,
            "grid_auto_flow": null,
            "grid_area": null,
            "grid_template_columns": null,
            "flex": null,
            "_model_name": "LayoutModel",
            "justify_items": null,
            "grid_row": null,
            "max_height": null,
            "align_content": null,
            "visibility": null,
            "align_self": null,
            "height": null,
            "min_height": null,
            "padding": null,
            "grid_auto_rows": null,
            "grid_gap": null,
            "max_width": null,
            "order": null,
            "_view_module_version": "1.2.0",
            "grid_template_areas": null,
            "object_position": null,
            "object_fit": null,
            "grid_auto_columns": null,
            "margin": null,
            "display": null,
            "left": null
          }
        },
        "ec9dd209fe404229bc730f0ec5726bc9": {
          "model_module": "@jupyter-widgets/controls",
          "model_name": "DescriptionStyleModel",
          "model_module_version": "1.5.0",
          "state": {
            "_view_name": "StyleView",
            "_model_name": "DescriptionStyleModel",
            "description_width": "",
            "_view_module": "@jupyter-widgets/base",
            "_model_module_version": "1.5.0",
            "_view_count": null,
            "_view_module_version": "1.2.0",
            "_model_module": "@jupyter-widgets/controls"
          }
        },
        "c688cb41aa79448a8c729e11b656606d": {
          "model_module": "@jupyter-widgets/base",
          "model_name": "LayoutModel",
          "model_module_version": "1.2.0",
          "state": {
            "_view_name": "LayoutView",
            "grid_template_rows": null,
            "right": null,
            "justify_content": null,
            "_view_module": "@jupyter-widgets/base",
            "overflow": null,
            "_model_module_version": "1.2.0",
            "_view_count": null,
            "flex_flow": null,
            "width": null,
            "min_width": null,
            "border": null,
            "align_items": null,
            "bottom": null,
            "_model_module": "@jupyter-widgets/base",
            "top": null,
            "grid_column": null,
            "overflow_y": null,
            "overflow_x": null,
            "grid_auto_flow": null,
            "grid_area": null,
            "grid_template_columns": null,
            "flex": null,
            "_model_name": "LayoutModel",
            "justify_items": null,
            "grid_row": null,
            "max_height": null,
            "align_content": null,
            "visibility": null,
            "align_self": null,
            "height": null,
            "min_height": null,
            "padding": null,
            "grid_auto_rows": null,
            "grid_gap": null,
            "max_width": null,
            "order": null,
            "_view_module_version": "1.2.0",
            "grid_template_areas": null,
            "object_position": null,
            "object_fit": null,
            "grid_auto_columns": null,
            "margin": null,
            "display": null,
            "left": null
          }
        },
        "0a4f8f9935304c6da9d0dc8f5920b91f": {
          "model_module": "@jupyter-widgets/controls",
          "model_name": "HBoxModel",
          "model_module_version": "1.5.0",
          "state": {
            "_view_name": "HBoxView",
            "_dom_classes": [],
            "_model_name": "HBoxModel",
            "_view_module": "@jupyter-widgets/controls",
            "_model_module_version": "1.5.0",
            "_view_count": null,
            "_view_module_version": "1.5.0",
            "box_style": "",
            "layout": "IPY_MODEL_bdecab7d1abe4527b2b37802fa820fbd",
            "_model_module": "@jupyter-widgets/controls",
            "children": [
              "IPY_MODEL_f3e097c59979495295423dff85cb7774",
              "IPY_MODEL_2149cc33d78446f3b0796c3dcda7faf7",
              "IPY_MODEL_f2d7cf713e9e49cba12c768348839638"
            ]
          }
        },
        "bdecab7d1abe4527b2b37802fa820fbd": {
          "model_module": "@jupyter-widgets/base",
          "model_name": "LayoutModel",
          "model_module_version": "1.2.0",
          "state": {
            "_view_name": "LayoutView",
            "grid_template_rows": null,
            "right": null,
            "justify_content": null,
            "_view_module": "@jupyter-widgets/base",
            "overflow": null,
            "_model_module_version": "1.2.0",
            "_view_count": null,
            "flex_flow": null,
            "width": null,
            "min_width": null,
            "border": null,
            "align_items": null,
            "bottom": null,
            "_model_module": "@jupyter-widgets/base",
            "top": null,
            "grid_column": null,
            "overflow_y": null,
            "overflow_x": null,
            "grid_auto_flow": null,
            "grid_area": null,
            "grid_template_columns": null,
            "flex": null,
            "_model_name": "LayoutModel",
            "justify_items": null,
            "grid_row": null,
            "max_height": null,
            "align_content": null,
            "visibility": null,
            "align_self": null,
            "height": null,
            "min_height": null,
            "padding": null,
            "grid_auto_rows": null,
            "grid_gap": null,
            "max_width": null,
            "order": null,
            "_view_module_version": "1.2.0",
            "grid_template_areas": null,
            "object_position": null,
            "object_fit": null,
            "grid_auto_columns": null,
            "margin": null,
            "display": null,
            "left": null
          }
        },
        "f3e097c59979495295423dff85cb7774": {
          "model_module": "@jupyter-widgets/controls",
          "model_name": "HTMLModel",
          "model_module_version": "1.5.0",
          "state": {
            "_view_name": "HTMLView",
            "style": "IPY_MODEL_14db362f9d8e418381ef4ea25b85cda3",
            "_dom_classes": [],
            "description": "",
            "_model_name": "HTMLModel",
            "placeholder": "​",
            "_view_module": "@jupyter-widgets/controls",
            "_model_module_version": "1.5.0",
            "value": "train loader: 100%",
            "_view_count": null,
            "_view_module_version": "1.5.0",
            "description_tooltip": null,
            "_model_module": "@jupyter-widgets/controls",
            "layout": "IPY_MODEL_b3489a4eecb343f5bfe36ee30f9c03cd"
          }
        },
        "2149cc33d78446f3b0796c3dcda7faf7": {
          "model_module": "@jupyter-widgets/controls",
          "model_name": "FloatProgressModel",
          "model_module_version": "1.5.0",
          "state": {
            "_view_name": "ProgressView",
            "style": "IPY_MODEL_12db61b998624665a5d796cf5c6707f1",
            "_dom_classes": [],
            "description": "",
            "_model_name": "FloatProgressModel",
            "bar_style": "success",
            "max": 63,
            "_view_module": "@jupyter-widgets/controls",
            "_model_module_version": "1.5.0",
            "value": 63,
            "_view_count": null,
            "_view_module_version": "1.5.0",
            "orientation": "horizontal",
            "min": 0,
            "description_tooltip": null,
            "_model_module": "@jupyter-widgets/controls",
            "layout": "IPY_MODEL_7e8887518ebc464bb68ff92fa7bcdabb"
          }
        },
        "f2d7cf713e9e49cba12c768348839638": {
          "model_module": "@jupyter-widgets/controls",
          "model_name": "HTMLModel",
          "model_module_version": "1.5.0",
          "state": {
            "_view_name": "HTMLView",
            "style": "IPY_MODEL_5c3d4afe336d4398a92c8fa7487f3931",
            "_dom_classes": [],
            "description": "",
            "_model_name": "HTMLModel",
            "placeholder": "​",
            "_view_module": "@jupyter-widgets/controls",
            "_model_module_version": "1.5.0",
            "value": " 63/63 [00:25&lt;00:00,  2.96it/s]",
            "_view_count": null,
            "_view_module_version": "1.5.0",
            "description_tooltip": null,
            "_model_module": "@jupyter-widgets/controls",
            "layout": "IPY_MODEL_df04b867e1194beba07ae2261f39d9e0"
          }
        },
        "14db362f9d8e418381ef4ea25b85cda3": {
          "model_module": "@jupyter-widgets/controls",
          "model_name": "DescriptionStyleModel",
          "model_module_version": "1.5.0",
          "state": {
            "_view_name": "StyleView",
            "_model_name": "DescriptionStyleModel",
            "description_width": "",
            "_view_module": "@jupyter-widgets/base",
            "_model_module_version": "1.5.0",
            "_view_count": null,
            "_view_module_version": "1.2.0",
            "_model_module": "@jupyter-widgets/controls"
          }
        },
        "b3489a4eecb343f5bfe36ee30f9c03cd": {
          "model_module": "@jupyter-widgets/base",
          "model_name": "LayoutModel",
          "model_module_version": "1.2.0",
          "state": {
            "_view_name": "LayoutView",
            "grid_template_rows": null,
            "right": null,
            "justify_content": null,
            "_view_module": "@jupyter-widgets/base",
            "overflow": null,
            "_model_module_version": "1.2.0",
            "_view_count": null,
            "flex_flow": null,
            "width": null,
            "min_width": null,
            "border": null,
            "align_items": null,
            "bottom": null,
            "_model_module": "@jupyter-widgets/base",
            "top": null,
            "grid_column": null,
            "overflow_y": null,
            "overflow_x": null,
            "grid_auto_flow": null,
            "grid_area": null,
            "grid_template_columns": null,
            "flex": null,
            "_model_name": "LayoutModel",
            "justify_items": null,
            "grid_row": null,
            "max_height": null,
            "align_content": null,
            "visibility": null,
            "align_self": null,
            "height": null,
            "min_height": null,
            "padding": null,
            "grid_auto_rows": null,
            "grid_gap": null,
            "max_width": null,
            "order": null,
            "_view_module_version": "1.2.0",
            "grid_template_areas": null,
            "object_position": null,
            "object_fit": null,
            "grid_auto_columns": null,
            "margin": null,
            "display": null,
            "left": null
          }
        },
        "12db61b998624665a5d796cf5c6707f1": {
          "model_module": "@jupyter-widgets/controls",
          "model_name": "ProgressStyleModel",
          "model_module_version": "1.5.0",
          "state": {
            "_view_name": "StyleView",
            "_model_name": "ProgressStyleModel",
            "description_width": "",
            "_view_module": "@jupyter-widgets/base",
            "_model_module_version": "1.5.0",
            "_view_count": null,
            "_view_module_version": "1.2.0",
            "bar_color": null,
            "_model_module": "@jupyter-widgets/controls"
          }
        },
        "7e8887518ebc464bb68ff92fa7bcdabb": {
          "model_module": "@jupyter-widgets/base",
          "model_name": "LayoutModel",
          "model_module_version": "1.2.0",
          "state": {
            "_view_name": "LayoutView",
            "grid_template_rows": null,
            "right": null,
            "justify_content": null,
            "_view_module": "@jupyter-widgets/base",
            "overflow": null,
            "_model_module_version": "1.2.0",
            "_view_count": null,
            "flex_flow": null,
            "width": null,
            "min_width": null,
            "border": null,
            "align_items": null,
            "bottom": null,
            "_model_module": "@jupyter-widgets/base",
            "top": null,
            "grid_column": null,
            "overflow_y": null,
            "overflow_x": null,
            "grid_auto_flow": null,
            "grid_area": null,
            "grid_template_columns": null,
            "flex": null,
            "_model_name": "LayoutModel",
            "justify_items": null,
            "grid_row": null,
            "max_height": null,
            "align_content": null,
            "visibility": null,
            "align_self": null,
            "height": null,
            "min_height": null,
            "padding": null,
            "grid_auto_rows": null,
            "grid_gap": null,
            "max_width": null,
            "order": null,
            "_view_module_version": "1.2.0",
            "grid_template_areas": null,
            "object_position": null,
            "object_fit": null,
            "grid_auto_columns": null,
            "margin": null,
            "display": null,
            "left": null
          }
        },
        "5c3d4afe336d4398a92c8fa7487f3931": {
          "model_module": "@jupyter-widgets/controls",
          "model_name": "DescriptionStyleModel",
          "model_module_version": "1.5.0",
          "state": {
            "_view_name": "StyleView",
            "_model_name": "DescriptionStyleModel",
            "description_width": "",
            "_view_module": "@jupyter-widgets/base",
            "_model_module_version": "1.5.0",
            "_view_count": null,
            "_view_module_version": "1.2.0",
            "_model_module": "@jupyter-widgets/controls"
          }
        },
        "df04b867e1194beba07ae2261f39d9e0": {
          "model_module": "@jupyter-widgets/base",
          "model_name": "LayoutModel",
          "model_module_version": "1.2.0",
          "state": {
            "_view_name": "LayoutView",
            "grid_template_rows": null,
            "right": null,
            "justify_content": null,
            "_view_module": "@jupyter-widgets/base",
            "overflow": null,
            "_model_module_version": "1.2.0",
            "_view_count": null,
            "flex_flow": null,
            "width": null,
            "min_width": null,
            "border": null,
            "align_items": null,
            "bottom": null,
            "_model_module": "@jupyter-widgets/base",
            "top": null,
            "grid_column": null,
            "overflow_y": null,
            "overflow_x": null,
            "grid_auto_flow": null,
            "grid_area": null,
            "grid_template_columns": null,
            "flex": null,
            "_model_name": "LayoutModel",
            "justify_items": null,
            "grid_row": null,
            "max_height": null,
            "align_content": null,
            "visibility": null,
            "align_self": null,
            "height": null,
            "min_height": null,
            "padding": null,
            "grid_auto_rows": null,
            "grid_gap": null,
            "max_width": null,
            "order": null,
            "_view_module_version": "1.2.0",
            "grid_template_areas": null,
            "object_position": null,
            "object_fit": null,
            "grid_auto_columns": null,
            "margin": null,
            "display": null,
            "left": null
          }
        },
        "5f20c377e5df4560b359f52af3f26be1": {
          "model_module": "@jupyter-widgets/controls",
          "model_name": "HBoxModel",
          "model_module_version": "1.5.0",
          "state": {
            "_view_name": "HBoxView",
            "_dom_classes": [],
            "_model_name": "HBoxModel",
            "_view_module": "@jupyter-widgets/controls",
            "_model_module_version": "1.5.0",
            "_view_count": null,
            "_view_module_version": "1.5.0",
            "box_style": "",
            "layout": "IPY_MODEL_c160648d4d454c02a5127b7878c0a8f8",
            "_model_module": "@jupyter-widgets/controls",
            "children": [
              "IPY_MODEL_35ba9e4964224ef187f7b38a9f3e8c63",
              "IPY_MODEL_259a7621c59e462dadbf6beb8d1043c2",
              "IPY_MODEL_ea44dac143e04563b1e46c3d3a554951"
            ]
          }
        },
        "c160648d4d454c02a5127b7878c0a8f8": {
          "model_module": "@jupyter-widgets/base",
          "model_name": "LayoutModel",
          "model_module_version": "1.2.0",
          "state": {
            "_view_name": "LayoutView",
            "grid_template_rows": null,
            "right": null,
            "justify_content": null,
            "_view_module": "@jupyter-widgets/base",
            "overflow": null,
            "_model_module_version": "1.2.0",
            "_view_count": null,
            "flex_flow": null,
            "width": null,
            "min_width": null,
            "border": null,
            "align_items": null,
            "bottom": null,
            "_model_module": "@jupyter-widgets/base",
            "top": null,
            "grid_column": null,
            "overflow_y": null,
            "overflow_x": null,
            "grid_auto_flow": null,
            "grid_area": null,
            "grid_template_columns": null,
            "flex": null,
            "_model_name": "LayoutModel",
            "justify_items": null,
            "grid_row": null,
            "max_height": null,
            "align_content": null,
            "visibility": null,
            "align_self": null,
            "height": null,
            "min_height": null,
            "padding": null,
            "grid_auto_rows": null,
            "grid_gap": null,
            "max_width": null,
            "order": null,
            "_view_module_version": "1.2.0",
            "grid_template_areas": null,
            "object_position": null,
            "object_fit": null,
            "grid_auto_columns": null,
            "margin": null,
            "display": null,
            "left": null
          }
        },
        "35ba9e4964224ef187f7b38a9f3e8c63": {
          "model_module": "@jupyter-widgets/controls",
          "model_name": "HTMLModel",
          "model_module_version": "1.5.0",
          "state": {
            "_view_name": "HTMLView",
            "style": "IPY_MODEL_97515fdcb3344544ae7d69619bdadc2d",
            "_dom_classes": [],
            "description": "",
            "_model_name": "HTMLModel",
            "placeholder": "​",
            "_view_module": "@jupyter-widgets/controls",
            "_model_module_version": "1.5.0",
            "value": "train loader: 100%",
            "_view_count": null,
            "_view_module_version": "1.5.0",
            "description_tooltip": null,
            "_model_module": "@jupyter-widgets/controls",
            "layout": "IPY_MODEL_b0ac20a5f03544c98b8b7b8d17a43435"
          }
        },
        "259a7621c59e462dadbf6beb8d1043c2": {
          "model_module": "@jupyter-widgets/controls",
          "model_name": "FloatProgressModel",
          "model_module_version": "1.5.0",
          "state": {
            "_view_name": "ProgressView",
            "style": "IPY_MODEL_c884a6dde4544a45b30976e21817f408",
            "_dom_classes": [],
            "description": "",
            "_model_name": "FloatProgressModel",
            "bar_style": "success",
            "max": 63,
            "_view_module": "@jupyter-widgets/controls",
            "_model_module_version": "1.5.0",
            "value": 63,
            "_view_count": null,
            "_view_module_version": "1.5.0",
            "orientation": "horizontal",
            "min": 0,
            "description_tooltip": null,
            "_model_module": "@jupyter-widgets/controls",
            "layout": "IPY_MODEL_e55c847dc10743bf82ebdb56db4b951d"
          }
        },
        "ea44dac143e04563b1e46c3d3a554951": {
          "model_module": "@jupyter-widgets/controls",
          "model_name": "HTMLModel",
          "model_module_version": "1.5.0",
          "state": {
            "_view_name": "HTMLView",
            "style": "IPY_MODEL_c0117fdf2c2a46db9df544f3a82a9184",
            "_dom_classes": [],
            "description": "",
            "_model_name": "HTMLModel",
            "placeholder": "​",
            "_view_module": "@jupyter-widgets/controls",
            "_model_module_version": "1.5.0",
            "value": " 63/63 [00:25&lt;00:00,  2.95it/s]",
            "_view_count": null,
            "_view_module_version": "1.5.0",
            "description_tooltip": null,
            "_model_module": "@jupyter-widgets/controls",
            "layout": "IPY_MODEL_d02853a4efad498b977a23cb2dd22e05"
          }
        },
        "97515fdcb3344544ae7d69619bdadc2d": {
          "model_module": "@jupyter-widgets/controls",
          "model_name": "DescriptionStyleModel",
          "model_module_version": "1.5.0",
          "state": {
            "_view_name": "StyleView",
            "_model_name": "DescriptionStyleModel",
            "description_width": "",
            "_view_module": "@jupyter-widgets/base",
            "_model_module_version": "1.5.0",
            "_view_count": null,
            "_view_module_version": "1.2.0",
            "_model_module": "@jupyter-widgets/controls"
          }
        },
        "b0ac20a5f03544c98b8b7b8d17a43435": {
          "model_module": "@jupyter-widgets/base",
          "model_name": "LayoutModel",
          "model_module_version": "1.2.0",
          "state": {
            "_view_name": "LayoutView",
            "grid_template_rows": null,
            "right": null,
            "justify_content": null,
            "_view_module": "@jupyter-widgets/base",
            "overflow": null,
            "_model_module_version": "1.2.0",
            "_view_count": null,
            "flex_flow": null,
            "width": null,
            "min_width": null,
            "border": null,
            "align_items": null,
            "bottom": null,
            "_model_module": "@jupyter-widgets/base",
            "top": null,
            "grid_column": null,
            "overflow_y": null,
            "overflow_x": null,
            "grid_auto_flow": null,
            "grid_area": null,
            "grid_template_columns": null,
            "flex": null,
            "_model_name": "LayoutModel",
            "justify_items": null,
            "grid_row": null,
            "max_height": null,
            "align_content": null,
            "visibility": null,
            "align_self": null,
            "height": null,
            "min_height": null,
            "padding": null,
            "grid_auto_rows": null,
            "grid_gap": null,
            "max_width": null,
            "order": null,
            "_view_module_version": "1.2.0",
            "grid_template_areas": null,
            "object_position": null,
            "object_fit": null,
            "grid_auto_columns": null,
            "margin": null,
            "display": null,
            "left": null
          }
        },
        "c884a6dde4544a45b30976e21817f408": {
          "model_module": "@jupyter-widgets/controls",
          "model_name": "ProgressStyleModel",
          "model_module_version": "1.5.0",
          "state": {
            "_view_name": "StyleView",
            "_model_name": "ProgressStyleModel",
            "description_width": "",
            "_view_module": "@jupyter-widgets/base",
            "_model_module_version": "1.5.0",
            "_view_count": null,
            "_view_module_version": "1.2.0",
            "bar_color": null,
            "_model_module": "@jupyter-widgets/controls"
          }
        },
        "e55c847dc10743bf82ebdb56db4b951d": {
          "model_module": "@jupyter-widgets/base",
          "model_name": "LayoutModel",
          "model_module_version": "1.2.0",
          "state": {
            "_view_name": "LayoutView",
            "grid_template_rows": null,
            "right": null,
            "justify_content": null,
            "_view_module": "@jupyter-widgets/base",
            "overflow": null,
            "_model_module_version": "1.2.0",
            "_view_count": null,
            "flex_flow": null,
            "width": null,
            "min_width": null,
            "border": null,
            "align_items": null,
            "bottom": null,
            "_model_module": "@jupyter-widgets/base",
            "top": null,
            "grid_column": null,
            "overflow_y": null,
            "overflow_x": null,
            "grid_auto_flow": null,
            "grid_area": null,
            "grid_template_columns": null,
            "flex": null,
            "_model_name": "LayoutModel",
            "justify_items": null,
            "grid_row": null,
            "max_height": null,
            "align_content": null,
            "visibility": null,
            "align_self": null,
            "height": null,
            "min_height": null,
            "padding": null,
            "grid_auto_rows": null,
            "grid_gap": null,
            "max_width": null,
            "order": null,
            "_view_module_version": "1.2.0",
            "grid_template_areas": null,
            "object_position": null,
            "object_fit": null,
            "grid_auto_columns": null,
            "margin": null,
            "display": null,
            "left": null
          }
        },
        "c0117fdf2c2a46db9df544f3a82a9184": {
          "model_module": "@jupyter-widgets/controls",
          "model_name": "DescriptionStyleModel",
          "model_module_version": "1.5.0",
          "state": {
            "_view_name": "StyleView",
            "_model_name": "DescriptionStyleModel",
            "description_width": "",
            "_view_module": "@jupyter-widgets/base",
            "_model_module_version": "1.5.0",
            "_view_count": null,
            "_view_module_version": "1.2.0",
            "_model_module": "@jupyter-widgets/controls"
          }
        },
        "d02853a4efad498b977a23cb2dd22e05": {
          "model_module": "@jupyter-widgets/base",
          "model_name": "LayoutModel",
          "model_module_version": "1.2.0",
          "state": {
            "_view_name": "LayoutView",
            "grid_template_rows": null,
            "right": null,
            "justify_content": null,
            "_view_module": "@jupyter-widgets/base",
            "overflow": null,
            "_model_module_version": "1.2.0",
            "_view_count": null,
            "flex_flow": null,
            "width": null,
            "min_width": null,
            "border": null,
            "align_items": null,
            "bottom": null,
            "_model_module": "@jupyter-widgets/base",
            "top": null,
            "grid_column": null,
            "overflow_y": null,
            "overflow_x": null,
            "grid_auto_flow": null,
            "grid_area": null,
            "grid_template_columns": null,
            "flex": null,
            "_model_name": "LayoutModel",
            "justify_items": null,
            "grid_row": null,
            "max_height": null,
            "align_content": null,
            "visibility": null,
            "align_self": null,
            "height": null,
            "min_height": null,
            "padding": null,
            "grid_auto_rows": null,
            "grid_gap": null,
            "max_width": null,
            "order": null,
            "_view_module_version": "1.2.0",
            "grid_template_areas": null,
            "object_position": null,
            "object_fit": null,
            "grid_auto_columns": null,
            "margin": null,
            "display": null,
            "left": null
          }
        },
        "bd445df1e65a48ca8aad440b50bdf55e": {
          "model_module": "@jupyter-widgets/controls",
          "model_name": "HBoxModel",
          "model_module_version": "1.5.0",
          "state": {
            "_view_name": "HBoxView",
            "_dom_classes": [],
            "_model_name": "HBoxModel",
            "_view_module": "@jupyter-widgets/controls",
            "_model_module_version": "1.5.0",
            "_view_count": null,
            "_view_module_version": "1.5.0",
            "box_style": "",
            "layout": "IPY_MODEL_5c5e59df82d54d6680e1315b326361c4",
            "_model_module": "@jupyter-widgets/controls",
            "children": [
              "IPY_MODEL_1c26d70238374186a94d1689066327dd",
              "IPY_MODEL_07e6415c33ba4377b44ed00d13eeb26a",
              "IPY_MODEL_350e51ad843944e2ab0cc911bffcb629"
            ]
          }
        },
        "5c5e59df82d54d6680e1315b326361c4": {
          "model_module": "@jupyter-widgets/base",
          "model_name": "LayoutModel",
          "model_module_version": "1.2.0",
          "state": {
            "_view_name": "LayoutView",
            "grid_template_rows": null,
            "right": null,
            "justify_content": null,
            "_view_module": "@jupyter-widgets/base",
            "overflow": null,
            "_model_module_version": "1.2.0",
            "_view_count": null,
            "flex_flow": null,
            "width": null,
            "min_width": null,
            "border": null,
            "align_items": null,
            "bottom": null,
            "_model_module": "@jupyter-widgets/base",
            "top": null,
            "grid_column": null,
            "overflow_y": null,
            "overflow_x": null,
            "grid_auto_flow": null,
            "grid_area": null,
            "grid_template_columns": null,
            "flex": null,
            "_model_name": "LayoutModel",
            "justify_items": null,
            "grid_row": null,
            "max_height": null,
            "align_content": null,
            "visibility": null,
            "align_self": null,
            "height": null,
            "min_height": null,
            "padding": null,
            "grid_auto_rows": null,
            "grid_gap": null,
            "max_width": null,
            "order": null,
            "_view_module_version": "1.2.0",
            "grid_template_areas": null,
            "object_position": null,
            "object_fit": null,
            "grid_auto_columns": null,
            "margin": null,
            "display": null,
            "left": null
          }
        },
        "1c26d70238374186a94d1689066327dd": {
          "model_module": "@jupyter-widgets/controls",
          "model_name": "HTMLModel",
          "model_module_version": "1.5.0",
          "state": {
            "_view_name": "HTMLView",
            "style": "IPY_MODEL_43ca3d3c7e5c45d1979199bd12493a65",
            "_dom_classes": [],
            "description": "",
            "_model_name": "HTMLModel",
            "placeholder": "​",
            "_view_module": "@jupyter-widgets/controls",
            "_model_module_version": "1.5.0",
            "value": "train loader: 100%",
            "_view_count": null,
            "_view_module_version": "1.5.0",
            "description_tooltip": null,
            "_model_module": "@jupyter-widgets/controls",
            "layout": "IPY_MODEL_926d306f1fe34371bd593ee5ee27e9a0"
          }
        },
        "07e6415c33ba4377b44ed00d13eeb26a": {
          "model_module": "@jupyter-widgets/controls",
          "model_name": "FloatProgressModel",
          "model_module_version": "1.5.0",
          "state": {
            "_view_name": "ProgressView",
            "style": "IPY_MODEL_dd624d3ee795468c918052dcf887f6f3",
            "_dom_classes": [],
            "description": "",
            "_model_name": "FloatProgressModel",
            "bar_style": "success",
            "max": 63,
            "_view_module": "@jupyter-widgets/controls",
            "_model_module_version": "1.5.0",
            "value": 63,
            "_view_count": null,
            "_view_module_version": "1.5.0",
            "orientation": "horizontal",
            "min": 0,
            "description_tooltip": null,
            "_model_module": "@jupyter-widgets/controls",
            "layout": "IPY_MODEL_e5f6169b54924fea8810dcfc6a9b08e9"
          }
        },
        "350e51ad843944e2ab0cc911bffcb629": {
          "model_module": "@jupyter-widgets/controls",
          "model_name": "HTMLModel",
          "model_module_version": "1.5.0",
          "state": {
            "_view_name": "HTMLView",
            "style": "IPY_MODEL_8a8017a20a284eeb8b28401f32c9a617",
            "_dom_classes": [],
            "description": "",
            "_model_name": "HTMLModel",
            "placeholder": "​",
            "_view_module": "@jupyter-widgets/controls",
            "_model_module_version": "1.5.0",
            "value": " 63/63 [00:25&lt;00:00,  2.94it/s]",
            "_view_count": null,
            "_view_module_version": "1.5.0",
            "description_tooltip": null,
            "_model_module": "@jupyter-widgets/controls",
            "layout": "IPY_MODEL_d568b17250b145cb8a807249fd84e574"
          }
        },
        "43ca3d3c7e5c45d1979199bd12493a65": {
          "model_module": "@jupyter-widgets/controls",
          "model_name": "DescriptionStyleModel",
          "model_module_version": "1.5.0",
          "state": {
            "_view_name": "StyleView",
            "_model_name": "DescriptionStyleModel",
            "description_width": "",
            "_view_module": "@jupyter-widgets/base",
            "_model_module_version": "1.5.0",
            "_view_count": null,
            "_view_module_version": "1.2.0",
            "_model_module": "@jupyter-widgets/controls"
          }
        },
        "926d306f1fe34371bd593ee5ee27e9a0": {
          "model_module": "@jupyter-widgets/base",
          "model_name": "LayoutModel",
          "model_module_version": "1.2.0",
          "state": {
            "_view_name": "LayoutView",
            "grid_template_rows": null,
            "right": null,
            "justify_content": null,
            "_view_module": "@jupyter-widgets/base",
            "overflow": null,
            "_model_module_version": "1.2.0",
            "_view_count": null,
            "flex_flow": null,
            "width": null,
            "min_width": null,
            "border": null,
            "align_items": null,
            "bottom": null,
            "_model_module": "@jupyter-widgets/base",
            "top": null,
            "grid_column": null,
            "overflow_y": null,
            "overflow_x": null,
            "grid_auto_flow": null,
            "grid_area": null,
            "grid_template_columns": null,
            "flex": null,
            "_model_name": "LayoutModel",
            "justify_items": null,
            "grid_row": null,
            "max_height": null,
            "align_content": null,
            "visibility": null,
            "align_self": null,
            "height": null,
            "min_height": null,
            "padding": null,
            "grid_auto_rows": null,
            "grid_gap": null,
            "max_width": null,
            "order": null,
            "_view_module_version": "1.2.0",
            "grid_template_areas": null,
            "object_position": null,
            "object_fit": null,
            "grid_auto_columns": null,
            "margin": null,
            "display": null,
            "left": null
          }
        },
        "dd624d3ee795468c918052dcf887f6f3": {
          "model_module": "@jupyter-widgets/controls",
          "model_name": "ProgressStyleModel",
          "model_module_version": "1.5.0",
          "state": {
            "_view_name": "StyleView",
            "_model_name": "ProgressStyleModel",
            "description_width": "",
            "_view_module": "@jupyter-widgets/base",
            "_model_module_version": "1.5.0",
            "_view_count": null,
            "_view_module_version": "1.2.0",
            "bar_color": null,
            "_model_module": "@jupyter-widgets/controls"
          }
        },
        "e5f6169b54924fea8810dcfc6a9b08e9": {
          "model_module": "@jupyter-widgets/base",
          "model_name": "LayoutModel",
          "model_module_version": "1.2.0",
          "state": {
            "_view_name": "LayoutView",
            "grid_template_rows": null,
            "right": null,
            "justify_content": null,
            "_view_module": "@jupyter-widgets/base",
            "overflow": null,
            "_model_module_version": "1.2.0",
            "_view_count": null,
            "flex_flow": null,
            "width": null,
            "min_width": null,
            "border": null,
            "align_items": null,
            "bottom": null,
            "_model_module": "@jupyter-widgets/base",
            "top": null,
            "grid_column": null,
            "overflow_y": null,
            "overflow_x": null,
            "grid_auto_flow": null,
            "grid_area": null,
            "grid_template_columns": null,
            "flex": null,
            "_model_name": "LayoutModel",
            "justify_items": null,
            "grid_row": null,
            "max_height": null,
            "align_content": null,
            "visibility": null,
            "align_self": null,
            "height": null,
            "min_height": null,
            "padding": null,
            "grid_auto_rows": null,
            "grid_gap": null,
            "max_width": null,
            "order": null,
            "_view_module_version": "1.2.0",
            "grid_template_areas": null,
            "object_position": null,
            "object_fit": null,
            "grid_auto_columns": null,
            "margin": null,
            "display": null,
            "left": null
          }
        },
        "8a8017a20a284eeb8b28401f32c9a617": {
          "model_module": "@jupyter-widgets/controls",
          "model_name": "DescriptionStyleModel",
          "model_module_version": "1.5.0",
          "state": {
            "_view_name": "StyleView",
            "_model_name": "DescriptionStyleModel",
            "description_width": "",
            "_view_module": "@jupyter-widgets/base",
            "_model_module_version": "1.5.0",
            "_view_count": null,
            "_view_module_version": "1.2.0",
            "_model_module": "@jupyter-widgets/controls"
          }
        },
        "d568b17250b145cb8a807249fd84e574": {
          "model_module": "@jupyter-widgets/base",
          "model_name": "LayoutModel",
          "model_module_version": "1.2.0",
          "state": {
            "_view_name": "LayoutView",
            "grid_template_rows": null,
            "right": null,
            "justify_content": null,
            "_view_module": "@jupyter-widgets/base",
            "overflow": null,
            "_model_module_version": "1.2.0",
            "_view_count": null,
            "flex_flow": null,
            "width": null,
            "min_width": null,
            "border": null,
            "align_items": null,
            "bottom": null,
            "_model_module": "@jupyter-widgets/base",
            "top": null,
            "grid_column": null,
            "overflow_y": null,
            "overflow_x": null,
            "grid_auto_flow": null,
            "grid_area": null,
            "grid_template_columns": null,
            "flex": null,
            "_model_name": "LayoutModel",
            "justify_items": null,
            "grid_row": null,
            "max_height": null,
            "align_content": null,
            "visibility": null,
            "align_self": null,
            "height": null,
            "min_height": null,
            "padding": null,
            "grid_auto_rows": null,
            "grid_gap": null,
            "max_width": null,
            "order": null,
            "_view_module_version": "1.2.0",
            "grid_template_areas": null,
            "object_position": null,
            "object_fit": null,
            "grid_auto_columns": null,
            "margin": null,
            "display": null,
            "left": null
          }
        },
        "17a05d5c8de947a3b35efac887d0ab50": {
          "model_module": "@jupyter-widgets/controls",
          "model_name": "HBoxModel",
          "model_module_version": "1.5.0",
          "state": {
            "_view_name": "HBoxView",
            "_dom_classes": [],
            "_model_name": "HBoxModel",
            "_view_module": "@jupyter-widgets/controls",
            "_model_module_version": "1.5.0",
            "_view_count": null,
            "_view_module_version": "1.5.0",
            "box_style": "",
            "layout": "IPY_MODEL_cfc409d35bdd4444ba16ebbf03d5babb",
            "_model_module": "@jupyter-widgets/controls",
            "children": [
              "IPY_MODEL_46285903a1854a6a80f63685f6c52b40",
              "IPY_MODEL_16ea5b35ed264762aaff2873936b9e84",
              "IPY_MODEL_8c15424d83c745d2bb89a1e7bf02877f"
            ]
          }
        },
        "cfc409d35bdd4444ba16ebbf03d5babb": {
          "model_module": "@jupyter-widgets/base",
          "model_name": "LayoutModel",
          "model_module_version": "1.2.0",
          "state": {
            "_view_name": "LayoutView",
            "grid_template_rows": null,
            "right": null,
            "justify_content": null,
            "_view_module": "@jupyter-widgets/base",
            "overflow": null,
            "_model_module_version": "1.2.0",
            "_view_count": null,
            "flex_flow": null,
            "width": null,
            "min_width": null,
            "border": null,
            "align_items": null,
            "bottom": null,
            "_model_module": "@jupyter-widgets/base",
            "top": null,
            "grid_column": null,
            "overflow_y": null,
            "overflow_x": null,
            "grid_auto_flow": null,
            "grid_area": null,
            "grid_template_columns": null,
            "flex": null,
            "_model_name": "LayoutModel",
            "justify_items": null,
            "grid_row": null,
            "max_height": null,
            "align_content": null,
            "visibility": null,
            "align_self": null,
            "height": null,
            "min_height": null,
            "padding": null,
            "grid_auto_rows": null,
            "grid_gap": null,
            "max_width": null,
            "order": null,
            "_view_module_version": "1.2.0",
            "grid_template_areas": null,
            "object_position": null,
            "object_fit": null,
            "grid_auto_columns": null,
            "margin": null,
            "display": null,
            "left": null
          }
        },
        "46285903a1854a6a80f63685f6c52b40": {
          "model_module": "@jupyter-widgets/controls",
          "model_name": "HTMLModel",
          "model_module_version": "1.5.0",
          "state": {
            "_view_name": "HTMLView",
            "style": "IPY_MODEL_e89a5aca069746bd815c71cb703b9aa0",
            "_dom_classes": [],
            "description": "",
            "_model_name": "HTMLModel",
            "placeholder": "​",
            "_view_module": "@jupyter-widgets/controls",
            "_model_module_version": "1.5.0",
            "value": "train loader: 100%",
            "_view_count": null,
            "_view_module_version": "1.5.0",
            "description_tooltip": null,
            "_model_module": "@jupyter-widgets/controls",
            "layout": "IPY_MODEL_611f772d21ba4c068c266fde3fc1d9a5"
          }
        },
        "16ea5b35ed264762aaff2873936b9e84": {
          "model_module": "@jupyter-widgets/controls",
          "model_name": "FloatProgressModel",
          "model_module_version": "1.5.0",
          "state": {
            "_view_name": "ProgressView",
            "style": "IPY_MODEL_2322221b12d740288138ff69a50f42a3",
            "_dom_classes": [],
            "description": "",
            "_model_name": "FloatProgressModel",
            "bar_style": "success",
            "max": 63,
            "_view_module": "@jupyter-widgets/controls",
            "_model_module_version": "1.5.0",
            "value": 63,
            "_view_count": null,
            "_view_module_version": "1.5.0",
            "orientation": "horizontal",
            "min": 0,
            "description_tooltip": null,
            "_model_module": "@jupyter-widgets/controls",
            "layout": "IPY_MODEL_a61d74df817f4dc5bbe68f2d76ca74be"
          }
        },
        "8c15424d83c745d2bb89a1e7bf02877f": {
          "model_module": "@jupyter-widgets/controls",
          "model_name": "HTMLModel",
          "model_module_version": "1.5.0",
          "state": {
            "_view_name": "HTMLView",
            "style": "IPY_MODEL_83d107de17d04e9bae10cb6b39e07ce4",
            "_dom_classes": [],
            "description": "",
            "_model_name": "HTMLModel",
            "placeholder": "​",
            "_view_module": "@jupyter-widgets/controls",
            "_model_module_version": "1.5.0",
            "value": " 63/63 [00:25&lt;00:00,  2.96it/s]",
            "_view_count": null,
            "_view_module_version": "1.5.0",
            "description_tooltip": null,
            "_model_module": "@jupyter-widgets/controls",
            "layout": "IPY_MODEL_f777563d6a3c4ef4a90ab0292bde6f03"
          }
        },
        "e89a5aca069746bd815c71cb703b9aa0": {
          "model_module": "@jupyter-widgets/controls",
          "model_name": "DescriptionStyleModel",
          "model_module_version": "1.5.0",
          "state": {
            "_view_name": "StyleView",
            "_model_name": "DescriptionStyleModel",
            "description_width": "",
            "_view_module": "@jupyter-widgets/base",
            "_model_module_version": "1.5.0",
            "_view_count": null,
            "_view_module_version": "1.2.0",
            "_model_module": "@jupyter-widgets/controls"
          }
        },
        "611f772d21ba4c068c266fde3fc1d9a5": {
          "model_module": "@jupyter-widgets/base",
          "model_name": "LayoutModel",
          "model_module_version": "1.2.0",
          "state": {
            "_view_name": "LayoutView",
            "grid_template_rows": null,
            "right": null,
            "justify_content": null,
            "_view_module": "@jupyter-widgets/base",
            "overflow": null,
            "_model_module_version": "1.2.0",
            "_view_count": null,
            "flex_flow": null,
            "width": null,
            "min_width": null,
            "border": null,
            "align_items": null,
            "bottom": null,
            "_model_module": "@jupyter-widgets/base",
            "top": null,
            "grid_column": null,
            "overflow_y": null,
            "overflow_x": null,
            "grid_auto_flow": null,
            "grid_area": null,
            "grid_template_columns": null,
            "flex": null,
            "_model_name": "LayoutModel",
            "justify_items": null,
            "grid_row": null,
            "max_height": null,
            "align_content": null,
            "visibility": null,
            "align_self": null,
            "height": null,
            "min_height": null,
            "padding": null,
            "grid_auto_rows": null,
            "grid_gap": null,
            "max_width": null,
            "order": null,
            "_view_module_version": "1.2.0",
            "grid_template_areas": null,
            "object_position": null,
            "object_fit": null,
            "grid_auto_columns": null,
            "margin": null,
            "display": null,
            "left": null
          }
        },
        "2322221b12d740288138ff69a50f42a3": {
          "model_module": "@jupyter-widgets/controls",
          "model_name": "ProgressStyleModel",
          "model_module_version": "1.5.0",
          "state": {
            "_view_name": "StyleView",
            "_model_name": "ProgressStyleModel",
            "description_width": "",
            "_view_module": "@jupyter-widgets/base",
            "_model_module_version": "1.5.0",
            "_view_count": null,
            "_view_module_version": "1.2.0",
            "bar_color": null,
            "_model_module": "@jupyter-widgets/controls"
          }
        },
        "a61d74df817f4dc5bbe68f2d76ca74be": {
          "model_module": "@jupyter-widgets/base",
          "model_name": "LayoutModel",
          "model_module_version": "1.2.0",
          "state": {
            "_view_name": "LayoutView",
            "grid_template_rows": null,
            "right": null,
            "justify_content": null,
            "_view_module": "@jupyter-widgets/base",
            "overflow": null,
            "_model_module_version": "1.2.0",
            "_view_count": null,
            "flex_flow": null,
            "width": null,
            "min_width": null,
            "border": null,
            "align_items": null,
            "bottom": null,
            "_model_module": "@jupyter-widgets/base",
            "top": null,
            "grid_column": null,
            "overflow_y": null,
            "overflow_x": null,
            "grid_auto_flow": null,
            "grid_area": null,
            "grid_template_columns": null,
            "flex": null,
            "_model_name": "LayoutModel",
            "justify_items": null,
            "grid_row": null,
            "max_height": null,
            "align_content": null,
            "visibility": null,
            "align_self": null,
            "height": null,
            "min_height": null,
            "padding": null,
            "grid_auto_rows": null,
            "grid_gap": null,
            "max_width": null,
            "order": null,
            "_view_module_version": "1.2.0",
            "grid_template_areas": null,
            "object_position": null,
            "object_fit": null,
            "grid_auto_columns": null,
            "margin": null,
            "display": null,
            "left": null
          }
        },
        "83d107de17d04e9bae10cb6b39e07ce4": {
          "model_module": "@jupyter-widgets/controls",
          "model_name": "DescriptionStyleModel",
          "model_module_version": "1.5.0",
          "state": {
            "_view_name": "StyleView",
            "_model_name": "DescriptionStyleModel",
            "description_width": "",
            "_view_module": "@jupyter-widgets/base",
            "_model_module_version": "1.5.0",
            "_view_count": null,
            "_view_module_version": "1.2.0",
            "_model_module": "@jupyter-widgets/controls"
          }
        },
        "f777563d6a3c4ef4a90ab0292bde6f03": {
          "model_module": "@jupyter-widgets/base",
          "model_name": "LayoutModel",
          "model_module_version": "1.2.0",
          "state": {
            "_view_name": "LayoutView",
            "grid_template_rows": null,
            "right": null,
            "justify_content": null,
            "_view_module": "@jupyter-widgets/base",
            "overflow": null,
            "_model_module_version": "1.2.0",
            "_view_count": null,
            "flex_flow": null,
            "width": null,
            "min_width": null,
            "border": null,
            "align_items": null,
            "bottom": null,
            "_model_module": "@jupyter-widgets/base",
            "top": null,
            "grid_column": null,
            "overflow_y": null,
            "overflow_x": null,
            "grid_auto_flow": null,
            "grid_area": null,
            "grid_template_columns": null,
            "flex": null,
            "_model_name": "LayoutModel",
            "justify_items": null,
            "grid_row": null,
            "max_height": null,
            "align_content": null,
            "visibility": null,
            "align_self": null,
            "height": null,
            "min_height": null,
            "padding": null,
            "grid_auto_rows": null,
            "grid_gap": null,
            "max_width": null,
            "order": null,
            "_view_module_version": "1.2.0",
            "grid_template_areas": null,
            "object_position": null,
            "object_fit": null,
            "grid_auto_columns": null,
            "margin": null,
            "display": null,
            "left": null
          }
        },
        "87afb1182eb6466eb76f17abbce4411b": {
          "model_module": "@jupyter-widgets/controls",
          "model_name": "HBoxModel",
          "model_module_version": "1.5.0",
          "state": {
            "_view_name": "HBoxView",
            "_dom_classes": [],
            "_model_name": "HBoxModel",
            "_view_module": "@jupyter-widgets/controls",
            "_model_module_version": "1.5.0",
            "_view_count": null,
            "_view_module_version": "1.5.0",
            "box_style": "",
            "layout": "IPY_MODEL_74ba753fffdc4e20b697f77d8e7fcf01",
            "_model_module": "@jupyter-widgets/controls",
            "children": [
              "IPY_MODEL_36f42d24064e4e65b3211d968ec58b7f",
              "IPY_MODEL_b3f2ad1c20964a1a8588cc4036e5a0df",
              "IPY_MODEL_e2aa9dcb182c4ee8ba762e6fd3657c1b"
            ]
          }
        },
        "74ba753fffdc4e20b697f77d8e7fcf01": {
          "model_module": "@jupyter-widgets/base",
          "model_name": "LayoutModel",
          "model_module_version": "1.2.0",
          "state": {
            "_view_name": "LayoutView",
            "grid_template_rows": null,
            "right": null,
            "justify_content": null,
            "_view_module": "@jupyter-widgets/base",
            "overflow": null,
            "_model_module_version": "1.2.0",
            "_view_count": null,
            "flex_flow": null,
            "width": null,
            "min_width": null,
            "border": null,
            "align_items": null,
            "bottom": null,
            "_model_module": "@jupyter-widgets/base",
            "top": null,
            "grid_column": null,
            "overflow_y": null,
            "overflow_x": null,
            "grid_auto_flow": null,
            "grid_area": null,
            "grid_template_columns": null,
            "flex": null,
            "_model_name": "LayoutModel",
            "justify_items": null,
            "grid_row": null,
            "max_height": null,
            "align_content": null,
            "visibility": null,
            "align_self": null,
            "height": null,
            "min_height": null,
            "padding": null,
            "grid_auto_rows": null,
            "grid_gap": null,
            "max_width": null,
            "order": null,
            "_view_module_version": "1.2.0",
            "grid_template_areas": null,
            "object_position": null,
            "object_fit": null,
            "grid_auto_columns": null,
            "margin": null,
            "display": null,
            "left": null
          }
        },
        "36f42d24064e4e65b3211d968ec58b7f": {
          "model_module": "@jupyter-widgets/controls",
          "model_name": "HTMLModel",
          "model_module_version": "1.5.0",
          "state": {
            "_view_name": "HTMLView",
            "style": "IPY_MODEL_c117a22b71014cd9b4b3adfd57232005",
            "_dom_classes": [],
            "description": "",
            "_model_name": "HTMLModel",
            "placeholder": "​",
            "_view_module": "@jupyter-widgets/controls",
            "_model_module_version": "1.5.0",
            "value": "train loader: 100%",
            "_view_count": null,
            "_view_module_version": "1.5.0",
            "description_tooltip": null,
            "_model_module": "@jupyter-widgets/controls",
            "layout": "IPY_MODEL_6542c88f28234b628e4d59f1e1752b2a"
          }
        },
        "b3f2ad1c20964a1a8588cc4036e5a0df": {
          "model_module": "@jupyter-widgets/controls",
          "model_name": "FloatProgressModel",
          "model_module_version": "1.5.0",
          "state": {
            "_view_name": "ProgressView",
            "style": "IPY_MODEL_a8ea09cc30a043f78df09b9e9000903a",
            "_dom_classes": [],
            "description": "",
            "_model_name": "FloatProgressModel",
            "bar_style": "success",
            "max": 63,
            "_view_module": "@jupyter-widgets/controls",
            "_model_module_version": "1.5.0",
            "value": 63,
            "_view_count": null,
            "_view_module_version": "1.5.0",
            "orientation": "horizontal",
            "min": 0,
            "description_tooltip": null,
            "_model_module": "@jupyter-widgets/controls",
            "layout": "IPY_MODEL_8d3afe99103f4fd89419d21ba8e380d7"
          }
        },
        "e2aa9dcb182c4ee8ba762e6fd3657c1b": {
          "model_module": "@jupyter-widgets/controls",
          "model_name": "HTMLModel",
          "model_module_version": "1.5.0",
          "state": {
            "_view_name": "HTMLView",
            "style": "IPY_MODEL_5c4d0075cd244f6b86bef871ccf87c1c",
            "_dom_classes": [],
            "description": "",
            "_model_name": "HTMLModel",
            "placeholder": "​",
            "_view_module": "@jupyter-widgets/controls",
            "_model_module_version": "1.5.0",
            "value": " 63/63 [00:25&lt;00:00,  2.94it/s]",
            "_view_count": null,
            "_view_module_version": "1.5.0",
            "description_tooltip": null,
            "_model_module": "@jupyter-widgets/controls",
            "layout": "IPY_MODEL_7dba09a42fb447c8b62126756e83a246"
          }
        },
        "c117a22b71014cd9b4b3adfd57232005": {
          "model_module": "@jupyter-widgets/controls",
          "model_name": "DescriptionStyleModel",
          "model_module_version": "1.5.0",
          "state": {
            "_view_name": "StyleView",
            "_model_name": "DescriptionStyleModel",
            "description_width": "",
            "_view_module": "@jupyter-widgets/base",
            "_model_module_version": "1.5.0",
            "_view_count": null,
            "_view_module_version": "1.2.0",
            "_model_module": "@jupyter-widgets/controls"
          }
        },
        "6542c88f28234b628e4d59f1e1752b2a": {
          "model_module": "@jupyter-widgets/base",
          "model_name": "LayoutModel",
          "model_module_version": "1.2.0",
          "state": {
            "_view_name": "LayoutView",
            "grid_template_rows": null,
            "right": null,
            "justify_content": null,
            "_view_module": "@jupyter-widgets/base",
            "overflow": null,
            "_model_module_version": "1.2.0",
            "_view_count": null,
            "flex_flow": null,
            "width": null,
            "min_width": null,
            "border": null,
            "align_items": null,
            "bottom": null,
            "_model_module": "@jupyter-widgets/base",
            "top": null,
            "grid_column": null,
            "overflow_y": null,
            "overflow_x": null,
            "grid_auto_flow": null,
            "grid_area": null,
            "grid_template_columns": null,
            "flex": null,
            "_model_name": "LayoutModel",
            "justify_items": null,
            "grid_row": null,
            "max_height": null,
            "align_content": null,
            "visibility": null,
            "align_self": null,
            "height": null,
            "min_height": null,
            "padding": null,
            "grid_auto_rows": null,
            "grid_gap": null,
            "max_width": null,
            "order": null,
            "_view_module_version": "1.2.0",
            "grid_template_areas": null,
            "object_position": null,
            "object_fit": null,
            "grid_auto_columns": null,
            "margin": null,
            "display": null,
            "left": null
          }
        },
        "a8ea09cc30a043f78df09b9e9000903a": {
          "model_module": "@jupyter-widgets/controls",
          "model_name": "ProgressStyleModel",
          "model_module_version": "1.5.0",
          "state": {
            "_view_name": "StyleView",
            "_model_name": "ProgressStyleModel",
            "description_width": "",
            "_view_module": "@jupyter-widgets/base",
            "_model_module_version": "1.5.0",
            "_view_count": null,
            "_view_module_version": "1.2.0",
            "bar_color": null,
            "_model_module": "@jupyter-widgets/controls"
          }
        },
        "8d3afe99103f4fd89419d21ba8e380d7": {
          "model_module": "@jupyter-widgets/base",
          "model_name": "LayoutModel",
          "model_module_version": "1.2.0",
          "state": {
            "_view_name": "LayoutView",
            "grid_template_rows": null,
            "right": null,
            "justify_content": null,
            "_view_module": "@jupyter-widgets/base",
            "overflow": null,
            "_model_module_version": "1.2.0",
            "_view_count": null,
            "flex_flow": null,
            "width": null,
            "min_width": null,
            "border": null,
            "align_items": null,
            "bottom": null,
            "_model_module": "@jupyter-widgets/base",
            "top": null,
            "grid_column": null,
            "overflow_y": null,
            "overflow_x": null,
            "grid_auto_flow": null,
            "grid_area": null,
            "grid_template_columns": null,
            "flex": null,
            "_model_name": "LayoutModel",
            "justify_items": null,
            "grid_row": null,
            "max_height": null,
            "align_content": null,
            "visibility": null,
            "align_self": null,
            "height": null,
            "min_height": null,
            "padding": null,
            "grid_auto_rows": null,
            "grid_gap": null,
            "max_width": null,
            "order": null,
            "_view_module_version": "1.2.0",
            "grid_template_areas": null,
            "object_position": null,
            "object_fit": null,
            "grid_auto_columns": null,
            "margin": null,
            "display": null,
            "left": null
          }
        },
        "5c4d0075cd244f6b86bef871ccf87c1c": {
          "model_module": "@jupyter-widgets/controls",
          "model_name": "DescriptionStyleModel",
          "model_module_version": "1.5.0",
          "state": {
            "_view_name": "StyleView",
            "_model_name": "DescriptionStyleModel",
            "description_width": "",
            "_view_module": "@jupyter-widgets/base",
            "_model_module_version": "1.5.0",
            "_view_count": null,
            "_view_module_version": "1.2.0",
            "_model_module": "@jupyter-widgets/controls"
          }
        },
        "7dba09a42fb447c8b62126756e83a246": {
          "model_module": "@jupyter-widgets/base",
          "model_name": "LayoutModel",
          "model_module_version": "1.2.0",
          "state": {
            "_view_name": "LayoutView",
            "grid_template_rows": null,
            "right": null,
            "justify_content": null,
            "_view_module": "@jupyter-widgets/base",
            "overflow": null,
            "_model_module_version": "1.2.0",
            "_view_count": null,
            "flex_flow": null,
            "width": null,
            "min_width": null,
            "border": null,
            "align_items": null,
            "bottom": null,
            "_model_module": "@jupyter-widgets/base",
            "top": null,
            "grid_column": null,
            "overflow_y": null,
            "overflow_x": null,
            "grid_auto_flow": null,
            "grid_area": null,
            "grid_template_columns": null,
            "flex": null,
            "_model_name": "LayoutModel",
            "justify_items": null,
            "grid_row": null,
            "max_height": null,
            "align_content": null,
            "visibility": null,
            "align_self": null,
            "height": null,
            "min_height": null,
            "padding": null,
            "grid_auto_rows": null,
            "grid_gap": null,
            "max_width": null,
            "order": null,
            "_view_module_version": "1.2.0",
            "grid_template_areas": null,
            "object_position": null,
            "object_fit": null,
            "grid_auto_columns": null,
            "margin": null,
            "display": null,
            "left": null
          }
        },
        "5018dcea1d10435a8609eee3a12d03dd": {
          "model_module": "@jupyter-widgets/controls",
          "model_name": "HBoxModel",
          "model_module_version": "1.5.0",
          "state": {
            "_view_name": "HBoxView",
            "_dom_classes": [],
            "_model_name": "HBoxModel",
            "_view_module": "@jupyter-widgets/controls",
            "_model_module_version": "1.5.0",
            "_view_count": null,
            "_view_module_version": "1.5.0",
            "box_style": "",
            "layout": "IPY_MODEL_13189134d36e4ee19ab6485ba189fb10",
            "_model_module": "@jupyter-widgets/controls",
            "children": [
              "IPY_MODEL_a4ff11c72b194a5ba981944d9c64c962",
              "IPY_MODEL_ec20b29a734849739f7aa28180bc631d",
              "IPY_MODEL_cce80bf59dcf467d9ce051cc43714716"
            ]
          }
        },
        "13189134d36e4ee19ab6485ba189fb10": {
          "model_module": "@jupyter-widgets/base",
          "model_name": "LayoutModel",
          "model_module_version": "1.2.0",
          "state": {
            "_view_name": "LayoutView",
            "grid_template_rows": null,
            "right": null,
            "justify_content": null,
            "_view_module": "@jupyter-widgets/base",
            "overflow": null,
            "_model_module_version": "1.2.0",
            "_view_count": null,
            "flex_flow": null,
            "width": null,
            "min_width": null,
            "border": null,
            "align_items": null,
            "bottom": null,
            "_model_module": "@jupyter-widgets/base",
            "top": null,
            "grid_column": null,
            "overflow_y": null,
            "overflow_x": null,
            "grid_auto_flow": null,
            "grid_area": null,
            "grid_template_columns": null,
            "flex": null,
            "_model_name": "LayoutModel",
            "justify_items": null,
            "grid_row": null,
            "max_height": null,
            "align_content": null,
            "visibility": null,
            "align_self": null,
            "height": null,
            "min_height": null,
            "padding": null,
            "grid_auto_rows": null,
            "grid_gap": null,
            "max_width": null,
            "order": null,
            "_view_module_version": "1.2.0",
            "grid_template_areas": null,
            "object_position": null,
            "object_fit": null,
            "grid_auto_columns": null,
            "margin": null,
            "display": null,
            "left": null
          }
        },
        "a4ff11c72b194a5ba981944d9c64c962": {
          "model_module": "@jupyter-widgets/controls",
          "model_name": "HTMLModel",
          "model_module_version": "1.5.0",
          "state": {
            "_view_name": "HTMLView",
            "style": "IPY_MODEL_c4ce88b426504c8b947943fa4d35efaa",
            "_dom_classes": [],
            "description": "",
            "_model_name": "HTMLModel",
            "placeholder": "​",
            "_view_module": "@jupyter-widgets/controls",
            "_model_module_version": "1.5.0",
            "value": "train loader:  17%",
            "_view_count": null,
            "_view_module_version": "1.5.0",
            "description_tooltip": null,
            "_model_module": "@jupyter-widgets/controls",
            "layout": "IPY_MODEL_4a2a4d1fa45e48348b1f83e66dc64ed7"
          }
        },
        "ec20b29a734849739f7aa28180bc631d": {
          "model_module": "@jupyter-widgets/controls",
          "model_name": "FloatProgressModel",
          "model_module_version": "1.5.0",
          "state": {
            "_view_name": "ProgressView",
            "style": "IPY_MODEL_e2b29e24b7924d50be807c388afaf8fe",
            "_dom_classes": [],
            "description": "",
            "_model_name": "FloatProgressModel",
            "bar_style": "danger",
            "max": 63,
            "_view_module": "@jupyter-widgets/controls",
            "_model_module_version": "1.5.0",
            "value": 11,
            "_view_count": null,
            "_view_module_version": "1.5.0",
            "orientation": "horizontal",
            "min": 0,
            "description_tooltip": null,
            "_model_module": "@jupyter-widgets/controls",
            "layout": "IPY_MODEL_c7455f385d1b4836b5dbbb509e4efb6d"
          }
        },
        "cce80bf59dcf467d9ce051cc43714716": {
          "model_module": "@jupyter-widgets/controls",
          "model_name": "HTMLModel",
          "model_module_version": "1.5.0",
          "state": {
            "_view_name": "HTMLView",
            "style": "IPY_MODEL_48979682c3624dddb12b825591d8ddb5",
            "_dom_classes": [],
            "description": "",
            "_model_name": "HTMLModel",
            "placeholder": "​",
            "_view_module": "@jupyter-widgets/controls",
            "_model_module_version": "1.5.0",
            "value": " 11/63 [00:04&lt;00:21,  2.44it/s]",
            "_view_count": null,
            "_view_module_version": "1.5.0",
            "description_tooltip": null,
            "_model_module": "@jupyter-widgets/controls",
            "layout": "IPY_MODEL_9050d3c34ce240dcb50a2fce65ac571b"
          }
        },
        "c4ce88b426504c8b947943fa4d35efaa": {
          "model_module": "@jupyter-widgets/controls",
          "model_name": "DescriptionStyleModel",
          "model_module_version": "1.5.0",
          "state": {
            "_view_name": "StyleView",
            "_model_name": "DescriptionStyleModel",
            "description_width": "",
            "_view_module": "@jupyter-widgets/base",
            "_model_module_version": "1.5.0",
            "_view_count": null,
            "_view_module_version": "1.2.0",
            "_model_module": "@jupyter-widgets/controls"
          }
        },
        "4a2a4d1fa45e48348b1f83e66dc64ed7": {
          "model_module": "@jupyter-widgets/base",
          "model_name": "LayoutModel",
          "model_module_version": "1.2.0",
          "state": {
            "_view_name": "LayoutView",
            "grid_template_rows": null,
            "right": null,
            "justify_content": null,
            "_view_module": "@jupyter-widgets/base",
            "overflow": null,
            "_model_module_version": "1.2.0",
            "_view_count": null,
            "flex_flow": null,
            "width": null,
            "min_width": null,
            "border": null,
            "align_items": null,
            "bottom": null,
            "_model_module": "@jupyter-widgets/base",
            "top": null,
            "grid_column": null,
            "overflow_y": null,
            "overflow_x": null,
            "grid_auto_flow": null,
            "grid_area": null,
            "grid_template_columns": null,
            "flex": null,
            "_model_name": "LayoutModel",
            "justify_items": null,
            "grid_row": null,
            "max_height": null,
            "align_content": null,
            "visibility": null,
            "align_self": null,
            "height": null,
            "min_height": null,
            "padding": null,
            "grid_auto_rows": null,
            "grid_gap": null,
            "max_width": null,
            "order": null,
            "_view_module_version": "1.2.0",
            "grid_template_areas": null,
            "object_position": null,
            "object_fit": null,
            "grid_auto_columns": null,
            "margin": null,
            "display": null,
            "left": null
          }
        },
        "e2b29e24b7924d50be807c388afaf8fe": {
          "model_module": "@jupyter-widgets/controls",
          "model_name": "ProgressStyleModel",
          "model_module_version": "1.5.0",
          "state": {
            "_view_name": "StyleView",
            "_model_name": "ProgressStyleModel",
            "description_width": "",
            "_view_module": "@jupyter-widgets/base",
            "_model_module_version": "1.5.0",
            "_view_count": null,
            "_view_module_version": "1.2.0",
            "bar_color": null,
            "_model_module": "@jupyter-widgets/controls"
          }
        },
        "c7455f385d1b4836b5dbbb509e4efb6d": {
          "model_module": "@jupyter-widgets/base",
          "model_name": "LayoutModel",
          "model_module_version": "1.2.0",
          "state": {
            "_view_name": "LayoutView",
            "grid_template_rows": null,
            "right": null,
            "justify_content": null,
            "_view_module": "@jupyter-widgets/base",
            "overflow": null,
            "_model_module_version": "1.2.0",
            "_view_count": null,
            "flex_flow": null,
            "width": null,
            "min_width": null,
            "border": null,
            "align_items": null,
            "bottom": null,
            "_model_module": "@jupyter-widgets/base",
            "top": null,
            "grid_column": null,
            "overflow_y": null,
            "overflow_x": null,
            "grid_auto_flow": null,
            "grid_area": null,
            "grid_template_columns": null,
            "flex": null,
            "_model_name": "LayoutModel",
            "justify_items": null,
            "grid_row": null,
            "max_height": null,
            "align_content": null,
            "visibility": null,
            "align_self": null,
            "height": null,
            "min_height": null,
            "padding": null,
            "grid_auto_rows": null,
            "grid_gap": null,
            "max_width": null,
            "order": null,
            "_view_module_version": "1.2.0",
            "grid_template_areas": null,
            "object_position": null,
            "object_fit": null,
            "grid_auto_columns": null,
            "margin": null,
            "display": null,
            "left": null
          }
        },
        "48979682c3624dddb12b825591d8ddb5": {
          "model_module": "@jupyter-widgets/controls",
          "model_name": "DescriptionStyleModel",
          "model_module_version": "1.5.0",
          "state": {
            "_view_name": "StyleView",
            "_model_name": "DescriptionStyleModel",
            "description_width": "",
            "_view_module": "@jupyter-widgets/base",
            "_model_module_version": "1.5.0",
            "_view_count": null,
            "_view_module_version": "1.2.0",
            "_model_module": "@jupyter-widgets/controls"
          }
        },
        "9050d3c34ce240dcb50a2fce65ac571b": {
          "model_module": "@jupyter-widgets/base",
          "model_name": "LayoutModel",
          "model_module_version": "1.2.0",
          "state": {
            "_view_name": "LayoutView",
            "grid_template_rows": null,
            "right": null,
            "justify_content": null,
            "_view_module": "@jupyter-widgets/base",
            "overflow": null,
            "_model_module_version": "1.2.0",
            "_view_count": null,
            "flex_flow": null,
            "width": null,
            "min_width": null,
            "border": null,
            "align_items": null,
            "bottom": null,
            "_model_module": "@jupyter-widgets/base",
            "top": null,
            "grid_column": null,
            "overflow_y": null,
            "overflow_x": null,
            "grid_auto_flow": null,
            "grid_area": null,
            "grid_template_columns": null,
            "flex": null,
            "_model_name": "LayoutModel",
            "justify_items": null,
            "grid_row": null,
            "max_height": null,
            "align_content": null,
            "visibility": null,
            "align_self": null,
            "height": null,
            "min_height": null,
            "padding": null,
            "grid_auto_rows": null,
            "grid_gap": null,
            "max_width": null,
            "order": null,
            "_view_module_version": "1.2.0",
            "grid_template_areas": null,
            "object_position": null,
            "object_fit": null,
            "grid_auto_columns": null,
            "margin": null,
            "display": null,
            "left": null
          }
        },
        "44aaf3899f7d4cb3aae39047f29aecb2": {
          "model_module": "@jupyter-widgets/controls",
          "model_name": "HBoxModel",
          "model_module_version": "1.5.0",
          "state": {
            "_view_name": "HBoxView",
            "_dom_classes": [],
            "_model_name": "HBoxModel",
            "_view_module": "@jupyter-widgets/controls",
            "_model_module_version": "1.5.0",
            "_view_count": null,
            "_view_module_version": "1.5.0",
            "box_style": "",
            "layout": "IPY_MODEL_e5cff2894f914c239937a3b0fc8fd4ad",
            "_model_module": "@jupyter-widgets/controls",
            "children": [
              "IPY_MODEL_46071efb78c64f26bef1edef7c1df74c",
              "IPY_MODEL_336eb6d84121412385f84045d1b41845",
              "IPY_MODEL_52039fd6348b4eff9f5175b44d8af98f"
            ]
          }
        },
        "e5cff2894f914c239937a3b0fc8fd4ad": {
          "model_module": "@jupyter-widgets/base",
          "model_name": "LayoutModel",
          "model_module_version": "1.2.0",
          "state": {
            "_view_name": "LayoutView",
            "grid_template_rows": null,
            "right": null,
            "justify_content": null,
            "_view_module": "@jupyter-widgets/base",
            "overflow": null,
            "_model_module_version": "1.2.0",
            "_view_count": null,
            "flex_flow": null,
            "width": null,
            "min_width": null,
            "border": null,
            "align_items": null,
            "bottom": null,
            "_model_module": "@jupyter-widgets/base",
            "top": null,
            "grid_column": null,
            "overflow_y": null,
            "overflow_x": null,
            "grid_auto_flow": null,
            "grid_area": null,
            "grid_template_columns": null,
            "flex": null,
            "_model_name": "LayoutModel",
            "justify_items": null,
            "grid_row": null,
            "max_height": null,
            "align_content": null,
            "visibility": null,
            "align_self": null,
            "height": null,
            "min_height": null,
            "padding": null,
            "grid_auto_rows": null,
            "grid_gap": null,
            "max_width": null,
            "order": null,
            "_view_module_version": "1.2.0",
            "grid_template_areas": null,
            "object_position": null,
            "object_fit": null,
            "grid_auto_columns": null,
            "margin": null,
            "display": null,
            "left": null
          }
        },
        "46071efb78c64f26bef1edef7c1df74c": {
          "model_module": "@jupyter-widgets/controls",
          "model_name": "HTMLModel",
          "model_module_version": "1.5.0",
          "state": {
            "_view_name": "HTMLView",
            "style": "IPY_MODEL_445fb61679cb4ab6a68bd111fa176fce",
            "_dom_classes": [],
            "description": "",
            "_model_name": "HTMLModel",
            "placeholder": "​",
            "_view_module": "@jupyter-widgets/controls",
            "_model_module_version": "1.5.0",
            "value": "100%",
            "_view_count": null,
            "_view_module_version": "1.5.0",
            "description_tooltip": null,
            "_model_module": "@jupyter-widgets/controls",
            "layout": "IPY_MODEL_6e59cb5266244fd69e1e34098e69b803"
          }
        },
        "336eb6d84121412385f84045d1b41845": {
          "model_module": "@jupyter-widgets/controls",
          "model_name": "FloatProgressModel",
          "model_module_version": "1.5.0",
          "state": {
            "_view_name": "ProgressView",
            "style": "IPY_MODEL_23991afd476144a69c41d35def6cf1e0",
            "_dom_classes": [],
            "description": "",
            "_model_name": "FloatProgressModel",
            "bar_style": "success",
            "max": 1992,
            "_view_module": "@jupyter-widgets/controls",
            "_model_module_version": "1.5.0",
            "value": 1992,
            "_view_count": null,
            "_view_module_version": "1.5.0",
            "orientation": "horizontal",
            "min": 0,
            "description_tooltip": null,
            "_model_module": "@jupyter-widgets/controls",
            "layout": "IPY_MODEL_e1ae48b7502543489b9c84c8d46f994d"
          }
        },
        "52039fd6348b4eff9f5175b44d8af98f": {
          "model_module": "@jupyter-widgets/controls",
          "model_name": "HTMLModel",
          "model_module_version": "1.5.0",
          "state": {
            "_view_name": "HTMLView",
            "style": "IPY_MODEL_618f5e25ac2341d191b56dd0a3f220b3",
            "_dom_classes": [],
            "description": "",
            "_model_name": "HTMLModel",
            "placeholder": "​",
            "_view_module": "@jupyter-widgets/controls",
            "_model_module_version": "1.5.0",
            "value": " 1992/1992 [01:47&lt;00:00, 18.83it/s]",
            "_view_count": null,
            "_view_module_version": "1.5.0",
            "description_tooltip": null,
            "_model_module": "@jupyter-widgets/controls",
            "layout": "IPY_MODEL_d1f3beeeff84424988e399ee4f6986ec"
          }
        },
        "445fb61679cb4ab6a68bd111fa176fce": {
          "model_module": "@jupyter-widgets/controls",
          "model_name": "DescriptionStyleModel",
          "model_module_version": "1.5.0",
          "state": {
            "_view_name": "StyleView",
            "_model_name": "DescriptionStyleModel",
            "description_width": "",
            "_view_module": "@jupyter-widgets/base",
            "_model_module_version": "1.5.0",
            "_view_count": null,
            "_view_module_version": "1.2.0",
            "_model_module": "@jupyter-widgets/controls"
          }
        },
        "6e59cb5266244fd69e1e34098e69b803": {
          "model_module": "@jupyter-widgets/base",
          "model_name": "LayoutModel",
          "model_module_version": "1.2.0",
          "state": {
            "_view_name": "LayoutView",
            "grid_template_rows": null,
            "right": null,
            "justify_content": null,
            "_view_module": "@jupyter-widgets/base",
            "overflow": null,
            "_model_module_version": "1.2.0",
            "_view_count": null,
            "flex_flow": null,
            "width": null,
            "min_width": null,
            "border": null,
            "align_items": null,
            "bottom": null,
            "_model_module": "@jupyter-widgets/base",
            "top": null,
            "grid_column": null,
            "overflow_y": null,
            "overflow_x": null,
            "grid_auto_flow": null,
            "grid_area": null,
            "grid_template_columns": null,
            "flex": null,
            "_model_name": "LayoutModel",
            "justify_items": null,
            "grid_row": null,
            "max_height": null,
            "align_content": null,
            "visibility": null,
            "align_self": null,
            "height": null,
            "min_height": null,
            "padding": null,
            "grid_auto_rows": null,
            "grid_gap": null,
            "max_width": null,
            "order": null,
            "_view_module_version": "1.2.0",
            "grid_template_areas": null,
            "object_position": null,
            "object_fit": null,
            "grid_auto_columns": null,
            "margin": null,
            "display": null,
            "left": null
          }
        },
        "23991afd476144a69c41d35def6cf1e0": {
          "model_module": "@jupyter-widgets/controls",
          "model_name": "ProgressStyleModel",
          "model_module_version": "1.5.0",
          "state": {
            "_view_name": "StyleView",
            "_model_name": "ProgressStyleModel",
            "description_width": "",
            "_view_module": "@jupyter-widgets/base",
            "_model_module_version": "1.5.0",
            "_view_count": null,
            "_view_module_version": "1.2.0",
            "bar_color": null,
            "_model_module": "@jupyter-widgets/controls"
          }
        },
        "e1ae48b7502543489b9c84c8d46f994d": {
          "model_module": "@jupyter-widgets/base",
          "model_name": "LayoutModel",
          "model_module_version": "1.2.0",
          "state": {
            "_view_name": "LayoutView",
            "grid_template_rows": null,
            "right": null,
            "justify_content": null,
            "_view_module": "@jupyter-widgets/base",
            "overflow": null,
            "_model_module_version": "1.2.0",
            "_view_count": null,
            "flex_flow": null,
            "width": null,
            "min_width": null,
            "border": null,
            "align_items": null,
            "bottom": null,
            "_model_module": "@jupyter-widgets/base",
            "top": null,
            "grid_column": null,
            "overflow_y": null,
            "overflow_x": null,
            "grid_auto_flow": null,
            "grid_area": null,
            "grid_template_columns": null,
            "flex": null,
            "_model_name": "LayoutModel",
            "justify_items": null,
            "grid_row": null,
            "max_height": null,
            "align_content": null,
            "visibility": null,
            "align_self": null,
            "height": null,
            "min_height": null,
            "padding": null,
            "grid_auto_rows": null,
            "grid_gap": null,
            "max_width": null,
            "order": null,
            "_view_module_version": "1.2.0",
            "grid_template_areas": null,
            "object_position": null,
            "object_fit": null,
            "grid_auto_columns": null,
            "margin": null,
            "display": null,
            "left": null
          }
        },
        "618f5e25ac2341d191b56dd0a3f220b3": {
          "model_module": "@jupyter-widgets/controls",
          "model_name": "DescriptionStyleModel",
          "model_module_version": "1.5.0",
          "state": {
            "_view_name": "StyleView",
            "_model_name": "DescriptionStyleModel",
            "description_width": "",
            "_view_module": "@jupyter-widgets/base",
            "_model_module_version": "1.5.0",
            "_view_count": null,
            "_view_module_version": "1.2.0",
            "_model_module": "@jupyter-widgets/controls"
          }
        },
        "d1f3beeeff84424988e399ee4f6986ec": {
          "model_module": "@jupyter-widgets/base",
          "model_name": "LayoutModel",
          "model_module_version": "1.2.0",
          "state": {
            "_view_name": "LayoutView",
            "grid_template_rows": null,
            "right": null,
            "justify_content": null,
            "_view_module": "@jupyter-widgets/base",
            "overflow": null,
            "_model_module_version": "1.2.0",
            "_view_count": null,
            "flex_flow": null,
            "width": null,
            "min_width": null,
            "border": null,
            "align_items": null,
            "bottom": null,
            "_model_module": "@jupyter-widgets/base",
            "top": null,
            "grid_column": null,
            "overflow_y": null,
            "overflow_x": null,
            "grid_auto_flow": null,
            "grid_area": null,
            "grid_template_columns": null,
            "flex": null,
            "_model_name": "LayoutModel",
            "justify_items": null,
            "grid_row": null,
            "max_height": null,
            "align_content": null,
            "visibility": null,
            "align_self": null,
            "height": null,
            "min_height": null,
            "padding": null,
            "grid_auto_rows": null,
            "grid_gap": null,
            "max_width": null,
            "order": null,
            "_view_module_version": "1.2.0",
            "grid_template_areas": null,
            "object_position": null,
            "object_fit": null,
            "grid_auto_columns": null,
            "margin": null,
            "display": null,
            "left": null
          }
        }
      }
    },
    "accelerator": "GPU"
  },
  "cells": [
    {
      "cell_type": "markdown",
      "metadata": {
        "id": "view-in-github",
        "colab_type": "text"
      },
      "source": [
        "<a href=\"https://colab.research.google.com/github/AndreyKuratov/project_mldm_21/blob/main/MLDM_proj_7_single_NN_train_v5_tp_shift_AnK.ipynb\" target=\"_parent\"><img src=\"https://colab.research.google.com/assets/colab-badge.svg\" alt=\"Open In Colab\"/></a>"
      ]
    },
    {
      "cell_type": "code",
      "execution_count": 3,
      "metadata": {
        "colab": {
          "base_uri": "https://localhost:8080/"
        },
        "id": "B8rX5ePYxoD2",
        "outputId": "0d6608a2-82b9-40bc-ffef-14f367cef604"
      },
      "outputs": [
        {
          "output_type": "stream",
          "name": "stdout",
          "text": [
            "Drive already mounted at /content/drive; to attempt to forcibly remount, call drive.mount(\"/content/drive\", force_remount=True).\n"
          ]
        }
      ],
      "source": [
        "from google.colab import drive\n",
        "drive.mount('/content/drive')"
      ]
    },
    {
      "cell_type": "code",
      "source": [
        "import numpy as np\n",
        "import pandas as pd\n",
        "import matplotlib.pyplot as plt\n",
        "import soundfile as sf\n",
        "import scipy.signal as signal\n",
        "import os\n",
        "from tqdm import tqdm\n",
        "import csv\n",
        "from pathlib import Path\n",
        "from PIL import Image\n",
        "import librosa as lb \n",
        "import librosa.display\n",
        "import IPython.display as ipd\n",
        "from skimage.transform import resize\n",
        "from scipy import stats\n",
        "from sklearn.preprocessing import MinMaxScaler\n",
        "from skimage.transform import resize\n",
        "import torchvision.models as models\n",
        "import torch\n",
        "import torch.nn as nn\n",
        "import torch.optim as optim\n",
        "import torchvision\n",
        "from torchvision import datasets, models, transforms\n",
        "from torch.utils.data import Dataset\n",
        "from torchvision.transforms import ToTensor\n",
        "from torchvision.io import read_image\n",
        "from torch.utils.data import DataLoader\n",
        "\n",
        "import torchvision.models as models\n",
        "import torch\n",
        "\n",
        "import torch.nn as nn\n",
        "import torch.optim as optim\n",
        "import numpy as np\n",
        "import torchvision\n",
        "from torchvision import datasets, models, transforms\n",
        "\n",
        "from sklearn.metrics import label_ranking_average_precision_score"
      ],
      "metadata": {
        "id": "3FVPSiKXxu3W"
      },
      "execution_count": 4,
      "outputs": []
    },
    {
      "cell_type": "markdown",
      "source": [
        "# 2. Функции для загрузки теста и трейна и датасеты"
      ],
      "metadata": {
        "id": "phQ6oAOqLAVv"
      }
    },
    {
      "cell_type": "code",
      "source": [
        "def crtclass(mdTp,num_classes=24, pretrained_resnet18=False,pretrained_resnet50=False):\n",
        "  if mdTp == 'Res18':\n",
        "    modelF = models.resnet18(pretrained=pretrained_resnet18)\n",
        "    modelF.fc = nn.Linear(512, num_classes)\n",
        "  elif mdTp == 'Res34':\n",
        "    modelF = models.resnet34()\n",
        "    modelF.fc = nn.Linear(512, num_classes)\n",
        "  elif mdTp == 'Res50':\n",
        "    modelF = models.resnet50(pretrained=pretrained_resnet50)\n",
        "    modelF.fc = nn.Linear(2048, num_classes)\n",
        "  elif mdTp == 'Alex':\n",
        "    modelF = models.alexnet()\n",
        "    modelF.classifier[6] = nn.Linear(4096,num_classes)\n",
        "  elif mdTp == 'VGG':\n",
        "    modelF = models.vgg16()\n",
        "    modelF.classifier[6] = nn.Linear(4096,num_classes)\n",
        "  elif mdTp == 'Squeez':\n",
        "    modelF = models.squeezenet1_0()\n",
        "    modelF.classifier[1] = nn.Conv2d(512, num_classes, kernel_size=(1,1), stride=(1,1))\n",
        "  elif mdTp == 'Modile_v3':\n",
        "    modelF = models.mobilenet_v3_small()\n",
        "    modelF.classifier[0] = nn.Linear(in_features=576, out_features=4096, bias=True)\n",
        "    modelF.classifier[3] = nn.Linear(4096,num_classes,bias=True)\n",
        "  else:\n",
        "    assert False, 'no model'\n",
        "  return modelF\n",
        "\n",
        "def train_step(model,idata,ilabels,criterion,optimizer,DEVICE):\n",
        "    model.zero_grad()\n",
        "    idata = idata.type(torch.FloatTensor).to(DEVICE)\n",
        "    ilabels = ilabels.type(torch.FloatTensor).to(DEVICE)\n",
        "    train_output = model(idata)\n",
        "    #optimizer.zero_grad()\n",
        "    loss = criterion(train_output, ilabels)\n",
        "    loss.backward()\n",
        "    optimizer.step()\n",
        "    return loss.item()\n",
        "\n",
        "def test_acc(test_loader,model,DEVICE):\n",
        "    def sigmoid(x):\n",
        "      return 1 / (1 + np.exp(-x))\n",
        "\n",
        "    model.eval()\n",
        "    acc_array=[]\n",
        "    labels_output = []\n",
        "    labels_true = []\n",
        "    with torch.no_grad():\n",
        "      for i_test_data, i_test_labels in test_loader:\n",
        "            i_test_data = i_test_data.type(torch.FloatTensor).to(DEVICE)\n",
        "            i_test_labels = i_test_labels.detach().numpy()\n",
        "            test_output = model(i_test_data)\n",
        "            test_output = test_output.cpu().detach().numpy()\n",
        "\n",
        "            labels_true+=list(i_test_labels)\n",
        "            labels_output+=list(test_output)\n",
        "    labels_true = np.array(labels_true)\n",
        "    labels_output = sigmoid(np.array(labels_output))\n",
        "    try:\n",
        "      score = label_ranking_average_precision_score(labels_true, labels_output)\n",
        "    except:\n",
        "      score = 0.0\n",
        "    return score\n",
        "\n",
        "class simpleDataset(Dataset):\n",
        "    def __init__(self, numpy_dataset,numpy_labels,transform=None, target_transform=None):\n",
        "        self.dataset = numpy_dataset\n",
        "        self.labels = numpy_labels\n",
        "        self.length = len(numpy_labels)\n",
        "        self.target_transform = target_transform\n",
        "        self.transform = transform\n",
        "\n",
        "    def __len__(self):\n",
        "        return self.length\n",
        "\n",
        "    def __getitem__(self, idx):\n",
        "        if self.transform != None:\n",
        "          data = self.transform(self.dataset[idx])\n",
        "        else:\n",
        "          data = self.dataset[idx]\n",
        "        if self.target_transform != None:\n",
        "          target = self.target_transform(self.labels[idx])\n",
        "        else:\n",
        "          target = self.labels[idx]\n",
        "        return data, target"
      ],
      "metadata": {
        "id": "A868LNVpK_gZ"
      },
      "execution_count": 5,
      "outputs": []
    },
    {
      "cell_type": "markdown",
      "source": [
        "2б. Аугментации из [RFCX torchvision models augmentation](https://www.kaggle.com/duythanhng/rfcx-torchvision-models-augmentation)"
      ],
      "metadata": {
        "id": "MZyQE_MX7vXB"
      }
    },
    {
      "cell_type": "code",
      "source": [
        "from skimage.transform import resize\n",
        "from skimage.util import random_noise\n",
        "from skimage.filters import gaussian\n",
        "from skimage import exposure\n",
        "import cv2\n",
        "import numpy as np\n",
        "import random\n",
        "\n",
        "class  addNoisy(nn.Module):\n",
        "    def __call__(self, sample):\n",
        "      sample = random_noise(sample)\n",
        "      return sample\n",
        "\n",
        "class  contrast_stretching(nn.Module):\n",
        "    def __call__(self, sample):\n",
        "      sample = np.swapaxes(sample,0,2)\n",
        "      p2, p98 = np.percentile(sample, (2, 98))\n",
        "      sample = exposure.rescale_intensity(sample, in_range=(p2, p98))\n",
        "      sample = np.swapaxes(sample,0,2)\n",
        "      return sample\n",
        "\n",
        "class  log_correction(nn.Module):\n",
        "    def __call__(self, sample):\n",
        "      sample = exposure.adjust_log(sample)\n",
        "      return sample\n",
        "\n",
        "class  randomGaussian(nn.Module):\n",
        "    def __call__(self, sample):\n",
        "      sample = gaussian(sample, sigma=random.randint(0, 3))\n",
        "      return sample\n"
      ],
      "metadata": {
        "id": "xzGE8FLnLMuE"
      },
      "execution_count": 6,
      "outputs": []
    },
    {
      "cell_type": "markdown",
      "source": [
        "# 3. Обучение"
      ],
      "metadata": {
        "id": "B5omQ-xyLQW3"
      }
    },
    {
      "cell_type": "markdown",
      "source": [
        "гиперпараметры обучени"
      ],
      "metadata": {
        "id": "aBGptQ54KHuV"
      }
    },
    {
      "cell_type": "code",
      "source": [
        "BATCH_SIZE = 64\n",
        "LR = 1e-1\n",
        "MOMENTUM = 0.9\n",
        "EPOCH_NUM = 250\n",
        "STEPS = [10,25,40,80,120,160,200,210,220,230,240]\n",
        "\n",
        "GAMMA = 0.3\n",
        "DEVICE = torch.device('cuda' if torch.cuda.is_available() else 'cpu')\n",
        "update_best_models_Flag = True\n",
        "print(DEVICE)"
      ],
      "metadata": {
        "colab": {
          "base_uri": "https://localhost:8080/"
        },
        "id": "aOFmoYC_LSia",
        "outputId": "627d298d-8a7f-4cac-e87f-766751296790"
      },
      "execution_count": 7,
      "outputs": [
        {
          "output_type": "stream",
          "name": "stdout",
          "text": [
            "cuda\n"
          ]
        }
      ]
    },
    {
      "cell_type": "markdown",
      "source": [
        "### Выделение данных для тренировки"
      ],
      "metadata": {
        "id": "8rpUir0sLbuG"
      }
    },
    {
      "cell_type": "markdown",
      "source": [
        "загрузка файлов"
      ],
      "metadata": {
        "id": "RUalpeYXMOeB"
      }
    },
    {
      "cell_type": "code",
      "source": [
        "PATH_TO_DIR = '/content/drive/MyDrive/mldm21_project/'\n",
        "PATH_TO_SAVE = '/content/drive/MyDrive/mldm21_project/'\n",
        "PATH_TO_HELGA = '/content/drive/MyDrive/MLDM_proj/prepared_arrays/'\n",
        "\n",
        "file_mix = '10k_tp_mixed.npz'\n",
        "file_shift = '10k_shift.npz'\n",
        "file_tp = '10k_TP_shift.npz'\n",
        "file_fp = '10k_FP_shift.npz'\n",
        "\n",
        "file_tp_audio_aug_1 = 'pure_train_tp_ShiftGauss.npz'\n",
        "file_tp_audio_aug_2 = 'pure_train_tp_bigGauss.npz'\n",
        "\n",
        "\n",
        "file_tp_audio_aug_3 = 'pure_train_tp_SbG_0.npz'\n",
        "file_tp_audio_aug_4 = 'pure_train_tp_SbG_1.npz'\n",
        "file_tp_audio_aug_5 = 'pure_train_tp_SbG_2.npz'\n",
        "file_tp_audio_aug_6 = 'pure_train_tp_SbG_3.npz'\n",
        "\n",
        "file_tp_audio_aug_7 = 'pure_train_tp_SGP.npz'\n",
        "\n",
        "data_tr = np.load(PATH_TO_SAVE+'pure_train.npz')\n",
        "data_ts = np.load(PATH_TO_SAVE+'pure_test.npz')\n",
        "data_tp_tr = np.load(PATH_TO_SAVE+'pure_tp_train.npz')\n",
        "data_fp_ts = np.load(PATH_TO_SAVE+'pure_fp_test.npz')\n",
        "data_mts = np.load(PATH_TO_SAVE+'MAJOR_test.npz')\n",
        "\n",
        "data_10k_shift = np.load(PATH_TO_HELGA+file_shift)\n",
        "data_10k_mix = np.load(PATH_TO_HELGA+file_mix)\n",
        "\n",
        "data_tp_aug1 =  np.load(PATH_TO_SAVE+file_tp_audio_aug_1)\n",
        "data_tp_aug2 =  np.load(PATH_TO_SAVE+file_tp_audio_aug_2)\n",
        "\n",
        "data_tp_aug3 =  np.load(PATH_TO_SAVE+file_tp_audio_aug_3)\n",
        "data_tp_aug4 =  np.load(PATH_TO_SAVE+file_tp_audio_aug_4)\n",
        "data_tp_aug5 =  np.load(PATH_TO_SAVE+file_tp_audio_aug_5)\n",
        "data_tp_aug6 =  np.load(PATH_TO_SAVE+file_tp_audio_aug_6)\n",
        "\n",
        "data_tp_aug7 =  np.load(PATH_TO_SAVE+file_tp_audio_aug_7)\n",
        "\n",
        "\n",
        "data_10k_tp_shift = np.load(PATH_TO_HELGA+file_tp)\n",
        "data_10k_fp_shift = np.load(PATH_TO_HELGA+file_fp)\n",
        "\n",
        "test_data = data_ts['data']\n",
        "test_labels = data_ts['labels']\n",
        "majot_test_data = data_mts['data']\n",
        "\n",
        "dataset_type = 'unknown'"
      ],
      "metadata": {
        "id": "cn6MFlxnLbDu"
      },
      "execution_count": 8,
      "outputs": []
    },
    {
      "cell_type": "markdown",
      "source": [
        "#### Создание разных датасетов"
      ],
      "metadata": {
        "id": "aUSvJ-vqPrRw"
      }
    },
    {
      "cell_type": "markdown",
      "source": [
        "Все намешено"
      ],
      "metadata": {
        "id": "n6pWZi2Ci6Iq"
      }
    },
    {
      "cell_type": "code",
      "source": [
        "train_data = np.concatenate((data_10k_tp_shift['data'][:1000],data_10k_mix['data'][1000:2000],data_tp_aug2['data'],data_tp_aug4['data'],data_tp_aug6['data'],data_tp_aug7['data']),axis=0)\n",
        "train_labels = np.concatenate((data_10k_tp_shift['labels'][:1000],data_10k_mix['labels'][1000:2000],data_tp_aug2['labels'],data_tp_aug4['labels'],data_tp_aug6['labels'],data_tp_aug7['labels']),axis=0)\n",
        "\n",
        "dataset_type = 'tp_shift_mix+tp_Aug_bG_ShBg_pitch'"
      ],
      "metadata": {
        "id": "wETNp3gPi56c"
      },
      "execution_count": 11,
      "outputs": []
    },
    {
      "cell_type": "code",
      "source": [
        "train_data = np.concatenate((data_10k_mix['data'][1000:2000],data_tp_aug4['data'],data_tp_aug5['data'],data_tp_aug6['data'],data_tp_aug7['data']),axis=0)\n",
        "train_labels = np.concatenate((data_10k_mix['labels'][1000:2000],data_tp_aug4['labels'],data_tp_aug5['labels'],data_tp_aug6['labels'],data_tp_aug7['labels']),axis=0)\n",
        "\n",
        "dataset_type = 'tp_mix_+tp_Aug_ShBg_pitch'"
      ],
      "metadata": {
        "id": "1rZHOmI1oW6H"
      },
      "execution_count": 64,
      "outputs": []
    },
    {
      "cell_type": "markdown",
      "source": [
        "Загрузка данных tp+fp "
      ],
      "metadata": {
        "id": "MJlAgRH4Mf4k"
      }
    },
    {
      "cell_type": "code",
      "source": [
        "train_data = data_tr['data']\n",
        "train_labels = data_tr['labels']\n",
        "\n",
        "\n",
        "dataset_type = 'tp+fp'"
      ],
      "metadata": {
        "id": "vxNbcF7KM_wC"
      },
      "execution_count": null,
      "outputs": []
    },
    {
      "cell_type": "markdown",
      "source": [
        "Загрузка данных tp + fp + shift"
      ],
      "metadata": {
        "id": "Xjkjhtv-sm6_"
      }
    },
    {
      "cell_type": "code",
      "source": [
        "IND1 = 5000\n",
        "IND2 = 8000\n",
        "train_data = np.concatenate((data_tr['data'],data_10k_shift['data'][IND1:IND2]),axis=0)\n",
        "train_labels = np.concatenate((data_tr['labels'],data_10k_shift['labels'][IND1:IND2]),axis=0)\n",
        "\n",
        "dataset_type = 'tp+fp+shift'"
      ],
      "metadata": {
        "id": "kx2AKEqJAE0o"
      },
      "execution_count": null,
      "outputs": []
    },
    {
      "cell_type": "markdown",
      "source": [
        "Загрузка данных tp + shift"
      ],
      "metadata": {
        "id": "hejheyamkCJs"
      }
    },
    {
      "cell_type": "code",
      "source": [
        "IND1 = 5000\n",
        "IND2 = 9000\n",
        "train_data = np.concatenate((data_tp_tr['data'],data_10k_shift['data'][IND1:IND2]),axis=0)\n",
        "train_labels = np.concatenate((data_tp_tr['labels'],data_10k_shift['labels'][IND1:IND2]),axis=0)\n",
        "\n",
        "dataset_type = 'tp+shift'"
      ],
      "metadata": {
        "id": "DkDjWr14kCkg"
      },
      "execution_count": null,
      "outputs": []
    },
    {
      "cell_type": "markdown",
      "source": [
        "tp_shift"
      ],
      "metadata": {
        "id": "k9IOb0X-_c_v"
      }
    },
    {
      "cell_type": "code",
      "source": [
        "IND1 = 0\n",
        "IND2 = 5000\n",
        "train_data = data_10k_tp_shift['data'][IND1:IND2]\n",
        "train_labels = data_10k_tp_shift['labels'][IND1:IND2]\n",
        "\n",
        "dataset_type = 'tp_shift'"
      ],
      "metadata": {
        "id": "DCPs-G7h_SNK"
      },
      "execution_count": 86,
      "outputs": []
    },
    {
      "cell_type": "markdown",
      "source": [
        "fp_shift"
      ],
      "metadata": {
        "id": "1XniUHiU_frd"
      }
    },
    {
      "cell_type": "code",
      "source": [
        "IND1 = 0\n",
        "IND2 = 6000\n",
        "train_data = np.concatenate((data_tr['data'],data_10k_fp_shift['data'][IND1:IND2]),axis=0)\n",
        "train_labels = np.concatenate((data_tr['labels'],data_10k_fp_shift['labels'][IND1:IND2]),axis=0)\n",
        "\n",
        "dataset_type = 'fp_shift'"
      ],
      "metadata": {
        "id": "nveaRUkk_bsd"
      },
      "execution_count": null,
      "outputs": []
    },
    {
      "cell_type": "markdown",
      "source": [
        "Загрузка shift"
      ],
      "metadata": {
        "id": "HtuxIXV8PUQU"
      }
    },
    {
      "cell_type": "code",
      "source": [
        "IND1 = 5000\n",
        "IND2 = 10000\n",
        "train_data = data_10k_shift['data'][IND1:IND2]\n",
        "train_labels = data_10k_shift['labels'][IND1:IND2]\n",
        "\n",
        "dataset_type = 'shift'"
      ],
      "metadata": {
        "id": "xdZ4jxVwPLqY"
      },
      "execution_count": null,
      "outputs": []
    },
    {
      "cell_type": "markdown",
      "source": [
        "Загрузка данных tp + fp + mix"
      ],
      "metadata": {
        "id": "CJtod73yOP0R"
      }
    },
    {
      "cell_type": "code",
      "source": [
        "IND = 4000\n",
        "train_data = np.concatenate((data_tr['data'],data_10k_mix['data'][:IND]),axis=0)\n",
        "train_labels = np.concatenate((data_tr['labels'],data_10k_mix['labels'][:IND]),axis=0)\n",
        "\n",
        "\n",
        "dataset_type = 'tp+fp+mix'"
      ],
      "metadata": {
        "id": "MBAOAyzgONQ2"
      },
      "execution_count": null,
      "outputs": []
    },
    {
      "cell_type": "markdown",
      "source": [
        "Загрузка mix"
      ],
      "metadata": {
        "id": "kENRKEPVPjDy"
      }
    },
    {
      "cell_type": "code",
      "source": [
        "IND = 4000\n",
        "train_data = data_10k_mix['data'][:IND]\n",
        "train_labels = data_10k_mix['labels'][:IND]\n",
        "\n",
        "dataset_type = 'mix'"
      ],
      "metadata": {
        "id": "IAwDc6nHONL8"
      },
      "execution_count": 97,
      "outputs": []
    },
    {
      "cell_type": "markdown",
      "source": [
        "Загрузка АудиоАугментаций"
      ],
      "metadata": {
        "id": "L6KRCcWtbsL0"
      }
    },
    {
      "cell_type": "markdown",
      "source": [
        "частично"
      ],
      "metadata": {
        "id": "fpRm6VZyuzg_"
      }
    },
    {
      "cell_type": "code",
      "source": [
        "\n",
        "train_data = np.concatenate((data_tp_aug1['data'],data_tp_aug2['data']),axis=0)\n",
        "train_labels = np.concatenate((data_tp_aug1['labels'],data_tp_aug2['labels']),axis=0)\n",
        "\n",
        "dataset_type = 'tp_Aug-shiftG+bigG'"
      ],
      "metadata": {
        "id": "pfPYMf1NcMb9"
      },
      "execution_count": null,
      "outputs": []
    },
    {
      "cell_type": "code",
      "source": [
        "train_data = np.concatenate((data_tp_aug5['data'],data_tp_aug7['data']),axis=0)\n",
        "train_labels = np.concatenate((data_tp_aug5['labels'],data_tp_aug7['labels']),axis=0)\n",
        "\n",
        "dataset_type = 'tp_audDiff'"
      ],
      "metadata": {
        "id": "gwvEXqShVn4F"
      },
      "execution_count": null,
      "outputs": []
    },
    {
      "cell_type": "markdown",
      "source": [
        "полная"
      ],
      "metadata": {
        "id": "1HT36z0iu1lE"
      }
    },
    {
      "cell_type": "code",
      "source": [
        "train_data = np.concatenate((data_tp_aug1['data'],data_tp_aug2['data'],data_tp_aug3['data'],data_tp_aug4['data'],data_tp_aug5['data'],data_tp_aug6['data']),axis=0)\n",
        "train_labels = np.concatenate((data_tp_aug1['labels'],data_tp_aug2['labels'],data_tp_aug3['labels'],data_tp_aug4['labels'],data_tp_aug5['labels'],data_tp_aug6['labels']),axis=0)\n",
        "\n",
        "dataset_type = 'tp_Aug_audTotal'"
      ],
      "metadata": {
        "id": "ZQGgfL8htDCr"
      },
      "execution_count": null,
      "outputs": []
    },
    {
      "cell_type": "markdown",
      "source": [
        "полная+tp"
      ],
      "metadata": {
        "id": "wG_zw0lZLqoG"
      }
    },
    {
      "cell_type": "code",
      "source": [
        "train_data = np.concatenate((data_tp_tr['data'],data_tp_aug1['data'],data_tp_aug2['data'],data_tp_aug3['data'],data_tp_aug4['data'],data_tp_aug5['data'],data_tp_aug6['data']),axis=0)\n",
        "train_labels = np.concatenate((data_tp_tr['labels'],data_tp_aug1['labels'],data_tp_aug2['labels'],data_tp_aug3['labels'],data_tp_aug4['labels'],data_tp_aug5['labels'],data_tp_aug6['labels']),axis=0)\n",
        "\n",
        "dataset_type = 'tp+tp_Aug_audTotal'"
      ],
      "metadata": {
        "id": "54q_ALI1LqYd"
      },
      "execution_count": null,
      "outputs": []
    },
    {
      "cell_type": "markdown",
      "source": [
        "полная + fp_2K"
      ],
      "metadata": {
        "id": "yZm2Ba4o2CtC"
      }
    },
    {
      "cell_type": "code",
      "source": [
        "train_data = np.concatenate((data_fp_ts['data'][:2000],data_tp_aug1['data'],data_tp_aug2['data'],data_tp_aug3['data'],data_tp_aug4['data'],data_tp_aug5['data'],data_tp_aug6['data']),axis=0)\n",
        "train_labels = np.concatenate((data_fp_ts['labels'][:2000],data_tp_aug1['labels'],data_tp_aug2['labels'],data_tp_aug3['labels'],data_tp_aug4['labels'],data_tp_aug5['labels'],data_tp_aug6['labels']),axis=0)\n",
        "\n",
        "dataset_type = 'fp_2k+tp_Aug_audTotal'"
      ],
      "metadata": {
        "id": "FuLiCle-2CSj"
      },
      "execution_count": null,
      "outputs": []
    },
    {
      "cell_type": "markdown",
      "source": [
        "частичная аудио, спектральняа и tp"
      ],
      "metadata": {
        "id": "QPyz58VaghVd"
      }
    },
    {
      "cell_type": "code",
      "source": [
        "IND1 = 0\n",
        "IND2 = 3000\n",
        "train_data = np.concatenate((data_10k_fp_shift['data'][IND1:IND2],data_tp_aug1['data'],data_tp_aug2['data'],data_tp_aug3['data'],data_tp_aug4['data']),axis=0)\n",
        "train_labels = np.concatenate((data_10k_fp_shift['labels'][IND1:IND2],data_tp_aug1['labels'],data_tp_aug2['labels'],data_tp_aug3['labels'],data_tp_aug4['labels']),axis=0)\n",
        "\n",
        "dataset_type = 'tp_shift_audAug'"
      ],
      "metadata": {
        "id": "Ob7XRMMBgfcs"
      },
      "execution_count": null,
      "outputs": []
    },
    {
      "cell_type": "markdown",
      "source": [
        "#### Создание предтрансформаций"
      ],
      "metadata": {
        "id": "oIw0b3yJPvn_"
      }
    },
    {
      "cell_type": "code",
      "source": [
        "img_transform = torch.nn.Sequential(\n",
        "                                    addNoisy(),\n",
        "                                    contrast_stretching(),\n",
        "                                    log_correction(),\n",
        "                                    randomGaussian())\n",
        "transform_type = '_aNcSlCrG'"
      ],
      "metadata": {
        "id": "sYFhja2w7lpq"
      },
      "execution_count": null,
      "outputs": []
    },
    {
      "cell_type": "code",
      "source": [
        "img_transform = torch.nn.Sequential(\n",
        "                                    contrast_stretching(),\n",
        "                                    log_correction()\n",
        "                                    )\n",
        "transform_type = '_cSlC'"
      ],
      "metadata": {
        "id": "L3Ywgbs0VCIt"
      },
      "execution_count": null,
      "outputs": []
    },
    {
      "cell_type": "code",
      "source": [
        "img_transform = torch.nn.Sequential(\n",
        "                                    addNoisy(),\n",
        "                                    randomGaussian())\n",
        "transform_type = '_aNrG'"
      ],
      "metadata": {
        "id": "OU1x0wQfVB9-"
      },
      "execution_count": 19,
      "outputs": []
    },
    {
      "cell_type": "code",
      "source": [
        "img_transform = torch.nn.Sequential(\n",
        "                                     log_correction())\n",
        "transform_type = '_lC'"
      ],
      "metadata": {
        "id": "-947qhMLVEtY"
      },
      "execution_count": null,
      "outputs": []
    },
    {
      "cell_type": "code",
      "source": [
        "img_transform = torch.nn.Sequential(\n",
        "                                    randomGaussian())\n",
        "transform_type = '_rG'"
      ],
      "metadata": {
        "id": "my2bM8kNyQkw"
      },
      "execution_count": 26,
      "outputs": []
    },
    {
      "cell_type": "markdown",
      "source": [
        "#### Datasets"
      ],
      "metadata": {
        "id": "OSiYq6SfHaAu"
      }
    },
    {
      "cell_type": "markdown",
      "source": [
        "с"
      ],
      "metadata": {
        "id": "wyWL_pS1QGYC"
      }
    },
    {
      "cell_type": "code",
      "source": [
        "train_dataset = simpleDataset(train_data,train_labels,transform=img_transform)\n",
        "test_dataset = simpleDataset(test_data,test_labels)\n",
        "dataset_type_final = dataset_type + transform_type"
      ],
      "metadata": {
        "id": "UNTlJPrJ7nj2"
      },
      "execution_count": 27,
      "outputs": []
    },
    {
      "cell_type": "markdown",
      "source": [
        "без"
      ],
      "metadata": {
        "id": "-4PNiynbQE7f"
      }
    },
    {
      "cell_type": "code",
      "source": [
        "train_dataset = simpleDataset(train_data,train_labels)\n",
        "test_dataset = simpleDataset(test_data,test_labels)\n",
        "\n",
        "dataset_type_final = dataset_type"
      ],
      "metadata": {
        "id": "n5j6R31LS6uY"
      },
      "execution_count": 98,
      "outputs": []
    },
    {
      "cell_type": "markdown",
      "source": [
        "#### Dataloaders"
      ],
      "metadata": {
        "id": "2F8xkRBtP1EK"
      }
    },
    {
      "cell_type": "code",
      "source": [
        "train_loader = DataLoader(train_dataset, batch_size=BATCH_SIZE, shuffle=True)\n",
        "test_loader = DataLoader(test_dataset, batch_size=BATCH_SIZE, shuffle=False)"
      ],
      "metadata": {
        "id": "EjZ_ciXOVAH5"
      },
      "execution_count": 99,
      "outputs": []
    },
    {
      "cell_type": "markdown",
      "source": [
        ""
      ],
      "metadata": {
        "id": "-HalOm9wrkfE"
      }
    },
    {
      "cell_type": "markdown",
      "source": [
        "### Создание сеток"
      ],
      "metadata": {
        "id": "asUseKHjUPFU"
      }
    },
    {
      "cell_type": "code",
      "source": [
        "import torch.optim as optim\n",
        "\n",
        "model_18 = crtclass('Res18',pretrained_resnet18=True).to(DEVICE)\n",
        "best_model_18 = crtclass('Res18',pretrained_resnet18=True)\n",
        "criterion_18 = nn.BCEWithLogitsLoss()\n",
        "optimizer_18 = optim.SGD(model_18.parameters(), lr=LR, momentum=MOMENTUM)\n",
        "scheduler_18 = optim.lr_scheduler.MultiStepLR(optimizer_18, milestones=STEPS, gamma=GAMMA)\n",
        "\n",
        "# model_50 = crtclass('Res50',pretrained_resnet50=True).to(DEVICE)\n",
        "# best_model_50 = crtclass('Res50')\n",
        "# criterion_50 = nn.BCEWithLogitsLoss()\n",
        "# optimizer_50 = optim.SGD(model_50.parameters(), lr=LR, momentum=MOMENTUM)\n",
        "\n",
        "# scheduler_50 = optim.lr_scheduler.MultiStepLR(optimizer_50, milestones=STEPS, gamma=GAMMA)\n"
      ],
      "metadata": {
        "id": "m3eFWlJ6UOgL"
      },
      "execution_count": 45,
      "outputs": []
    },
    {
      "cell_type": "code",
      "source": [
        "imodel = model_18\n",
        "icriterion = criterion_18\n",
        "ioptimizer = optimizer_18\n",
        "ibest_model = best_model_18\n",
        "inamne = 'Res18pt'\n",
        "ischeduler = scheduler_18\n",
        "max_score = 0"
      ],
      "metadata": {
        "id": "mpYhtxOcmX8E"
      },
      "execution_count": 46,
      "outputs": []
    },
    {
      "cell_type": "markdown",
      "source": [
        "Загрузка отдельной модели"
      ],
      "metadata": {
        "id": "_E9GEwQZbot_"
      }
    },
    {
      "cell_type": "code",
      "source": [
        "imodel = model_50\n",
        "icriterion = criterion_50\n",
        "ioptimizer = optimizer_50\n",
        "ibest_model = best_model_50\n",
        "inamne = 'Res50pt'\n",
        "ischeduler = scheduler_50\n",
        "max_score = 0"
      ],
      "metadata": {
        "id": "BmZV-ar0bRor"
      },
      "execution_count": null,
      "outputs": []
    },
    {
      "cell_type": "markdown",
      "source": [
        ""
      ],
      "metadata": {
        "id": "3CpCOf4QjL7D"
      }
    },
    {
      "cell_type": "code",
      "source": [
        "PATH_TO_MODEL = '/content/drive/MyDrive/mldm21_project/model_Res50pt_epoch_100_level_tpfpshiht4k_pretraind'\n",
        "PATH_TO_MODEL = '/content/drive/MyDrive/mldm21_project/model_Res18_epoch_100_level_tpfpshiht4k_pretraind'\n",
        "PATH_TO_MODEL = '/content/drive/MyDrive/mldm21_project/model_Res18_audSt'\n",
        "\n",
        "model = crtclass('Res18')\n",
        "model.load_state_dict(torch.load(PATH_TO_MODEL))\n",
        "model.eval();\n",
        "model.to(DEVICE);"
      ],
      "metadata": {
        "id": "pQKdFypClSn2"
      },
      "execution_count": 100,
      "outputs": []
    },
    {
      "cell_type": "code",
      "source": [
        "import copy\n",
        "\n",
        "EPOCH_NUM = 210\n",
        "LR = 1e-4\n",
        "MOMENTUM = 0.9\n",
        "STEPS = [20,40,100,120,150]\n",
        "GAMMA = 0.3\n",
        "WD = 0.1\n",
        "inamne = 'Res18_audSt_057'\n",
        "\n",
        "imodel = model\n",
        "max_score = 0\n",
        "ibest_model = copy.deepcopy(imodel)\n",
        "\n",
        "icriterion = nn.BCEWithLogitsLoss()\n",
        "#ioptimizer = optim.SGD(imodel.parameters(), lr=LR, momentum=MOMENTUM,weight_decay=WD)\n",
        "ioptimizer = optim.Adam(imodel.parameters(), lr=LR)\n",
        "\n",
        "#ischeduler = optim.lr_scheduler.ReduceLROnPlateau(ioptimizer, 'min', factor=0.1, patience=3)\n",
        "ischeduler = optim.lr_scheduler.MultiStepLR(ioptimizer, milestones=STEPS, gamma=GAMMA)"
      ],
      "metadata": {
        "id": "9Y23cqZIjLf6"
      },
      "execution_count": 101,
      "outputs": []
    },
    {
      "cell_type": "markdown",
      "source": [
        "### Обучение"
      ],
      "metadata": {
        "id": "cIMXF-drAXSf"
      }
    },
    {
      "cell_type": "code",
      "source": [
        "max_score = 0"
      ],
      "metadata": {
        "id": "98VH9tEpTbrF"
      },
      "execution_count": 102,
      "outputs": []
    },
    {
      "cell_type": "code",
      "source": [
        "import copy \n",
        "from IPython import display\n",
        "from tqdm.notebook import trange, tqdm\n",
        "\n",
        "loss_arr = []\n",
        "test_score_array = []\n",
        "\n",
        "\n",
        "for iepoch in tqdm(range(EPOCH_NUM),desc='epoch step'):\n",
        "  inter_loss_arr = []\n",
        "\n",
        "  imodel.train()\n",
        "  epoch_loss_arr = []\n",
        "  epoch_test_acc = []\n",
        "\n",
        "  for idata, ilabels in tqdm(train_loader,desc='train loader'):\n",
        "    cur_loss = train_step(imodel,idata,ilabels,icriterion,ioptimizer,DEVICE)\n",
        "    epoch_loss_arr.append(cur_loss)\n",
        "  loss_arr.append(np.mean(epoch_loss_arr))\n",
        "  \n",
        "\n",
        "  score_cur = test_acc(test_loader,imodel,DEVICE)\n",
        "\n",
        "  test_score_array.append(score_cur)\n",
        "  if (score_cur > max_score) and (update_best_models_Flag):\n",
        "    max_score=score_cur\n",
        "    sd = imodel.state_dict()\n",
        "    ibest_model.load_state_dict(sd)\n",
        "\n",
        "  strOUT_1 = 'eph.: {:} '.format(iepoch)\n",
        "  strOUT_2 = 'loss: {:.3}'.format(loss_arr[-1])\n",
        "  strOUT_4 =  'best score. : {:.3}'.format(max_score)\n",
        "  strOUT_5 = 'lr: {:}'.format(ischeduler.get_last_lr())\n",
        "\n",
        "  # plot figures in epoch\n",
        "  loss_arr_np = np.array(loss_arr)\n",
        "  test_score_array_np = np.array(test_score_array)\n",
        "\n",
        "  plt.figure(figsize=(12,4))\n",
        "  plt.subplot(1,2,1)\n",
        "  plt.suptitle(strOUT_1+' '+strOUT_2+' '+strOUT_4 + '\\n'+ strOUT_5)\n",
        "  plt.title('loss')\n",
        "  plt.xlabel('Epoch')\n",
        "  plt.ylabel('loss')\n",
        "  plt.yscale('log')\n",
        "  plt.plot(loss_arr_np,label=inamne)\n",
        "  plt.legend()\n",
        "  plt.subplot(1,2,2)\n",
        "  plt.title('score LRAP')\n",
        "  plt.xlabel('Epoch')\n",
        "  plt.ylabel('test score')\n",
        "  plt.plot(test_score_array_np,label=inamne+' '+dataset_type_final)\n",
        "  plt.legend()\n",
        "\n",
        "  display.clear_output(wait=True)\n",
        "  display.display(plt.gcf())\n",
        "  #ischeduler.step(cur_loss)\n",
        "  ischeduler.step()"
      ],
      "metadata": {
        "colab": {
          "base_uri": "https://localhost:8080/",
          "height": 1000,
          "referenced_widgets": [
            "fa280db3de7d487a9ef9a7a82140c05f",
            "194ba2612af4483bb0b94e3cd26221ba",
            "88d8a050edb24a6d83906db24ed8f5c7",
            "3e67b00712514fbdb4a7ed4d7a8b9819",
            "e8db1a85b97a4409ad85a422fc7edd3b",
            "cd45b6c5d46d424e9a7c6ccfc204baea",
            "a004c40fa0ea41868cff501e1a90cdc5",
            "d8d0c52c34a14ec693f42d8ad587e873",
            "f74e41c054e841bf89a5a94ec03b0b0e",
            "56e56d3fb3e240fba50ea963889069fb",
            "5ff0887c04f54d918ba31670025fda9c",
            "bb40579ceae2468a81c73a6be50e8434",
            "b7a813e857e74754a685e1be8f1ca433",
            "729f5e897887468e90418e5792b2ac51",
            "e3f811ad0ad3432b89e731aab44247a3",
            "3df3b3ddbd2a437a9588109432cc56e2",
            "58c0aae00629473d85e53ef1c39490b8",
            "221f53132f964cb8bc345fc25bb6703e",
            "49b74e9cf3754e4188a8bcb2a8118c32",
            "2bcf3f61755f48d7b9df51f64735990f",
            "955c72879bed44acb433eced614f62dd",
            "f3e7d3e6cb204f428d47f56bc05e0ec8",
            "cdf7ffcbd5a8498b8fc3fd3609ab77b0",
            "e75df7e1b90944f0ab1896a9a5ea645f",
            "85a17c62ed75480680cf21359cf0bdc0",
            "24c1036282b5497c93885a51f69b63a0",
            "eecccd95eaf648a88d57e009abd6fa96",
            "577c0b8cb51c4a76b75bd8ba69a77c4f",
            "b7d3cfa3cb7b40f9a8b55533d2dbe797",
            "b459df22479b4a3c896f2112fa1f3636",
            "c77f9f834bbe4f36bf5633a73795bb09",
            "e799edb0b1544643840e21cebf7cae52",
            "6cd242a1b924460a927de58eec680de9",
            "4055a76d39a94b37a8d12879ce616667",
            "8f25b4c137b54fc8b0002b8708fe3db3",
            "0d99a869e49a40e1a3812985e7ed33fc",
            "5324e709160d411ca3f6df680dd735bb",
            "6356889cabae4659bea7b53150a9f42a",
            "2bed0a8c1b3f4e74b4a95aaa8380c613",
            "9e23b9a0f89e47d8a42271b13dad21ca",
            "3a77c4da51984b5fa5f1dcfd494cccfe",
            "27e33c9b8a104d7f8512415500eeb328",
            "206cd85ebdb64f68bb68b64489ab4f1c",
            "43b3c8e8bb1c4d599f70b07e10ea7761",
            "16f8fba5c47d4a65ab8f9009932844b2",
            "7d8c03892c4841a49845bb1eeae9d31c",
            "cd902e9b3063426e8e1d139e435cbd7c",
            "9077f7a7ab8748d2b1ad4b0eb208d103",
            "ca37238dafcf435ab489cf0c7d40aa40",
            "cfc79c4520c8441584d8cd3b50983f68",
            "f0f2fa8ad656433da24a49395100e22d",
            "2d21730a3da543449853759f8eb3ed4d",
            "d6da8e154bce4d9aa075ed64554dfc88",
            "ec9dd209fe404229bc730f0ec5726bc9",
            "c688cb41aa79448a8c729e11b656606d",
            "0a4f8f9935304c6da9d0dc8f5920b91f",
            "bdecab7d1abe4527b2b37802fa820fbd",
            "f3e097c59979495295423dff85cb7774",
            "2149cc33d78446f3b0796c3dcda7faf7",
            "f2d7cf713e9e49cba12c768348839638",
            "14db362f9d8e418381ef4ea25b85cda3",
            "b3489a4eecb343f5bfe36ee30f9c03cd",
            "12db61b998624665a5d796cf5c6707f1",
            "7e8887518ebc464bb68ff92fa7bcdabb",
            "5c3d4afe336d4398a92c8fa7487f3931",
            "df04b867e1194beba07ae2261f39d9e0",
            "5f20c377e5df4560b359f52af3f26be1",
            "c160648d4d454c02a5127b7878c0a8f8",
            "35ba9e4964224ef187f7b38a9f3e8c63",
            "259a7621c59e462dadbf6beb8d1043c2",
            "ea44dac143e04563b1e46c3d3a554951",
            "97515fdcb3344544ae7d69619bdadc2d",
            "b0ac20a5f03544c98b8b7b8d17a43435",
            "c884a6dde4544a45b30976e21817f408",
            "e55c847dc10743bf82ebdb56db4b951d",
            "c0117fdf2c2a46db9df544f3a82a9184",
            "d02853a4efad498b977a23cb2dd22e05",
            "bd445df1e65a48ca8aad440b50bdf55e",
            "5c5e59df82d54d6680e1315b326361c4",
            "1c26d70238374186a94d1689066327dd",
            "07e6415c33ba4377b44ed00d13eeb26a",
            "350e51ad843944e2ab0cc911bffcb629",
            "43ca3d3c7e5c45d1979199bd12493a65",
            "926d306f1fe34371bd593ee5ee27e9a0",
            "dd624d3ee795468c918052dcf887f6f3",
            "e5f6169b54924fea8810dcfc6a9b08e9",
            "8a8017a20a284eeb8b28401f32c9a617",
            "d568b17250b145cb8a807249fd84e574",
            "17a05d5c8de947a3b35efac887d0ab50",
            "cfc409d35bdd4444ba16ebbf03d5babb",
            "46285903a1854a6a80f63685f6c52b40",
            "16ea5b35ed264762aaff2873936b9e84",
            "8c15424d83c745d2bb89a1e7bf02877f",
            "e89a5aca069746bd815c71cb703b9aa0",
            "611f772d21ba4c068c266fde3fc1d9a5",
            "2322221b12d740288138ff69a50f42a3",
            "a61d74df817f4dc5bbe68f2d76ca74be",
            "83d107de17d04e9bae10cb6b39e07ce4",
            "f777563d6a3c4ef4a90ab0292bde6f03",
            "87afb1182eb6466eb76f17abbce4411b",
            "74ba753fffdc4e20b697f77d8e7fcf01",
            "36f42d24064e4e65b3211d968ec58b7f",
            "b3f2ad1c20964a1a8588cc4036e5a0df",
            "e2aa9dcb182c4ee8ba762e6fd3657c1b",
            "c117a22b71014cd9b4b3adfd57232005",
            "6542c88f28234b628e4d59f1e1752b2a",
            "a8ea09cc30a043f78df09b9e9000903a",
            "8d3afe99103f4fd89419d21ba8e380d7",
            "5c4d0075cd244f6b86bef871ccf87c1c",
            "7dba09a42fb447c8b62126756e83a246",
            "5018dcea1d10435a8609eee3a12d03dd",
            "13189134d36e4ee19ab6485ba189fb10",
            "a4ff11c72b194a5ba981944d9c64c962",
            "ec20b29a734849739f7aa28180bc631d",
            "cce80bf59dcf467d9ce051cc43714716",
            "c4ce88b426504c8b947943fa4d35efaa",
            "4a2a4d1fa45e48348b1f83e66dc64ed7",
            "e2b29e24b7924d50be807c388afaf8fe",
            "c7455f385d1b4836b5dbbb509e4efb6d",
            "48979682c3624dddb12b825591d8ddb5",
            "9050d3c34ce240dcb50a2fce65ac571b"
          ]
        },
        "id": "gyUkuA06QM9q",
        "outputId": "858d4308-5335-4a6e-d6f0-d4bc10072c0e"
      },
      "execution_count": 103,
      "outputs": [
        {
          "output_type": "display_data",
          "data": {
            "image/png": "[encoded data removed]",
            "text/plain": [
              "<Figure size 864x288 with 2 Axes>"
            ]
          },
          "metadata": {}
        },
        {
          "output_type": "display_data",
          "data": {
            "application/vnd.jupyter.widget-view+json": {
              "model_id": "5018dcea1d10435a8609eee3a12d03dd",
              "version_minor": 0,
              "version_major": 2
            },
            "text/plain": [
              "train loader:   0%|          | 0/63 [00:00<?, ?it/s]"
            ]
          },
          "metadata": {}
        },
        {
          "output_type": "error",
          "ename": "KeyboardInterrupt",
          "evalue": "ignored",
          "traceback": [
            "\u001b[0;31m---------------------------------------------------------------------------\u001b[0m",
            "\u001b[0;31mKeyboardInterrupt\u001b[0m                         Traceback (most recent call last)",
            "\u001b[0;32m<ipython-input-103-5d1f52c5f951>\u001b[0m in \u001b[0;36m<module>\u001b[0;34m()\u001b[0m\n\u001b[1;32m     15\u001b[0m \u001b[0;34m\u001b[0m\u001b[0m\n\u001b[1;32m     16\u001b[0m   \u001b[0;32mfor\u001b[0m \u001b[0midata\u001b[0m\u001b[0;34m,\u001b[0m \u001b[0milabels\u001b[0m \u001b[0;32min\u001b[0m \u001b[0mtqdm\u001b[0m\u001b[0;34m(\u001b[0m\u001b[0mtrain_loader\u001b[0m\u001b[0;34m,\u001b[0m\u001b[0mdesc\u001b[0m\u001b[0;34m=\u001b[0m\u001b[0;34m'train loader'\u001b[0m\u001b[0;34m)\u001b[0m\u001b[0;34m:\u001b[0m\u001b[0;34m\u001b[0m\u001b[0;34m\u001b[0m\u001b[0m\n\u001b[0;32m---> 17\u001b[0;31m     \u001b[0mcur_loss\u001b[0m \u001b[0;34m=\u001b[0m \u001b[0mtrain_step\u001b[0m\u001b[0;34m(\u001b[0m\u001b[0mimodel\u001b[0m\u001b[0;34m,\u001b[0m\u001b[0midata\u001b[0m\u001b[0;34m,\u001b[0m\u001b[0milabels\u001b[0m\u001b[0;34m,\u001b[0m\u001b[0micriterion\u001b[0m\u001b[0;34m,\u001b[0m\u001b[0mioptimizer\u001b[0m\u001b[0;34m,\u001b[0m\u001b[0mDEVICE\u001b[0m\u001b[0;34m)\u001b[0m\u001b[0;34m\u001b[0m\u001b[0;34m\u001b[0m\u001b[0m\n\u001b[0m\u001b[1;32m     18\u001b[0m     \u001b[0mepoch_loss_arr\u001b[0m\u001b[0;34m.\u001b[0m\u001b[0mappend\u001b[0m\u001b[0;34m(\u001b[0m\u001b[0mcur_loss\u001b[0m\u001b[0;34m)\u001b[0m\u001b[0;34m\u001b[0m\u001b[0;34m\u001b[0m\u001b[0m\n\u001b[1;32m     19\u001b[0m   \u001b[0mloss_arr\u001b[0m\u001b[0;34m.\u001b[0m\u001b[0mappend\u001b[0m\u001b[0;34m(\u001b[0m\u001b[0mnp\u001b[0m\u001b[0;34m.\u001b[0m\u001b[0mmean\u001b[0m\u001b[0;34m(\u001b[0m\u001b[0mepoch_loss_arr\u001b[0m\u001b[0;34m)\u001b[0m\u001b[0;34m)\u001b[0m\u001b[0;34m\u001b[0m\u001b[0;34m\u001b[0m\u001b[0m\n",
            "\u001b[0;32m<ipython-input-5-219a6a991624>\u001b[0m in \u001b[0;36mtrain_step\u001b[0;34m(model, idata, ilabels, criterion, optimizer, DEVICE)\u001b[0m\n\u001b[1;32m     35\u001b[0m     \u001b[0mloss\u001b[0m\u001b[0;34m.\u001b[0m\u001b[0mbackward\u001b[0m\u001b[0;34m(\u001b[0m\u001b[0;34m)\u001b[0m\u001b[0;34m\u001b[0m\u001b[0;34m\u001b[0m\u001b[0m\n\u001b[1;32m     36\u001b[0m     \u001b[0moptimizer\u001b[0m\u001b[0;34m.\u001b[0m\u001b[0mstep\u001b[0m\u001b[0;34m(\u001b[0m\u001b[0;34m)\u001b[0m\u001b[0;34m\u001b[0m\u001b[0;34m\u001b[0m\u001b[0m\n\u001b[0;32m---> 37\u001b[0;31m     \u001b[0;32mreturn\u001b[0m \u001b[0mloss\u001b[0m\u001b[0;34m.\u001b[0m\u001b[0mitem\u001b[0m\u001b[0;34m(\u001b[0m\u001b[0;34m)\u001b[0m\u001b[0;34m\u001b[0m\u001b[0;34m\u001b[0m\u001b[0m\n\u001b[0m\u001b[1;32m     38\u001b[0m \u001b[0;34m\u001b[0m\u001b[0m\n\u001b[1;32m     39\u001b[0m \u001b[0;32mdef\u001b[0m \u001b[0mtest_acc\u001b[0m\u001b[0;34m(\u001b[0m\u001b[0mtest_loader\u001b[0m\u001b[0;34m,\u001b[0m\u001b[0mmodel\u001b[0m\u001b[0;34m,\u001b[0m\u001b[0mDEVICE\u001b[0m\u001b[0;34m)\u001b[0m\u001b[0;34m:\u001b[0m\u001b[0;34m\u001b[0m\u001b[0;34m\u001b[0m\u001b[0m\n",
            "\u001b[0;31mKeyboardInterrupt\u001b[0m: "
          ]
        },
        {
          "output_type": "display_data",
          "data": {
            "image/png": "[encoded data removed]",
            "text/plain": [
              "<Figure size 864x288 with 2 Axes>"
            ]
          },
          "metadata": {
            "needs_background": "light"
          }
        },
        {
          "output_type": "display_data",
          "data": {
            "image/png": "[encoded data removed]",
            "text/plain": [
              "<Figure size 864x288 with 2 Axes>"
            ]
          },
          "metadata": {
            "needs_background": "light"
          }
        },
        {
          "output_type": "display_data",
          "data": {
            "image/png": "[encoded data removed]",
            "text/plain": [
              "<Figure size 864x288 with 2 Axes>"
            ]
          },
          "metadata": {
            "needs_background": "light"
          }
        },
        {
          "output_type": "display_data",
          "data": {
            "image/png": "[encoded data removed]",
            "text/plain": [
              "<Figure size 864x288 with 2 Axes>"
            ]
          },
          "metadata": {
            "needs_background": "light"
          }
        },
        {
          "output_type": "display_data",
          "data": {
            "image/png": "[encoded data removed]",
            "text/plain": [
              "<Figure size 864x288 with 2 Axes>"
            ]
          },
          "metadata": {
            "needs_background": "light"
          }
        },
        {
          "output_type": "display_data",
          "data": {
            "image/png": "[encoded data removed]",
            "text/plain": [
              "<Figure size 864x288 with 2 Axes>"
            ]
          },
          "metadata": {
            "needs_background": "light"
          }
        },
        {
          "output_type": "display_data",
          "data": {
            "image/png": "[encoded data removed]",
            "text/plain": [
              "<Figure size 864x288 with 2 Axes>"
            ]
          },
          "metadata": {
            "needs_background": "light"
          }
        },
        {
          "output_type": "display_data",
          "data": {
            "image/png": "[encoded data removed]",
            "text/plain": [
              "<Figure size 864x288 with 2 Axes>"
            ]
          },
          "metadata": {
            "needs_background": "light"
          }
        },
        {
          "output_type": "display_data",
          "data": {
            "image/png": "[encoded data removed]",
            "text/plain": [
              "<Figure size 864x288 with 2 Axes>"
            ]
          },
          "metadata": {
            "needs_background": "light"
          }
        }
      ]
    },
    {
      "cell_type": "markdown",
      "source": [
        "### Сохранение модели"
      ],
      "metadata": {
        "id": "QNUbTCQDAZ75"
      }
    },
    {
      "cell_type": "code",
      "source": [
        "# types of generation\n",
        "# -1 - train only TP data with single label\n",
        "# 0  - train only TP data\n",
        "# 1  - train TP&FP data\n",
        "# 2  - inside record augmented data\n",
        "# 3  - outside record augmented data\n",
        "\n",
        "generation = 'tpfpshiht4k_pretraind'\n",
        "\n",
        "for idx,inamne in enumerate(ModelNames):\n",
        "  PATH = '/content/drive/MyDrive/mldm21_project/'\n",
        "  torch.save(best_models_arr[idx].state_dict(), PATH+'model_{}_epoch_{:}_level_{}'.format(inamne,EPOCH_NUM,generation))\n"
      ],
      "metadata": {
        "id": "lx6f5VJborOH"
      },
      "execution_count": null,
      "outputs": []
    },
    {
      "cell_type": "code",
      "source": [
        "PATH = '/content/drive/MyDrive/mldm21_project/'\n",
        "modelNname = 'model_Res18_temp_2'\n",
        "#torch.save(ibest_model.state_dict(), PATH+modelNname)\n",
        "torch.save(imodel.state_dict(), PATH+modelNname)"
      ],
      "metadata": {
        "id": "8LUgjeVi_1AA"
      },
      "execution_count": 105,
      "outputs": []
    },
    {
      "cell_type": "code",
      "source": [
        "PATH_TO_MODEL = '/content/drive/MyDrive/mldm21_project/model_Res18_temp_2'\n",
        "\n",
        "\n",
        "model = crtclass('Res18')\n",
        "model.load_state_dict(torch.load(PATH_TO_MODEL))\n",
        "model.eval();\n",
        "model.to(DEVICE);"
      ],
      "metadata": {
        "id": "b5tf3OjD3a2p"
      },
      "execution_count": 110,
      "outputs": []
    },
    {
      "cell_type": "code",
      "source": [
        "score_cur = test_acc(test_loader,model,DEVICE)\n",
        "print('SCORE: {:.4}'.format(score_cur))"
      ],
      "metadata": {
        "id": "1hIK6SJO377q",
        "colab": {
          "base_uri": "https://localhost:8080/"
        },
        "outputId": "2ed8f6b4-7a09-49d5-ec5d-e7241cdd6128"
      },
      "execution_count": 111,
      "outputs": [
        {
          "output_type": "stream",
          "name": "stdout",
          "text": [
            "SCORE: 0.6394\n"
          ]
        }
      ]
    },
    {
      "cell_type": "markdown",
      "source": [
        "### Создание файлов с результатами"
      ],
      "metadata": {
        "id": "tlquQnxB7O7i"
      }
    },
    {
      "cell_type": "code",
      "source": [
        "def sigmoid(x):\n",
        "  return 1 / (1 + np.exp(-x))\n",
        "\n",
        "majot_test_data = data_mts['data']\n",
        "majot_test_labels = data_mts['files']\n",
        "i_num = len(majot_test_labels)\n",
        "columns = ['recording_id'] + [ 's'+str(inm)  for inm in range(24)]\n",
        "\n",
        "results = []\n",
        "\n",
        "\n",
        "for indx in tqdm(range(i_num)):\n",
        "  idata = torch.Tensor([majot_test_data[indx]]).to(DEVICE)\n",
        "  output = model(idata).cpu().detach().numpy()\n",
        "  out_sigm = sigmoid(output)\n",
        "  results.append(out_sigm)\n",
        "\n"
      ],
      "metadata": {
        "colab": {
          "base_uri": "https://localhost:8080/",
          "height": 49,
          "referenced_widgets": [
            "44aaf3899f7d4cb3aae39047f29aecb2",
            "e5cff2894f914c239937a3b0fc8fd4ad",
            "46071efb78c64f26bef1edef7c1df74c",
            "336eb6d84121412385f84045d1b41845",
            "52039fd6348b4eff9f5175b44d8af98f",
            "445fb61679cb4ab6a68bd111fa176fce",
            "6e59cb5266244fd69e1e34098e69b803",
            "23991afd476144a69c41d35def6cf1e0",
            "e1ae48b7502543489b9c84c8d46f994d",
            "618f5e25ac2341d191b56dd0a3f220b3",
            "d1f3beeeff84424988e399ee4f6986ec"
          ]
        },
        "id": "F7AWmrvd4mpA",
        "outputId": "89d443ae-44d9-4562-c130-64c6cf89a070"
      },
      "execution_count": 112,
      "outputs": [
        {
          "output_type": "display_data",
          "data": {
            "application/vnd.jupyter.widget-view+json": {
              "model_id": "44aaf3899f7d4cb3aae39047f29aecb2",
              "version_minor": 0,
              "version_major": 2
            },
            "text/plain": [
              "  0%|          | 0/1992 [00:00<?, ?it/s]"
            ]
          },
          "metadata": {}
        }
      ]
    },
    {
      "cell_type": "code",
      "source": [
        "File_csv = 'model_Res18_temp_2'\n",
        "PATH_TO_SAVE_RESULTS = '/content/drive/MyDrive/mldm21_project/{}.csv'.format(File_csv)\n",
        "\n",
        "\n",
        "res_np = np.squeeze(np.array(results))\n",
        "dict_to_save = {columns[i+1] : res_np[:,i] for i in range(24)} \n",
        "dict_to_save['recording_id'] = majot_test_labels\n",
        "DF_result = pd.DataFrame(dict_to_save,columns=columns)\n",
        "DF_result.to_csv(PATH_TO_SAVE_RESULTS,index=False)"
      ],
      "metadata": {
        "id": "0AatXnQM61T7"
      },
      "execution_count": 113,
      "outputs": []
    },
    {
      "cell_type": "markdown",
      "source": [
        "\n",
        "\n",
        "> * **Submitted**: model_Res18_epoch_30_level_1_result.csv\n",
        "* **score** : 0.52114\n",
        "\n",
        "\n"
      ],
      "metadata": {
        "id": "CNS-4QQj_bfu"
      }
    },
    {
      "cell_type": "code",
      "source": [
        "import gc\n",
        "gc.collect()"
      ],
      "metadata": {
        "id": "XFtThAL5_5Xw",
        "colab": {
          "base_uri": "https://localhost:8080/"
        },
        "outputId": "9293b05e-d638-43b9-cbcd-8cb15f6875c4"
      },
      "execution_count": null,
      "outputs": [
        {
          "output_type": "execute_result",
          "data": {
            "text/plain": [
              "0"
            ]
          },
          "metadata": {},
          "execution_count": 20
        }
      ]
    },
    {
      "cell_type": "code",
      "source": [
        "torch.cuda.empty_cache()"
      ],
      "metadata": {
        "id": "br7i5Tr7_9uj"
      },
      "execution_count": null,
      "outputs": []
    },
    {
      "cell_type": "code",
      "source": [
        "ischeduler.get_last_lr()"
      ],
      "metadata": {
        "id": "Zcr8NEuf_-r6",
        "colab": {
          "base_uri": "https://localhost:8080/"
        },
        "outputId": "ec046b34-540c-41b7-f7b6-0da703507716"
      },
      "execution_count": null,
      "outputs": [
        {
          "output_type": "execute_result",
          "data": {
            "text/plain": [
              "0.001"
            ]
          },
          "metadata": {},
          "execution_count": 33
        }
      ]
    },
    {
      "cell_type": "code",
      "source": [
        ""
      ],
      "metadata": {
        "id": "zVYF-tbFOYpv"
      },
      "execution_count": null,
      "outputs": []
    }
  ]
}